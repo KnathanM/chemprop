{
 "cells": [
  {
   "cell_type": "markdown",
   "metadata": {},
   "source": [
    "# Training"
   ]
  },
  {
   "cell_type": "markdown",
   "metadata": {},
   "source": [
    "# Import packages"
   ]
  },
  {
   "cell_type": "code",
   "execution_count": 62,
   "metadata": {},
   "outputs": [],
   "source": [
    "import pandas as pd\n",
    "from pathlib import Path\n",
    "import numpy as np\n",
    "import ast\n",
    "\n",
    "from lightning import pytorch as pl\n",
    "from lightning.pytorch.callbacks import ModelCheckpoint\n",
    "\n",
    "from chemprop import data, featurizers, models, nn\n",
    "from chemprop.utils import make_mol"
   ]
  },
  {
   "cell_type": "markdown",
   "metadata": {},
   "source": [
    "# Change data inputs here"
   ]
  },
  {
   "cell_type": "code",
   "execution_count": 63,
   "metadata": {},
   "outputs": [],
   "source": [
    "chemprop_dir = Path.cwd().parent\n",
    "input_path = chemprop_dir / \"tests\" / \"data\" / \"mixed_regression_input.csv\" # path to your data .csv file\n",
    "num_workers = 0 # number of workers for dataloader. 0 means using main process for data loading\n",
    "smiles_column = 'smiles' # name of the column containing SMILES strings\n",
    "target_columns = ['molecule', 'atom', 'bond'] # list of names of the columns containing targets"
   ]
  },
  {
   "cell_type": "code",
   "execution_count": 64,
   "metadata": {},
   "outputs": [
    {
     "data": {
      "text/html": [
       "<div>\n",
       "<style scoped>\n",
       "    .dataframe tbody tr th:only-of-type {\n",
       "        vertical-align: middle;\n",
       "    }\n",
       "\n",
       "    .dataframe tbody tr th {\n",
       "        vertical-align: top;\n",
       "    }\n",
       "\n",
       "    .dataframe thead th {\n",
       "        text-align: right;\n",
       "    }\n",
       "</style>\n",
       "<table border=\"1\" class=\"dataframe\">\n",
       "  <thead>\n",
       "    <tr style=\"text-align: right;\">\n",
       "      <th></th>\n",
       "      <th>smiles</th>\n",
       "      <th>molecule</th>\n",
       "      <th>atom</th>\n",
       "      <th>bond</th>\n",
       "    </tr>\n",
       "  </thead>\n",
       "  <tbody>\n",
       "    <tr>\n",
       "      <th>0</th>\n",
       "      <td>CC</td>\n",
       "      <td>1.0</td>\n",
       "      <td>[1,2]</td>\n",
       "      <td>[1]</td>\n",
       "    </tr>\n",
       "    <tr>\n",
       "      <th>1</th>\n",
       "      <td>CCC</td>\n",
       "      <td>2.0</td>\n",
       "      <td>[1,2,3]</td>\n",
       "      <td>[1,2]</td>\n",
       "    </tr>\n",
       "    <tr>\n",
       "      <th>2</th>\n",
       "      <td>CCCO</td>\n",
       "      <td>3.0</td>\n",
       "      <td>[1,2,3,5]</td>\n",
       "      <td>[1,2,3]</td>\n",
       "    </tr>\n",
       "    <tr>\n",
       "      <th>3</th>\n",
       "      <td>CCOO</td>\n",
       "      <td>4.0</td>\n",
       "      <td>[1,2,3,4]</td>\n",
       "      <td>[1,2,3]</td>\n",
       "    </tr>\n",
       "    <tr>\n",
       "      <th>4</th>\n",
       "      <td>COO</td>\n",
       "      <td>5.0</td>\n",
       "      <td>[1,3,5]</td>\n",
       "      <td>[1,2]</td>\n",
       "    </tr>\n",
       "    <tr>\n",
       "      <th>5</th>\n",
       "      <td>CCOOO</td>\n",
       "      <td>6.0</td>\n",
       "      <td>[1,7,3,4,5]</td>\n",
       "      <td>[1,3,2,4]</td>\n",
       "    </tr>\n",
       "    <tr>\n",
       "      <th>6</th>\n",
       "      <td>COOO</td>\n",
       "      <td>7.0</td>\n",
       "      <td>[2,5,3,2]</td>\n",
       "      <td>[2,3,4]</td>\n",
       "    </tr>\n",
       "    <tr>\n",
       "      <th>7</th>\n",
       "      <td>CO</td>\n",
       "      <td>8.0</td>\n",
       "      <td>[1,3]</td>\n",
       "      <td>[2]</td>\n",
       "    </tr>\n",
       "    <tr>\n",
       "      <th>8</th>\n",
       "      <td>CCO</td>\n",
       "      <td>9.0</td>\n",
       "      <td>[1,3,5]</td>\n",
       "      <td>[2,3]</td>\n",
       "    </tr>\n",
       "    <tr>\n",
       "      <th>9</th>\n",
       "      <td>OO</td>\n",
       "      <td>10.0</td>\n",
       "      <td>[5,7]</td>\n",
       "      <td>[3]</td>\n",
       "    </tr>\n",
       "  </tbody>\n",
       "</table>\n",
       "</div>"
      ],
      "text/plain": [
       "  smiles  molecule         atom       bond\n",
       "0     CC       1.0        [1,2]        [1]\n",
       "1    CCC       2.0      [1,2,3]      [1,2]\n",
       "2   CCCO       3.0    [1,2,3,5]    [1,2,3]\n",
       "3   CCOO       4.0    [1,2,3,4]    [1,2,3]\n",
       "4    COO       5.0      [1,3,5]      [1,2]\n",
       "5  CCOOO       6.0  [1,7,3,4,5]  [1,3,2,4]\n",
       "6   COOO       7.0    [2,5,3,2]    [2,3,4]\n",
       "7     CO       8.0        [1,3]        [2]\n",
       "8    CCO       9.0      [1,3,5]      [2,3]\n",
       "9     OO      10.0        [5,7]        [3]"
      ]
     },
     "execution_count": 64,
     "metadata": {},
     "output_type": "execute_result"
    }
   ],
   "source": [
    "df_input = pd.read_csv(input_path)\n",
    "df_input"
   ]
  },
  {
   "cell_type": "markdown",
   "metadata": {},
   "source": [
    "## Get SMILES and targets"
   ]
  },
  {
   "cell_type": "code",
   "execution_count": 65,
   "metadata": {},
   "outputs": [],
   "source": [
    "smis = df_input.loc[:, smiles_column].values\n",
    "ys = df_input.loc[:, target_columns]"
   ]
  },
  {
   "cell_type": "code",
   "execution_count": 66,
   "metadata": {},
   "outputs": [
    {
     "data": {
      "text/plain": [
       "array(['CC', 'CCC'], dtype=object)"
      ]
     },
     "execution_count": 66,
     "metadata": {},
     "output_type": "execute_result"
    }
   ],
   "source": [
    "smis[:2] # show first 2 SMILES strings"
   ]
  },
  {
   "cell_type": "code",
   "execution_count": 67,
   "metadata": {},
   "outputs": [
    {
     "data": {
      "text/html": [
       "<div>\n",
       "<style scoped>\n",
       "    .dataframe tbody tr th:only-of-type {\n",
       "        vertical-align: middle;\n",
       "    }\n",
       "\n",
       "    .dataframe tbody tr th {\n",
       "        vertical-align: top;\n",
       "    }\n",
       "\n",
       "    .dataframe thead th {\n",
       "        text-align: right;\n",
       "    }\n",
       "</style>\n",
       "<table border=\"1\" class=\"dataframe\">\n",
       "  <thead>\n",
       "    <tr style=\"text-align: right;\">\n",
       "      <th></th>\n",
       "      <th>molecule</th>\n",
       "      <th>atom</th>\n",
       "      <th>bond</th>\n",
       "    </tr>\n",
       "  </thead>\n",
       "  <tbody>\n",
       "    <tr>\n",
       "      <th>0</th>\n",
       "      <td>1.0</td>\n",
       "      <td>[1,2]</td>\n",
       "      <td>[1]</td>\n",
       "    </tr>\n",
       "    <tr>\n",
       "      <th>1</th>\n",
       "      <td>2.0</td>\n",
       "      <td>[1,2,3]</td>\n",
       "      <td>[1,2]</td>\n",
       "    </tr>\n",
       "    <tr>\n",
       "      <th>2</th>\n",
       "      <td>3.0</td>\n",
       "      <td>[1,2,3,5]</td>\n",
       "      <td>[1,2,3]</td>\n",
       "    </tr>\n",
       "    <tr>\n",
       "      <th>3</th>\n",
       "      <td>4.0</td>\n",
       "      <td>[1,2,3,4]</td>\n",
       "      <td>[1,2,3]</td>\n",
       "    </tr>\n",
       "    <tr>\n",
       "      <th>4</th>\n",
       "      <td>5.0</td>\n",
       "      <td>[1,3,5]</td>\n",
       "      <td>[1,2]</td>\n",
       "    </tr>\n",
       "  </tbody>\n",
       "</table>\n",
       "</div>"
      ],
      "text/plain": [
       "   molecule       atom     bond\n",
       "0       1.0      [1,2]      [1]\n",
       "1       2.0    [1,2,3]    [1,2]\n",
       "2       3.0  [1,2,3,5]  [1,2,3]\n",
       "3       4.0  [1,2,3,4]  [1,2,3]\n",
       "4       5.0    [1,3,5]    [1,2]"
      ]
     },
     "execution_count": 67,
     "metadata": {},
     "output_type": "execute_result"
    }
   ],
   "source": [
    "ys[:5] # show first 5 molecule targets"
   ]
  },
  {
   "cell_type": "code",
   "execution_count": 68,
   "metadata": {},
   "outputs": [
    {
     "name": "stdout",
     "output_type": "stream",
     "text": [
      "[[1.0], [2.0], [3.0], [4.0], [5.0], [6.0], [7.0], [8.0], [9.0], [10.0]]\n"
     ]
    }
   ],
   "source": [
    "import numpy as np\n",
    "\n",
    "flag, mol_Y, atom_Y, bond_Y = [], [], [], []\n",
    "for column in target_columns:\n",
    "    index = 0\n",
    "    column_type = df_input.iloc[index][column]\n",
    "    if isinstance(column_type, float):\n",
    "        for molecule in range(len(df_input)):\n",
    "            mol_Y.append([df_input.iloc[molecule][column]])\n",
    "        flag.append(\"mol\")\n",
    "    else:\n",
    "        column_mol = make_mol(df_input.iloc[index][smiles_column], False, False)\n",
    "        column_type = ast.literal_eval(column_type)\n",
    "        while index < len(df_input) and column_mol.GetNumAtoms() == column_mol.GetNumBonds():\n",
    "            index += 1\n",
    "            column_mol = make_mol(df_input.iloc[index][smiles_column], False, False)\n",
    "        column_type = ast.literal_eval(df_input.iloc[index][column])\n",
    "        flag.append(\"atom\") if len(column_type) == column_mol.GetNumAtoms() else flag.append(\"bond\")\n",
    "        \n",
    "for molecule in range(len(df_input)):\n",
    "    atom_list_props = []\n",
    "    bond_list_props = []\n",
    "    for prop in range(len(target_columns)):\n",
    "        if flag[prop] == \"mol\":\n",
    "            continue\n",
    "        np_prop = np.array(ast.literal_eval(df_input.iloc[molecule][target_columns[prop]]))\n",
    "        np_prop = np.expand_dims(np_prop, axis=1)\n",
    "        atom_list_props.append(np_prop) if flag[prop] == \"atom\" else bond_list_props.append(np_prop)\n",
    "    if len(atom_list_props) > 0:\n",
    "        atom_Y.append(np.hstack(atom_list_props))\n",
    "    if len(bond_list_props) > 0:\n",
    "        bond_Y.append(np.hstack(bond_list_props))\n",
    "\n",
    "print(mol_Y)"
   ]
  },
  {
   "cell_type": "markdown",
   "metadata": {},
   "source": [
    "## Get molecule datapoints"
   ]
  },
  {
   "cell_type": "code",
   "execution_count": 69,
   "metadata": {},
   "outputs": [],
   "source": [
    "all_data = []\n",
    "\n",
    "mol_data = []\n",
    "for smi, y in zip(smis, mol_Y):\n",
    "    mol_data.append(data.MoleculeDatapoint.from_smi(smi, y, keep_h=True))\n",
    "\n",
    "atom_data = []\n",
    "for smi, y in zip(smis, atom_Y):\n",
    "    atom_data.append(data.MoleculeDatapoint.from_smi(smi, y, keep_h=True))\n",
    "\n",
    "bond_data = []\n",
    "for smi, y in zip(smis, bond_Y):\n",
    "    bond_data.append(data.MoleculeDatapoint.from_smi(smi, y, keep_h=True))\n",
    "\n",
    "all_data.append(mol_data)\n",
    "all_data.append(atom_data)\n",
    "all_data.append(bond_data)"
   ]
  },
  {
   "cell_type": "markdown",
   "metadata": {},
   "source": [
    "## Perform data splitting for training, validation, and testing"
   ]
  },
  {
   "cell_type": "code",
   "execution_count": 70,
   "metadata": {},
   "outputs": [
    {
     "data": {
      "text/plain": [
       "['SCAFFOLD_BALANCED',\n",
       " 'RANDOM_WITH_REPEATED_SMILES',\n",
       " 'RANDOM',\n",
       " 'KENNARD_STONE',\n",
       " 'KMEANS']"
      ]
     },
     "execution_count": 70,
     "metadata": {},
     "output_type": "execute_result"
    }
   ],
   "source": [
    "# available split types\n",
    "list(data.SplitType.keys())"
   ]
  },
  {
   "cell_type": "code",
   "execution_count": 71,
   "metadata": {},
   "outputs": [
    {
     "name": "stdout",
     "output_type": "stream",
     "text": [
      "[[MoleculeDatapoint(mol=<rdkit.Chem.rdchem.Mol object at 0x177104740>, y=[1.0], weight=1.0, gt_mask=None, lt_mask=None, x_d=None, x_phase=None, name='CC', V_f=None, E_f=None, V_d=None, E_d=None), MoleculeDatapoint(mol=<rdkit.Chem.rdchem.Mol object at 0x1773ae9d0>, y=[2.0], weight=1.0, gt_mask=None, lt_mask=None, x_d=None, x_phase=None, name='CCC', V_f=None, E_f=None, V_d=None, E_d=None), MoleculeDatapoint(mol=<rdkit.Chem.rdchem.Mol object at 0x1773aeea0>, y=[3.0], weight=1.0, gt_mask=None, lt_mask=None, x_d=None, x_phase=None, name='CCCO', V_f=None, E_f=None, V_d=None, E_d=None), MoleculeDatapoint(mol=<rdkit.Chem.rdchem.Mol object at 0x1773aef10>, y=[4.0], weight=1.0, gt_mask=None, lt_mask=None, x_d=None, x_phase=None, name='CCOO', V_f=None, E_f=None, V_d=None, E_d=None), MoleculeDatapoint(mol=<rdkit.Chem.rdchem.Mol object at 0x1773af220>, y=[5.0], weight=1.0, gt_mask=None, lt_mask=None, x_d=None, x_phase=None, name='COO', V_f=None, E_f=None, V_d=None, E_d=None), MoleculeDatapoint(mol=<rdkit.Chem.rdchem.Mol object at 0x1773af300>, y=[6.0], weight=1.0, gt_mask=None, lt_mask=None, x_d=None, x_phase=None, name='CCOOO', V_f=None, E_f=None, V_d=None, E_d=None), MoleculeDatapoint(mol=<rdkit.Chem.rdchem.Mol object at 0x1773af3e0>, y=[7.0], weight=1.0, gt_mask=None, lt_mask=None, x_d=None, x_phase=None, name='COOO', V_f=None, E_f=None, V_d=None, E_d=None), MoleculeDatapoint(mol=<rdkit.Chem.rdchem.Mol object at 0x1773af4c0>, y=[8.0], weight=1.0, gt_mask=None, lt_mask=None, x_d=None, x_phase=None, name='CO', V_f=None, E_f=None, V_d=None, E_d=None), MoleculeDatapoint(mol=<rdkit.Chem.rdchem.Mol object at 0x1773af5a0>, y=[9.0], weight=1.0, gt_mask=None, lt_mask=None, x_d=None, x_phase=None, name='CCO', V_f=None, E_f=None, V_d=None, E_d=None), MoleculeDatapoint(mol=<rdkit.Chem.rdchem.Mol object at 0x1773af680>, y=[10.0], weight=1.0, gt_mask=None, lt_mask=None, x_d=None, x_phase=None, name='OO', V_f=None, E_f=None, V_d=None, E_d=None)], [MoleculeDatapoint(mol=<rdkit.Chem.rdchem.Mol object at 0x1773af760>, y=array([[1],\n",
      "       [2]]), weight=1.0, gt_mask=None, lt_mask=None, x_d=None, x_phase=None, name='CC', V_f=None, E_f=None, V_d=None, E_d=None), MoleculeDatapoint(mol=<rdkit.Chem.rdchem.Mol object at 0x1773af840>, y=array([[1],\n",
      "       [2],\n",
      "       [3]]), weight=1.0, gt_mask=None, lt_mask=None, x_d=None, x_phase=None, name='CCC', V_f=None, E_f=None, V_d=None, E_d=None), MoleculeDatapoint(mol=<rdkit.Chem.rdchem.Mol object at 0x1773af920>, y=array([[1],\n",
      "       [2],\n",
      "       [3],\n",
      "       [5]]), weight=1.0, gt_mask=None, lt_mask=None, x_d=None, x_phase=None, name='CCCO', V_f=None, E_f=None, V_d=None, E_d=None), MoleculeDatapoint(mol=<rdkit.Chem.rdchem.Mol object at 0x1773afa00>, y=array([[1],\n",
      "       [2],\n",
      "       [3],\n",
      "       [4]]), weight=1.0, gt_mask=None, lt_mask=None, x_d=None, x_phase=None, name='CCOO', V_f=None, E_f=None, V_d=None, E_d=None), MoleculeDatapoint(mol=<rdkit.Chem.rdchem.Mol object at 0x1773afae0>, y=array([[1],\n",
      "       [3],\n",
      "       [5]]), weight=1.0, gt_mask=None, lt_mask=None, x_d=None, x_phase=None, name='COO', V_f=None, E_f=None, V_d=None, E_d=None), MoleculeDatapoint(mol=<rdkit.Chem.rdchem.Mol object at 0x1773afbc0>, y=array([[1],\n",
      "       [7],\n",
      "       [3],\n",
      "       [4],\n",
      "       [5]]), weight=1.0, gt_mask=None, lt_mask=None, x_d=None, x_phase=None, name='CCOOO', V_f=None, E_f=None, V_d=None, E_d=None), MoleculeDatapoint(mol=<rdkit.Chem.rdchem.Mol object at 0x1773afca0>, y=array([[2],\n",
      "       [5],\n",
      "       [3],\n",
      "       [2]]), weight=1.0, gt_mask=None, lt_mask=None, x_d=None, x_phase=None, name='COOO', V_f=None, E_f=None, V_d=None, E_d=None), MoleculeDatapoint(mol=<rdkit.Chem.rdchem.Mol object at 0x1773afd80>, y=array([[1],\n",
      "       [3]]), weight=1.0, gt_mask=None, lt_mask=None, x_d=None, x_phase=None, name='CO', V_f=None, E_f=None, V_d=None, E_d=None), MoleculeDatapoint(mol=<rdkit.Chem.rdchem.Mol object at 0x1773afe60>, y=array([[1],\n",
      "       [3],\n",
      "       [5]]), weight=1.0, gt_mask=None, lt_mask=None, x_d=None, x_phase=None, name='CCO', V_f=None, E_f=None, V_d=None, E_d=None), MoleculeDatapoint(mol=<rdkit.Chem.rdchem.Mol object at 0x1773aff40>, y=array([[5],\n",
      "       [7]]), weight=1.0, gt_mask=None, lt_mask=None, x_d=None, x_phase=None, name='OO', V_f=None, E_f=None, V_d=None, E_d=None)], [MoleculeDatapoint(mol=<rdkit.Chem.rdchem.Mol object at 0x1773b40b0>, y=array([[1]]), weight=1.0, gt_mask=None, lt_mask=None, x_d=None, x_phase=None, name='CC', V_f=None, E_f=None, V_d=None, E_d=None), MoleculeDatapoint(mol=<rdkit.Chem.rdchem.Mol object at 0x1773b4190>, y=array([[1],\n",
      "       [2]]), weight=1.0, gt_mask=None, lt_mask=None, x_d=None, x_phase=None, name='CCC', V_f=None, E_f=None, V_d=None, E_d=None), MoleculeDatapoint(mol=<rdkit.Chem.rdchem.Mol object at 0x1773b4270>, y=array([[1],\n",
      "       [2],\n",
      "       [3]]), weight=1.0, gt_mask=None, lt_mask=None, x_d=None, x_phase=None, name='CCCO', V_f=None, E_f=None, V_d=None, E_d=None), MoleculeDatapoint(mol=<rdkit.Chem.rdchem.Mol object at 0x1773b4350>, y=array([[1],\n",
      "       [2],\n",
      "       [3]]), weight=1.0, gt_mask=None, lt_mask=None, x_d=None, x_phase=None, name='CCOO', V_f=None, E_f=None, V_d=None, E_d=None), MoleculeDatapoint(mol=<rdkit.Chem.rdchem.Mol object at 0x1773b4430>, y=array([[1],\n",
      "       [2]]), weight=1.0, gt_mask=None, lt_mask=None, x_d=None, x_phase=None, name='COO', V_f=None, E_f=None, V_d=None, E_d=None), MoleculeDatapoint(mol=<rdkit.Chem.rdchem.Mol object at 0x1773b4510>, y=array([[1],\n",
      "       [3],\n",
      "       [2],\n",
      "       [4]]), weight=1.0, gt_mask=None, lt_mask=None, x_d=None, x_phase=None, name='CCOOO', V_f=None, E_f=None, V_d=None, E_d=None), MoleculeDatapoint(mol=<rdkit.Chem.rdchem.Mol object at 0x1773b45f0>, y=array([[2],\n",
      "       [3],\n",
      "       [4]]), weight=1.0, gt_mask=None, lt_mask=None, x_d=None, x_phase=None, name='COOO', V_f=None, E_f=None, V_d=None, E_d=None), MoleculeDatapoint(mol=<rdkit.Chem.rdchem.Mol object at 0x1773b46d0>, y=array([[2]]), weight=1.0, gt_mask=None, lt_mask=None, x_d=None, x_phase=None, name='CO', V_f=None, E_f=None, V_d=None, E_d=None), MoleculeDatapoint(mol=<rdkit.Chem.rdchem.Mol object at 0x1773b47b0>, y=array([[2],\n",
      "       [3]]), weight=1.0, gt_mask=None, lt_mask=None, x_d=None, x_phase=None, name='CCO', V_f=None, E_f=None, V_d=None, E_d=None), MoleculeDatapoint(mol=<rdkit.Chem.rdchem.Mol object at 0x1773b4890>, y=array([[3]]), weight=1.0, gt_mask=None, lt_mask=None, x_d=None, x_phase=None, name='OO', V_f=None, E_f=None, V_d=None, E_d=None)]]\n"
     ]
    }
   ],
   "source": [
    "mol = [d.mol for d in all_data[0]]\n",
    "\n",
    "train_indices, val_indices, test_indices = data.make_split_indices(mol, \"random\", (0.6, 0.2, 0.2))\n",
    "print(all_data)\n",
    "train_data, val_data, test_data = data.split_data_by_indices(\n",
    "    all_data, train_indices, val_indices, test_indices\n",
    ")\n"
   ]
  },
  {
   "cell_type": "markdown",
   "metadata": {},
   "source": [
    "## Get AtomDataset"
   ]
  },
  {
   "cell_type": "code",
   "execution_count": 72,
   "metadata": {},
   "outputs": [
    {
     "name": "stdout",
     "output_type": "stream",
     "text": [
      "MoleculeDataset(data=[MoleculeDatapoint(mol=<rdkit.Chem.rdchem.Mol object at 0x1773af5a0>, y=[9.0], weight=1.0, gt_mask=None, lt_mask=None, x_d=None, x_phase=None, name='CCO', V_f=None, E_f=None, V_d=None, E_d=None), MoleculeDatapoint(mol=<rdkit.Chem.rdchem.Mol object at 0x1773af220>, y=[5.0], weight=1.0, gt_mask=None, lt_mask=None, x_d=None, x_phase=None, name='COO', V_f=None, E_f=None, V_d=None, E_d=None), MoleculeDatapoint(mol=<rdkit.Chem.rdchem.Mol object at 0x1773af680>, y=[10.0], weight=1.0, gt_mask=None, lt_mask=None, x_d=None, x_phase=None, name='OO', V_f=None, E_f=None, V_d=None, E_d=None), MoleculeDatapoint(mol=<rdkit.Chem.rdchem.Mol object at 0x1773ae9d0>, y=[2.0], weight=1.0, gt_mask=None, lt_mask=None, x_d=None, x_phase=None, name='CCC', V_f=None, E_f=None, V_d=None, E_d=None), MoleculeDatapoint(mol=<rdkit.Chem.rdchem.Mol object at 0x1773af3e0>, y=[7.0], weight=1.0, gt_mask=None, lt_mask=None, x_d=None, x_phase=None, name='COOO', V_f=None, E_f=None, V_d=None, E_d=None), MoleculeDatapoint(mol=<rdkit.Chem.rdchem.Mol object at 0x1773af4c0>, y=[8.0], weight=1.0, gt_mask=None, lt_mask=None, x_d=None, x_phase=None, name='CO', V_f=None, E_f=None, V_d=None, E_d=None)], featurizer=SimpleMoleculeMolGraphFeaturizer(atom_featurizer=<chemprop.featurizers.atom.MultiHotAtomFeaturizer object at 0x17731c890>, bond_featurizer=<chemprop.featurizers.bond.MultiHotBondFeaturizer object at 0x17731fad0>))\n"
     ]
    }
   ],
   "source": [
    "featurizer = featurizers.SimpleMoleculeMolGraphFeaturizer()\n",
    "\n",
    "train_dsets = []\n",
    "train_dsets.append(data.MoleculeDataset(train_data[0][0], featurizer))\n",
    "train_dsets.append(data.AtomDataset(train_data[0][1], featurizer))\n",
    "train_dsets.append(data.BondDataset(train_data[0][2], featurizer))\n",
    "print(train_dsets[0])\n",
    "mol_scaler = train_dsets[0].normalize_targets()\n",
    "atom_scaler = train_dsets[1].normalize_targets()\n",
    "bond_scaler = train_dsets[2].normalize_targets()\n",
    "train_dset = data.MolAtomBondDataset(train_dsets[0], train_dsets[1], train_dsets[2])"
   ]
  },
  {
   "cell_type": "code",
   "execution_count": 73,
   "metadata": {},
   "outputs": [],
   "source": [
    "val_dsets = []\n",
    "val_dsets.append(data.MoleculeDataset(val_data[0][0], featurizer))\n",
    "val_dsets.append(data.AtomDataset(val_data[0][1], featurizer))\n",
    "val_dsets.append(data.BondDataset(val_data[0][2], featurizer))\n",
    "val_dsets[0].normalize_targets(mol_scaler)\n",
    "val_dsets[1].normalize_targets(atom_scaler)\n",
    "val_dsets[2].normalize_targets(bond_scaler)\n",
    "val_dset = data.MolAtomBondDataset(val_dsets[0], val_dsets[1], val_dsets[2])\n",
    "\n",
    "test_dsets = []\n",
    "test_dsets.append(data.MoleculeDataset(test_data[0][0], featurizer))\n",
    "test_dsets.append(data.AtomDataset(test_data[0][1], featurizer))\n",
    "test_dsets.append(data.BondDataset(test_data[0][2], featurizer))\n",
    "test_dset = data.MolAtomBondDataset(test_dsets[0], test_dsets[1], test_dsets[2])\n",
    "\n",
    "all_dsets = []\n",
    "all_dsets.append(data.MoleculeDataset(all_data[0], featurizer))\n",
    "all_atom_data = data.AtomDataset(all_data[1], featurizer)\n",
    "all_dsets.append(all_atom_data)\n",
    "atom_slices = all_atom_data._slices\n",
    "all_bond_data = data.BondDataset(all_data[2], featurizer)\n",
    "all_dsets.append(all_bond_data)\n",
    "bond_slices = all_bond_data._slices\n",
    "all_dset = data.MolAtomBondDataset(all_dsets[0], all_dsets[1], all_dsets[2])"
   ]
  },
  {
   "cell_type": "markdown",
   "metadata": {},
   "source": [
    "## Get DataLoader"
   ]
  },
  {
   "cell_type": "code",
   "execution_count": 74,
   "metadata": {},
   "outputs": [],
   "source": [
    "train_loader = data.build_dataloader(train_dset, num_workers=num_workers, shuffle=False)\n",
    "val_loader = data.build_dataloader(val_dset, num_workers=num_workers, shuffle=False)\n",
    "test_loader = data.build_dataloader(test_dset, num_workers=num_workers, shuffle=False)\n",
    "all_loader = data.build_dataloader(all_dset, num_workers=num_workers, shuffle=False)"
   ]
  },
  {
   "cell_type": "markdown",
   "metadata": {},
   "source": [
    "# Change Message-Passing Neural Network (MPNN) inputs here"
   ]
  },
  {
   "cell_type": "markdown",
   "metadata": {},
   "source": [
    "## Message Passing\n",
    "A `Message passing` constructs molecular graphs using message passing to learn node-level hidden representations.\n",
    "\n",
    "Options are `mp = nn.BondMessagePassing()` or `mp = nn.AtomMessagePassing()`"
   ]
  },
  {
   "cell_type": "code",
   "execution_count": 75,
   "metadata": {},
   "outputs": [
    {
     "data": {
      "text/plain": [
       "MixedBondMessagePassing(\n",
       "  (W_i): Linear(in_features=86, out_features=300, bias=False)\n",
       "  (W_h): Linear(in_features=300, out_features=300, bias=False)\n",
       "  (W_o): Linear(in_features=372, out_features=300, bias=True)\n",
       "  (W_o_b): Linear(in_features=314, out_features=300, bias=True)\n",
       "  (dropout): Dropout(p=0.0, inplace=False)\n",
       "  (tau): ReLU()\n",
       "  (V_d_transform): Identity()\n",
       "  (E_d_transform): Identity()\n",
       "  (graph_transform): Identity()\n",
       ")"
      ]
     },
     "execution_count": 75,
     "metadata": {},
     "output_type": "execute_result"
    }
   ],
   "source": [
    "mp = nn.MixedBondMessagePassing() #include why aggregation isn't used\n",
    "mp"
   ]
  },
  {
   "cell_type": "markdown",
   "metadata": {},
   "source": [
    "## Feed-Forward Network (FFN)\n",
    "\n",
    "A `FFN` takes the aggregated representations and make target predictions.\n",
    "\n",
    "Available options can be found in `nn.PredictorRegistry`.\n",
    "\n",
    "For regression:\n",
    "- `ffn = nn.RegressionFFN()`\n",
    "- `ffn = nn.MveFFN()`\n",
    "- `ffn = nn.EvidentialFFN()`\n",
    "\n",
    "For classification:\n",
    "- `ffn = nn.BinaryClassificationFFN()`\n",
    "- `ffn = nn.BinaryDirichletFFN()`\n",
    "- `ffn = nn.MulticlassClassificationFFN()`\n",
    "- `ffn = nn.MulticlassDirichletFFN()`\n",
    "\n",
    "For spectral:\n",
    "- `ffn = nn.SpectralFFN()` # will be available in future version"
   ]
  },
  {
   "cell_type": "code",
   "execution_count": 76,
   "metadata": {},
   "outputs": [
    {
     "name": "stdout",
     "output_type": "stream",
     "text": [
      "ClassRegistry {\n",
      "    'regression': <class 'chemprop.nn.predictors.RegressionFFN'>,\n",
      "    'regression-mve': <class 'chemprop.nn.predictors.MveFFN'>,\n",
      "    'regression-evidential': <class 'chemprop.nn.predictors.EvidentialFFN'>,\n",
      "    'regression-quantile': <class 'chemprop.nn.predictors.QuantileFFN'>,\n",
      "    'classification': <class 'chemprop.nn.predictors.BinaryClassificationFFN'>,\n",
      "    'classification-dirichlet': <class 'chemprop.nn.predictors.BinaryDirichletFFN'>,\n",
      "    'multiclass': <class 'chemprop.nn.predictors.MulticlassClassificationFFN'>,\n",
      "    'multiclass-dirichlet': <class 'chemprop.nn.predictors.MulticlassDirichletFFN'>,\n",
      "    'spectral': <class 'chemprop.nn.predictors.SpectralFFN'>\n",
      "}\n"
     ]
    }
   ],
   "source": [
    "print(nn.PredictorRegistry)"
   ]
  },
  {
   "cell_type": "code",
   "execution_count": 77,
   "metadata": {},
   "outputs": [],
   "source": [
    "mol_output_transform = nn.UnscaleTransform.from_standard_scaler(mol_scaler)\n",
    "atom_output_transform = nn.UnscaleTransform.from_standard_scaler(atom_scaler)\n",
    "bond_output_transform = nn.UnscaleTransform.from_standard_scaler(bond_scaler)"
   ]
  },
  {
   "cell_type": "code",
   "execution_count": 78,
   "metadata": {},
   "outputs": [],
   "source": [
    "mol_ffn = nn.RegressionFFN(output_transform=mol_output_transform, n_tasks=1)\n",
    "atom_ffn = nn.RegressionFFN(output_transform=atom_output_transform, n_tasks=1)\n",
    "bond_ffn = nn.RegressionFFN(output_transform=bond_output_transform, input_dim=600, n_tasks=1)"
   ]
  },
  {
   "cell_type": "markdown",
   "metadata": {},
   "source": [
    "## Batch Norm\n",
    "A `Batch Norm` normalizes the outputs of the aggregation by re-centering and re-scaling.\n",
    "\n",
    "Whether to use batch norm"
   ]
  },
  {
   "cell_type": "code",
   "execution_count": 79,
   "metadata": {},
   "outputs": [],
   "source": [
    "batch_norm = True"
   ]
  },
  {
   "cell_type": "markdown",
   "metadata": {},
   "source": [
    "## Metrics\n",
    "`Metrics` are the ways to evaluate the performance of model predictions.\n",
    "\n",
    "Available options can be found in `metrics.MetricRegistry`, including"
   ]
  },
  {
   "cell_type": "code",
   "execution_count": 80,
   "metadata": {},
   "outputs": [
    {
     "name": "stdout",
     "output_type": "stream",
     "text": [
      "ClassRegistry {\n",
      "    'mse': <class 'chemprop.nn.metrics.MSE'>,\n",
      "    'mae': <class 'chemprop.nn.metrics.MAE'>,\n",
      "    'rmse': <class 'chemprop.nn.metrics.RMSE'>,\n",
      "    'bounded-mse': <class 'chemprop.nn.metrics.BoundedMSE'>,\n",
      "    'bounded-mae': <class 'chemprop.nn.metrics.BoundedMAE'>,\n",
      "    'bounded-rmse': <class 'chemprop.nn.metrics.BoundedRMSE'>,\n",
      "    'r2': <class 'chemprop.nn.metrics.R2Score'>,\n",
      "    'binary-mcc': <class 'chemprop.nn.metrics.BinaryMCCMetric'>,\n",
      "    'multiclass-mcc': <class 'chemprop.nn.metrics.MulticlassMCCMetric'>,\n",
      "    'roc': <class 'chemprop.nn.metrics.BinaryAUROC'>,\n",
      "    'prc': <class 'chemprop.nn.metrics.BinaryAUPRC'>,\n",
      "    'accuracy': <class 'chemprop.nn.metrics.BinaryAccuracy'>,\n",
      "    'f1': <class 'chemprop.nn.metrics.BinaryF1Score'>\n",
      "}\n"
     ]
    }
   ],
   "source": [
    "print(nn.metrics.MetricRegistry)"
   ]
  },
  {
   "cell_type": "code",
   "execution_count": 81,
   "metadata": {},
   "outputs": [],
   "source": [
    "metric_list = [nn.metrics.RMSE(), nn.metrics.MAE()] # Only the first metric is used for training and early stopping"
   ]
  },
  {
   "cell_type": "markdown",
   "metadata": {},
   "source": [
    "## Constructs MPNN"
   ]
  },
  {
   "cell_type": "code",
   "execution_count": 82,
   "metadata": {},
   "outputs": [
    {
     "name": "stderr",
     "output_type": "stream",
     "text": [
      "/opt/anaconda3/envs/chemprop/lib/python3.11/site-packages/lightning/pytorch/utilities/parsing.py:208: Attribute 'mol_predictor' is an instance of `nn.Module` and is already saved during checkpointing. It is recommended to ignore them using `self.save_hyperparameters(ignore=['mol_predictor'])`.\n",
      "/opt/anaconda3/envs/chemprop/lib/python3.11/site-packages/lightning/pytorch/utilities/parsing.py:208: Attribute 'atom_predictor' is an instance of `nn.Module` and is already saved during checkpointing. It is recommended to ignore them using `self.save_hyperparameters(ignore=['atom_predictor'])`.\n",
      "/opt/anaconda3/envs/chemprop/lib/python3.11/site-packages/lightning/pytorch/utilities/parsing.py:208: Attribute 'bond_predictor' is an instance of `nn.Module` and is already saved during checkpointing. It is recommended to ignore them using `self.save_hyperparameters(ignore=['bond_predictor'])`.\n"
     ]
    },
    {
     "data": {
      "text/plain": [
       "MolAtomBondMPNN(\n",
       "  (message_passing): MixedBondMessagePassing(\n",
       "    (W_i): Linear(in_features=86, out_features=300, bias=False)\n",
       "    (W_h): Linear(in_features=300, out_features=300, bias=False)\n",
       "    (W_o): Linear(in_features=372, out_features=300, bias=True)\n",
       "    (W_o_b): Linear(in_features=314, out_features=300, bias=True)\n",
       "    (dropout): Dropout(p=0.0, inplace=False)\n",
       "    (tau): ReLU()\n",
       "    (V_d_transform): Identity()\n",
       "    (E_d_transform): Identity()\n",
       "    (graph_transform): Identity()\n",
       "  )\n",
       "  (agg): MeanAggregation()\n",
       "  (bn): BatchNorm1d(300, eps=1e-05, momentum=0.1, affine=True, track_running_stats=True)\n",
       "  (predictors): ModuleList(\n",
       "    (0-1): 2 x RegressionFFN(\n",
       "      (ffn): MLP(\n",
       "        (0): Sequential(\n",
       "          (0): Linear(in_features=300, out_features=300, bias=True)\n",
       "        )\n",
       "        (1): Sequential(\n",
       "          (0): ReLU()\n",
       "          (1): Dropout(p=0.0, inplace=False)\n",
       "          (2): Linear(in_features=300, out_features=1, bias=True)\n",
       "        )\n",
       "      )\n",
       "      (criterion): MSE(task_weights=[[1.0]])\n",
       "      (output_transform): UnscaleTransform()\n",
       "    )\n",
       "    (2): RegressionFFN(\n",
       "      (ffn): MLP(\n",
       "        (0): Sequential(\n",
       "          (0): Linear(in_features=600, out_features=300, bias=True)\n",
       "        )\n",
       "        (1): Sequential(\n",
       "          (0): ReLU()\n",
       "          (1): Dropout(p=0.0, inplace=False)\n",
       "          (2): Linear(in_features=300, out_features=1, bias=True)\n",
       "        )\n",
       "      )\n",
       "      (criterion): MSE(task_weights=[[1.0]])\n",
       "      (output_transform): UnscaleTransform()\n",
       "    )\n",
       "  )\n",
       "  (X_d_transform): Identity()\n",
       "  (metrics): ModuleList(\n",
       "    (0-2): 3 x ModuleList(\n",
       "      (0): RMSE(task_weights=[[1.0]])\n",
       "      (1): MAE(task_weights=[[1.0]])\n",
       "      (2): MSE(task_weights=[[1.0]])\n",
       "    )\n",
       "  )\n",
       ")"
      ]
     },
     "execution_count": 82,
     "metadata": {},
     "output_type": "execute_result"
    }
   ],
   "source": [
    "agg = nn.MeanAggregation()\n",
    "mol_atom_bond_mpnn = models.MolAtomBondMPNN(mp, agg, mol_ffn, atom_ffn, bond_ffn, batch_norm, metric_list)\n",
    "\n",
    "mol_atom_bond_mpnn"
   ]
  },
  {
   "cell_type": "markdown",
   "metadata": {},
   "source": [
    "# Set up trainer"
   ]
  },
  {
   "cell_type": "code",
   "execution_count": 83,
   "metadata": {},
   "outputs": [
    {
     "name": "stderr",
     "output_type": "stream",
     "text": [
      "GPU available: True (mps), used: False\n",
      "TPU available: False, using: 0 TPU cores\n",
      "HPU available: False, using: 0 HPUs\n",
      "/opt/anaconda3/envs/chemprop/lib/python3.11/site-packages/lightning/pytorch/trainer/setup.py:177: GPU available but not used. You can set it by doing `Trainer(accelerator='gpu')`.\n"
     ]
    }
   ],
   "source": [
    "# Configure model checkpointing\n",
    "checkpointing = ModelCheckpoint(\n",
    "    \"checkpoints\",  # Directory where model checkpoints will be saved\n",
    "    \"best-{epoch}-{val_loss:.2f}\",  # Filename format for checkpoints, including epoch and validation loss\n",
    "    \"val_loss\",  # Metric used to select the best checkpoint (based on validation loss)\n",
    "    mode=\"min\",  # Save the checkpoint with the lowest validation loss (minimization objective)\n",
    "    save_last=True,  # Always save the most recent checkpoint, even if it's not the best\n",
    ")\n",
    "\n",
    "trainer = pl.Trainer(\n",
    "    logger=False,\n",
    "    enable_checkpointing=True, # Use `True` if you want to save model checkpoints. The checkpoints will be saved in the `checkpoints` folder.\n",
    "    enable_progress_bar=True,\n",
    "    accelerator=\"cpu\",\n",
    "    devices=1,\n",
    "    max_epochs=20, # number of epochs to train for\n",
    "    callbacks=[checkpointing],\n",
    ")"
   ]
  },
  {
   "cell_type": "markdown",
   "metadata": {},
   "source": [
    "# Start training"
   ]
  },
  {
   "cell_type": "code",
   "execution_count": 84,
   "metadata": {},
   "outputs": [
    {
     "name": "stderr",
     "output_type": "stream",
     "text": [
      "/opt/anaconda3/envs/chemprop/lib/python3.11/site-packages/lightning/pytorch/callbacks/model_checkpoint.py:654: Checkpoint directory /Users/brianli/Documents/chemprop/examples/checkpoints exists and is not empty.\n",
      "Loading `train_dataloader` to estimate number of stepping batches.\n",
      "/opt/anaconda3/envs/chemprop/lib/python3.11/site-packages/lightning/pytorch/trainer/connectors/data_connector.py:424: The 'train_dataloader' does not have many workers which may be a bottleneck. Consider increasing the value of the `num_workers` argument` to `num_workers=7` in the `DataLoader` to improve performance.\n",
      "\n",
      "  | Name            | Type                    | Params | Mode \n",
      "--------------------------------------------------------------------\n",
      "0 | message_passing | MixedBondMessagePassing | 322 K  | train\n",
      "1 | agg             | MeanAggregation         | 0      | train\n",
      "2 | bn              | BatchNorm1d             | 600    | train\n",
      "3 | predictors      | ModuleList              | 361 K  | train\n",
      "4 | X_d_transform   | Identity                | 0      | train\n",
      "5 | metrics         | ModuleList              | 0      | train\n",
      "--------------------------------------------------------------------\n",
      "684 K     Trainable params\n",
      "0         Non-trainable params\n",
      "684 K     Total params\n",
      "2.738     Total estimated model params size (MB)\n",
      "53        Modules in train mode\n",
      "0         Modules in eval mode\n"
     ]
    },
    {
     "name": "stdout",
     "output_type": "stream",
     "text": [
      "                                                                                "
     ]
    },
    {
     "name": "stderr",
     "output_type": "stream",
     "text": [
      "/opt/anaconda3/envs/chemprop/lib/python3.11/site-packages/lightning/pytorch/trainer/connectors/data_connector.py:424: The 'val_dataloader' does not have many workers which may be a bottleneck. Consider increasing the value of the `num_workers` argument` to `num_workers=7` in the `DataLoader` to improve performance.\n"
     ]
    },
    {
     "name": "stdout",
     "output_type": "stream",
     "text": [
      "Epoch 0: 100%|████████████████████████████████████| 1/1 [00:00<00:00, 49.48it/s]\n",
      "Validation: |                                             | 0/? [00:00<?, ?it/s]\u001b[A\n",
      "Validation:   0%|                                         | 0/1 [00:00<?, ?it/s]\u001b[A\n",
      "Validation DataLoader 0:   0%|                            | 0/1 [00:00<?, ?it/s]\u001b[A\n",
      "Validation DataLoader 0: 100%|███████████████████| 1/1 [00:00<00:00, 141.60it/s]\u001b[A\n",
      "Epoch 1: 100%|████████████████████| 1/1 [00:00<00:00, 66.49it/s, val_loss=4.900]\u001b[A\n",
      "Validation: |                                             | 0/? [00:00<?, ?it/s]\u001b[A\n",
      "Validation:   0%|                                         | 0/1 [00:00<?, ?it/s]\u001b[A\n",
      "Validation DataLoader 0:   0%|                            | 0/1 [00:00<?, ?it/s]\u001b[A\n",
      "Validation DataLoader 0: 100%|███████████████████| 1/1 [00:00<00:00, 128.19it/s]\u001b[A\n",
      "Epoch 2: 100%|████████████████████| 1/1 [00:00<00:00, 91.30it/s, val_loss=4.800]\u001b[A\n",
      "Validation: |                                             | 0/? [00:00<?, ?it/s]\u001b[A\n",
      "Validation:   0%|                                         | 0/1 [00:00<?, ?it/s]\u001b[A\n",
      "Validation DataLoader 0:   0%|                            | 0/1 [00:00<?, ?it/s]\u001b[A\n",
      "Validation DataLoader 0: 100%|███████████████████| 1/1 [00:00<00:00, 131.72it/s]\u001b[A\n",
      "Epoch 3: 100%|████████████████████| 1/1 [00:00<00:00, 57.29it/s, val_loss=4.630]\u001b[A\n",
      "Validation: |                                             | 0/? [00:00<?, ?it/s]\u001b[A\n",
      "Validation:   0%|                                         | 0/1 [00:00<?, ?it/s]\u001b[A\n",
      "Validation DataLoader 0:   0%|                            | 0/1 [00:00<?, ?it/s]\u001b[A\n",
      "Validation DataLoader 0: 100%|███████████████████| 1/1 [00:00<00:00, 124.79it/s]\u001b[A\n",
      "Epoch 4: 100%|████████████████████| 1/1 [00:00<00:00, 88.28it/s, val_loss=4.470]\u001b[A\n",
      "Validation: |                                             | 0/? [00:00<?, ?it/s]\u001b[A\n",
      "Validation:   0%|                                         | 0/1 [00:00<?, ?it/s]\u001b[A\n",
      "Validation DataLoader 0:   0%|                            | 0/1 [00:00<?, ?it/s]\u001b[A\n",
      "Validation DataLoader 0: 100%|███████████████████| 1/1 [00:00<00:00, 128.45it/s]\u001b[A\n",
      "Epoch 5: 100%|████████████████████| 1/1 [00:00<00:00, 67.45it/s, val_loss=4.310]\u001b[A\n",
      "Validation: |                                             | 0/? [00:00<?, ?it/s]\u001b[A\n",
      "Validation:   0%|                                         | 0/1 [00:00<?, ?it/s]\u001b[A\n",
      "Validation DataLoader 0:   0%|                            | 0/1 [00:00<?, ?it/s]\u001b[A\n",
      "Validation DataLoader 0: 100%|███████████████████| 1/1 [00:00<00:00, 141.07it/s]\u001b[A\n",
      "Epoch 6: 100%|████████████████████| 1/1 [00:00<00:00, 70.34it/s, val_loss=4.150]\u001b[A\n",
      "Validation: |                                             | 0/? [00:00<?, ?it/s]\u001b[A\n",
      "Validation:   0%|                                         | 0/1 [00:00<?, ?it/s]\u001b[A\n",
      "Validation DataLoader 0:   0%|                            | 0/1 [00:00<?, ?it/s]\u001b[A\n",
      "Validation DataLoader 0: 100%|███████████████████| 1/1 [00:00<00:00, 140.31it/s]\u001b[A\n",
      "Epoch 7: 100%|████████████████████| 1/1 [00:00<00:00, 89.69it/s, val_loss=3.970]\u001b[A\n",
      "Validation: |                                             | 0/? [00:00<?, ?it/s]\u001b[A\n",
      "Validation:   0%|                                         | 0/1 [00:00<?, ?it/s]\u001b[A\n",
      "Validation DataLoader 0:   0%|                            | 0/1 [00:00<?, ?it/s]\u001b[A\n",
      "Validation DataLoader 0: 100%|███████████████████| 1/1 [00:00<00:00, 124.60it/s]\u001b[A\n",
      "Epoch 8: 100%|████████████████████| 1/1 [00:00<00:00, 85.38it/s, val_loss=3.770]\u001b[A\n",
      "Validation: |                                             | 0/? [00:00<?, ?it/s]\u001b[A\n",
      "Validation:   0%|                                         | 0/1 [00:00<?, ?it/s]\u001b[A\n",
      "Validation DataLoader 0:   0%|                            | 0/1 [00:00<?, ?it/s]\u001b[A\n",
      "Validation DataLoader 0: 100%|███████████████████| 1/1 [00:00<00:00, 115.92it/s]\u001b[A\n",
      "Epoch 9: 100%|████████████████████| 1/1 [00:00<00:00, 82.73it/s, val_loss=3.570]\u001b[A\n",
      "Validation: |                                             | 0/? [00:00<?, ?it/s]\u001b[A\n",
      "Validation:   0%|                                         | 0/1 [00:00<?, ?it/s]\u001b[A\n",
      "Validation DataLoader 0:   0%|                            | 0/1 [00:00<?, ?it/s]\u001b[A\n",
      "Validation DataLoader 0: 100%|███████████████████| 1/1 [00:00<00:00, 127.60it/s]\u001b[A\n",
      "Epoch 10: 100%|███████████████████| 1/1 [00:00<00:00, 68.89it/s, val_loss=3.380]\u001b[A\n",
      "Validation: |                                             | 0/? [00:00<?, ?it/s]\u001b[A\n",
      "Validation:   0%|                                         | 0/1 [00:00<?, ?it/s]\u001b[A\n",
      "Validation DataLoader 0:   0%|                            | 0/1 [00:00<?, ?it/s]\u001b[A\n",
      "Validation DataLoader 0: 100%|███████████████████| 1/1 [00:00<00:00, 128.29it/s]\u001b[A\n",
      "Epoch 11: 100%|███████████████████| 1/1 [00:00<00:00, 86.20it/s, val_loss=3.190]\u001b[A\n",
      "Validation: |                                             | 0/? [00:00<?, ?it/s]\u001b[A\n",
      "Validation:   0%|                                         | 0/1 [00:00<?, ?it/s]\u001b[A\n",
      "Validation DataLoader 0:   0%|                            | 0/1 [00:00<?, ?it/s]\u001b[A\n",
      "Validation DataLoader 0: 100%|███████████████████| 1/1 [00:00<00:00, 130.24it/s]\u001b[A\n",
      "Epoch 12: 100%|███████████████████| 1/1 [00:00<00:00, 88.26it/s, val_loss=3.020]\u001b[A\n",
      "Validation: |                                             | 0/? [00:00<?, ?it/s]\u001b[A\n",
      "Validation:   0%|                                         | 0/1 [00:00<?, ?it/s]\u001b[A\n",
      "Validation DataLoader 0:   0%|                            | 0/1 [00:00<?, ?it/s]\u001b[A\n",
      "Validation DataLoader 0: 100%|███████████████████| 1/1 [00:00<00:00, 129.98it/s]\u001b[A\n",
      "Epoch 13: 100%|███████████████████| 1/1 [00:00<00:00, 90.93it/s, val_loss=2.870]\u001b[A\n",
      "Validation: |                                             | 0/? [00:00<?, ?it/s]\u001b[A\n",
      "Validation:   0%|                                         | 0/1 [00:00<?, ?it/s]\u001b[A\n",
      "Validation DataLoader 0:   0%|                            | 0/1 [00:00<?, ?it/s]\u001b[A\n",
      "Validation DataLoader 0: 100%|███████████████████| 1/1 [00:00<00:00, 128.01it/s]\u001b[A\n",
      "Epoch 14: 100%|███████████████████| 1/1 [00:00<00:00, 88.75it/s, val_loss=2.730]\u001b[A\n",
      "Validation: |                                             | 0/? [00:00<?, ?it/s]\u001b[A\n",
      "Validation:   0%|                                         | 0/1 [00:00<?, ?it/s]\u001b[A\n",
      "Validation DataLoader 0:   0%|                            | 0/1 [00:00<?, ?it/s]\u001b[A\n",
      "Validation DataLoader 0: 100%|███████████████████| 1/1 [00:00<00:00, 128.02it/s]\u001b[A\n",
      "Epoch 15: 100%|███████████████████| 1/1 [00:00<00:00, 90.11it/s, val_loss=2.600]\u001b[A\n",
      "Validation: |                                             | 0/? [00:00<?, ?it/s]\u001b[A\n",
      "Validation:   0%|                                         | 0/1 [00:00<?, ?it/s]\u001b[A\n",
      "Validation DataLoader 0:   0%|                            | 0/1 [00:00<?, ?it/s]\u001b[A\n",
      "Validation DataLoader 0: 100%|███████████████████| 1/1 [00:00<00:00, 138.01it/s]\u001b[A\n",
      "Epoch 16: 100%|███████████████████| 1/1 [00:00<00:00, 83.77it/s, val_loss=2.480]\u001b[A\n",
      "Validation: |                                             | 0/? [00:00<?, ?it/s]\u001b[A\n",
      "Validation:   0%|                                         | 0/1 [00:00<?, ?it/s]\u001b[A\n",
      "Validation DataLoader 0:   0%|                            | 0/1 [00:00<?, ?it/s]\u001b[A\n",
      "Validation DataLoader 0: 100%|███████████████████| 1/1 [00:00<00:00, 129.13it/s]\u001b[A\n",
      "Epoch 17: 100%|███████████████████| 1/1 [00:00<00:00, 88.65it/s, val_loss=2.360]\u001b[A\n",
      "Validation: |                                             | 0/? [00:00<?, ?it/s]\u001b[A\n",
      "Validation:   0%|                                         | 0/1 [00:00<?, ?it/s]\u001b[A\n",
      "Validation DataLoader 0:   0%|                            | 0/1 [00:00<?, ?it/s]\u001b[A\n",
      "Validation DataLoader 0: 100%|███████████████████| 1/1 [00:00<00:00, 132.50it/s]\u001b[A\n",
      "Epoch 18: 100%|███████████████████| 1/1 [00:00<00:00, 91.87it/s, val_loss=2.250]\u001b[A\n",
      "Validation: |                                             | 0/? [00:00<?, ?it/s]\u001b[A\n",
      "Validation:   0%|                                         | 0/1 [00:00<?, ?it/s]\u001b[A\n",
      "Validation DataLoader 0:   0%|                            | 0/1 [00:00<?, ?it/s]\u001b[A\n",
      "Validation DataLoader 0: 100%|███████████████████| 1/1 [00:00<00:00, 134.66it/s]\u001b[A\n",
      "Epoch 19: 100%|███████████████████| 1/1 [00:00<00:00, 87.91it/s, val_loss=2.160]\u001b[A\n",
      "Validation: |                                             | 0/? [00:00<?, ?it/s]\u001b[A\n",
      "Validation:   0%|                                         | 0/1 [00:00<?, ?it/s]\u001b[A\n",
      "Validation DataLoader 0:   0%|                            | 0/1 [00:00<?, ?it/s]\u001b[A\n",
      "Validation DataLoader 0: 100%|███████████████████| 1/1 [00:00<00:00, 122.22it/s]\u001b[A\n",
      "Epoch 19: 100%|███████████████████| 1/1 [00:00<00:00, 38.96it/s, val_loss=2.070]\u001b[A"
     ]
    },
    {
     "name": "stderr",
     "output_type": "stream",
     "text": [
      "`Trainer.fit` stopped: `max_epochs=20` reached.\n"
     ]
    },
    {
     "name": "stdout",
     "output_type": "stream",
     "text": [
      "Epoch 19: 100%|███████████████████| 1/1 [00:00<00:00, 24.43it/s, val_loss=2.070]\n"
     ]
    }
   ],
   "source": [
    "trainer.fit(mol_atom_bond_mpnn, train_loader, val_loader)"
   ]
  },
  {
   "cell_type": "markdown",
   "metadata": {},
   "source": [
    "# Test results"
   ]
  },
  {
   "cell_type": "code",
   "execution_count": 85,
   "metadata": {},
   "outputs": [
    {
     "name": "stderr",
     "output_type": "stream",
     "text": [
      "/opt/anaconda3/envs/chemprop/lib/python3.11/site-packages/lightning/pytorch/trainer/connectors/data_connector.py:424: The 'test_dataloader' does not have many workers which may be a bottleneck. Consider increasing the value of the `num_workers` argument` to `num_workers=7` in the `DataLoader` to improve performance.\n"
     ]
    },
    {
     "name": "stdout",
     "output_type": "stream",
     "text": [
      "Testing DataLoader 0: 100%|██████████████████████| 1/1 [00:00<00:00, 207.81it/s]\n"
     ]
    },
    {
     "data": {
      "text/html": [
       "<pre style=\"white-space:pre;overflow-x:auto;line-height:normal;font-family:Menlo,'DejaVu Sans Mono',consolas,'Courier New',monospace\">┏━━━━━━━━━━━━━━━━━━━━━━━━━━━┳━━━━━━━━━━━━━━━━━━━━━━━━━━━┓\n",
       "┃<span style=\"font-weight: bold\">        Test metric        </span>┃<span style=\"font-weight: bold\">       DataLoader 0        </span>┃\n",
       "┡━━━━━━━━━━━━━━━━━━━━━━━━━━━╇━━━━━━━━━━━━━━━━━━━━━━━━━━━┩\n",
       "│<span style=\"color: #008080; text-decoration-color: #008080\">     atom_mol_test/mae     </span>│<span style=\"color: #800080; text-decoration-color: #800080\">    1.2611865997314453     </span>│\n",
       "│<span style=\"color: #008080; text-decoration-color: #008080\">    atom_mol_test/rmse     </span>│<span style=\"color: #800080; text-decoration-color: #800080\">     1.747967004776001     </span>│\n",
       "│<span style=\"color: #008080; text-decoration-color: #008080\">  bond_atom_mol_test/mae   </span>│<span style=\"color: #800080; text-decoration-color: #800080\">    1.2611865997314453     </span>│\n",
       "│<span style=\"color: #008080; text-decoration-color: #008080\">  bond_atom_mol_test/rmse  </span>│<span style=\"color: #800080; text-decoration-color: #800080\">     1.747967004776001     </span>│\n",
       "│<span style=\"color: #008080; text-decoration-color: #008080\">       mol_test/mae        </span>│<span style=\"color: #800080; text-decoration-color: #800080\">    1.2611865997314453     </span>│\n",
       "│<span style=\"color: #008080; text-decoration-color: #008080\">       mol_test/rmse       </span>│<span style=\"color: #800080; text-decoration-color: #800080\">     1.747967004776001     </span>│\n",
       "└───────────────────────────┴───────────────────────────┘\n",
       "</pre>\n"
      ],
      "text/plain": [
       "┏━━━━━━━━━━━━━━━━━━━━━━━━━━━┳━━━━━━━━━━━━━━━━━━━━━━━━━━━┓\n",
       "┃\u001b[1m \u001b[0m\u001b[1m       Test metric       \u001b[0m\u001b[1m \u001b[0m┃\u001b[1m \u001b[0m\u001b[1m      DataLoader 0       \u001b[0m\u001b[1m \u001b[0m┃\n",
       "┡━━━━━━━━━━━━━━━━━━━━━━━━━━━╇━━━━━━━━━━━━━━━━━━━━━━━━━━━┩\n",
       "│\u001b[36m \u001b[0m\u001b[36m    atom_mol_test/mae    \u001b[0m\u001b[36m \u001b[0m│\u001b[35m \u001b[0m\u001b[35m   1.2611865997314453    \u001b[0m\u001b[35m \u001b[0m│\n",
       "│\u001b[36m \u001b[0m\u001b[36m   atom_mol_test/rmse    \u001b[0m\u001b[36m \u001b[0m│\u001b[35m \u001b[0m\u001b[35m    1.747967004776001    \u001b[0m\u001b[35m \u001b[0m│\n",
       "│\u001b[36m \u001b[0m\u001b[36m bond_atom_mol_test/mae  \u001b[0m\u001b[36m \u001b[0m│\u001b[35m \u001b[0m\u001b[35m   1.2611865997314453    \u001b[0m\u001b[35m \u001b[0m│\n",
       "│\u001b[36m \u001b[0m\u001b[36m bond_atom_mol_test/rmse \u001b[0m\u001b[36m \u001b[0m│\u001b[35m \u001b[0m\u001b[35m    1.747967004776001    \u001b[0m\u001b[35m \u001b[0m│\n",
       "│\u001b[36m \u001b[0m\u001b[36m      mol_test/mae       \u001b[0m\u001b[36m \u001b[0m│\u001b[35m \u001b[0m\u001b[35m   1.2611865997314453    \u001b[0m\u001b[35m \u001b[0m│\n",
       "│\u001b[36m \u001b[0m\u001b[36m      mol_test/rmse      \u001b[0m\u001b[36m \u001b[0m│\u001b[35m \u001b[0m\u001b[35m    1.747967004776001    \u001b[0m\u001b[35m \u001b[0m│\n",
       "└───────────────────────────┴───────────────────────────┘\n"
      ]
     },
     "metadata": {},
     "output_type": "display_data"
    }
   ],
   "source": [
    "results = trainer.test(mol_atom_bond_mpnn, test_loader)"
   ]
  },
  {
   "cell_type": "markdown",
   "metadata": {},
   "source": [
    "# Predictions"
   ]
  },
  {
   "cell_type": "code",
   "execution_count": 86,
   "metadata": {},
   "outputs": [
    {
     "name": "stdout",
     "output_type": "stream",
     "text": [
      "odict_keys(['message_passing.W_i.weight', 'message_passing.W_h.weight', 'message_passing.W_o.weight', 'message_passing.W_o.bias', 'message_passing.W_o_b.weight', 'message_passing.W_o_b.bias', 'bn.weight', 'bn.bias', 'bn.running_mean', 'bn.running_var', 'bn.num_batches_tracked', 'predictors.0.ffn.0.0.weight', 'predictors.0.ffn.0.0.bias', 'predictors.0.ffn.1.2.weight', 'predictors.0.ffn.1.2.bias', 'predictors.0.criterion.task_weights', 'predictors.0.output_transform.mean', 'predictors.0.output_transform.scale', 'predictors.1.ffn.0.0.weight', 'predictors.1.ffn.0.0.bias', 'predictors.1.ffn.1.2.weight', 'predictors.1.ffn.1.2.bias', 'predictors.1.criterion.task_weights', 'predictors.1.output_transform.mean', 'predictors.1.output_transform.scale', 'predictors.2.ffn.0.0.weight', 'predictors.2.ffn.0.0.bias', 'predictors.2.ffn.1.2.weight', 'predictors.2.ffn.1.2.bias', 'predictors.2.criterion.task_weights', 'predictors.2.output_transform.mean', 'predictors.2.output_transform.scale', 'metrics.0.0.task_weights', 'metrics.0.1.task_weights', 'metrics.0.2.task_weights', 'metrics.1.0.task_weights', 'metrics.1.1.task_weights', 'metrics.1.2.task_weights', 'metrics.2.0.task_weights', 'metrics.2.1.task_weights', 'metrics.2.2.task_weights'])\n"
     ]
    },
    {
     "name": "stderr",
     "output_type": "stream",
     "text": [
      "/Users/brianli/Documents/chemprop/chemprop/models/model.py:515: FutureWarning: You are using `torch.load` with `weights_only=False` (the current default value), which uses the default pickle module implicitly. It is possible to construct malicious pickle data which will execute arbitrary code during unpickling (See https://github.com/pytorch/pytorch/blob/main/SECURITY.md#untrusted-models for more details). In a future release, the default value for `weights_only` will be flipped to `True`. This limits the functions that could be executed during unpickling. Arbitrary objects will no longer be allowed to be loaded via this mode unless they are explicitly allowlisted by the user via `torch.serialization.add_safe_globals`. We recommend you start setting `weights_only=True` for any use case where you don't have full control of the loaded file. Please open an issue on GitHub for any issues related to this experimental feature.\n",
      "  d = torch.load(path, map_location)\n",
      "GPU available: True (mps), used: False\n",
      "TPU available: False, using: 0 TPU cores\n",
      "HPU available: False, using: 0 HPUs\n"
     ]
    }
   ],
   "source": [
    "from chemprop.models import load_mixed_model\n",
    "import torch\n",
    "\n",
    "mol_individual_preds = []\n",
    "atom_individual_preds = []\n",
    "bond_individual_preds = []\n",
    "model = load_mixed_model(checkpointing.best_model_path)\n",
    "print(model.state_dict().keys())\n",
    "trainer = pl.Trainer(\n",
    "    logger=False,\n",
    "    enable_progress_bar=True,\n",
    "    accelerator=\"cpu\",\n",
    "    devices=1,\n",
    ")"
   ]
  },
  {
   "cell_type": "code",
   "execution_count": 87,
   "metadata": {},
   "outputs": [
    {
     "name": "stderr",
     "output_type": "stream",
     "text": [
      "/opt/anaconda3/envs/chemprop/lib/python3.11/site-packages/lightning/pytorch/trainer/connectors/data_connector.py:424: The 'predict_dataloader' does not have many workers which may be a bottleneck. Consider increasing the value of the `num_workers` argument` to `num_workers=7` in the `DataLoader` to improve performance.\n"
     ]
    },
    {
     "name": "stdout",
     "output_type": "stream",
     "text": [
      "Predicting DataLoader 0: 100%|███████████████████| 1/1 [00:00<00:00, 170.39it/s]\n",
      "[tensor([[4.3620],\n",
      "        [4.0493],\n",
      "        [7.4568],\n",
      "        [7.3635],\n",
      "        [6.2358],\n",
      "        [7.6309],\n",
      "        [6.9027],\n",
      "        [7.3882],\n",
      "        [7.4814],\n",
      "        [8.6928]]), tensor([[2.5828],\n",
      "        [2.5828],\n",
      "        [2.5190],\n",
      "        [2.5736],\n",
      "        [2.5190],\n",
      "        [2.5241],\n",
      "        [2.4984],\n",
      "        [2.6670],\n",
      "        [3.3785],\n",
      "        [2.5216],\n",
      "        [2.6069],\n",
      "        [3.4242],\n",
      "        [3.4629],\n",
      "        [2.5660],\n",
      "        [3.5201],\n",
      "        [3.5036],\n",
      "        [2.5182],\n",
      "        [2.6313],\n",
      "        [3.2963],\n",
      "        [3.5011],\n",
      "        [3.4688],\n",
      "        [2.5928],\n",
      "        [3.3984],\n",
      "        [3.5433],\n",
      "        [3.4630],\n",
      "        [2.7064],\n",
      "        [3.4430],\n",
      "        [2.5004],\n",
      "        [2.7566],\n",
      "        [3.3822],\n",
      "        [3.6297],\n",
      "        [3.6297]]), tensor([[1.3667],\n",
      "        [1.3667],\n",
      "        [1.5166],\n",
      "        [1.5059],\n",
      "        [1.5059],\n",
      "        [1.5166],\n",
      "        [1.5381],\n",
      "        [1.5317],\n",
      "        [1.6833],\n",
      "        [1.6842],\n",
      "        [2.4791],\n",
      "        [2.4594],\n",
      "        [1.5490],\n",
      "        [1.5384],\n",
      "        [2.1925],\n",
      "        [2.1796],\n",
      "        [2.9850],\n",
      "        [2.9720],\n",
      "        [1.9485],\n",
      "        [1.9282],\n",
      "        [2.9171],\n",
      "        [2.9120],\n",
      "        [1.5536],\n",
      "        [1.5426],\n",
      "        [2.3211],\n",
      "        [2.3095],\n",
      "        [2.8118],\n",
      "        [2.8047],\n",
      "        [3.0038],\n",
      "        [2.9953],\n",
      "        [2.0775],\n",
      "        [2.0581],\n",
      "        [2.7311],\n",
      "        [2.7279],\n",
      "        [3.0109],\n",
      "        [3.0018],\n",
      "        [2.1606],\n",
      "        [2.1369],\n",
      "        [1.4923],\n",
      "        [1.4830],\n",
      "        [2.4045],\n",
      "        [2.3884],\n",
      "        [3.0157],\n",
      "        [3.0157]])]\n"
     ]
    }
   ],
   "source": [
    "predss = trainer.predict(model, all_loader)\n",
    "print(predss[0])\n",
    "mol_individual_preds.append(torch.concat([predss[0][0]], 0))\n",
    "atom_individual_preds.append(torch.concat([predss[0][1]], 0))\n",
    "bond_individual_preds.append(torch.concat([predss[0][2]], 0))\n",
    "\n",
    "mol_average_preds = torch.mean(torch.stack(mol_individual_preds).float(), dim=0)\n",
    "atom_average_preds = torch.mean(torch.stack(atom_individual_preds).float(), dim=0)\n",
    "bond_average_preds = torch.mean(torch.stack(bond_individual_preds).float(), dim=0)\n",
    "\n",
    "test_path = chemprop_dir / \"tests\" / \"data\" / \"mixed_regression_input.csv\"\n",
    "df_test = pd.read_csv(test_path, header=\"infer\", index_col=False)"
   ]
  },
  {
   "cell_type": "markdown",
   "metadata": {},
   "source": [
    "## Loaded Model"
   ]
  },
  {
   "cell_type": "code",
   "execution_count": 88,
   "metadata": {},
   "outputs": [
    {
     "data": {
      "text/plain": [
       "MolAtomBondMPNN(\n",
       "  (message_passing): MixedBondMessagePassing(\n",
       "    (W_i): Linear(in_features=86, out_features=300, bias=False)\n",
       "    (W_h): Linear(in_features=300, out_features=300, bias=False)\n",
       "    (W_o): Linear(in_features=372, out_features=300, bias=True)\n",
       "    (W_o_b): Linear(in_features=314, out_features=300, bias=True)\n",
       "    (dropout): Dropout(p=0.0, inplace=False)\n",
       "    (tau): ReLU()\n",
       "    (V_d_transform): Identity()\n",
       "    (E_d_transform): Identity()\n",
       "    (graph_transform): Identity()\n",
       "  )\n",
       "  (agg): MeanAggregation()\n",
       "  (bn): BatchNorm1d(300, eps=1e-05, momentum=0.1, affine=True, track_running_stats=True)\n",
       "  (predictors): ModuleList(\n",
       "    (0-1): 2 x RegressionFFN(\n",
       "      (ffn): MLP(\n",
       "        (0): Sequential(\n",
       "          (0): Linear(in_features=300, out_features=300, bias=True)\n",
       "        )\n",
       "        (1): Sequential(\n",
       "          (0): ReLU()\n",
       "          (1): Dropout(p=0.0, inplace=False)\n",
       "          (2): Linear(in_features=300, out_features=1, bias=True)\n",
       "        )\n",
       "      )\n",
       "      (criterion): MSE(task_weights=[[1.0]])\n",
       "      (output_transform): UnscaleTransform()\n",
       "    )\n",
       "    (2): RegressionFFN(\n",
       "      (ffn): MLP(\n",
       "        (0): Sequential(\n",
       "          (0): Linear(in_features=600, out_features=300, bias=True)\n",
       "        )\n",
       "        (1): Sequential(\n",
       "          (0): ReLU()\n",
       "          (1): Dropout(p=0.0, inplace=False)\n",
       "          (2): Linear(in_features=300, out_features=1, bias=True)\n",
       "        )\n",
       "      )\n",
       "      (criterion): MSE(task_weights=[[1.0]])\n",
       "      (output_transform): UnscaleTransform()\n",
       "    )\n",
       "  )\n",
       "  (X_d_transform): Identity()\n",
       "  (metrics): ModuleList(\n",
       "    (0-2): 3 x ModuleList(\n",
       "      (0): RMSE(task_weights=[[1.0]])\n",
       "      (1): MAE(task_weights=[[1.0]])\n",
       "      (2): MSE(task_weights=[[1.0]])\n",
       "    )\n",
       "  )\n",
       ")"
      ]
     },
     "execution_count": 88,
     "metadata": {},
     "output_type": "execute_result"
    }
   ],
   "source": [
    "model"
   ]
  },
  {
   "cell_type": "code",
   "execution_count": 89,
   "metadata": {},
   "outputs": [],
   "source": [
    "target_cols = df_test.columns.tolist()\n",
    "mol_cols, atom_cols, bond_cols = [], [], []\n",
    "for i in range(1, len(target_cols)):\n",
    "    index = 0\n",
    "    column_type = df_test.iloc[index][target_cols[i]]\n",
    "    if isinstance(column_type, float):\n",
    "        mol_cols.append(i)\n",
    "    else:\n",
    "        column_mol = make_mol(df_test.iloc[index][target_cols[0]], False, False)\n",
    "        column_type = ast.literal_eval(column_type)\n",
    "        while index < len(df_test) and column_mol.GetNumAtoms() == column_mol.GetNumBonds():\n",
    "            index += 1\n",
    "            column_mol = make_mol(df_test.iloc[index][target_cols[0]])\n",
    "        column_type = ast.literal_eval(df_test.iloc[index][target_cols[i]])\n",
    "        atom_cols.append(i) if len(column_type) == column_mol.GetNumAtoms() else bond_cols.append(i)"
   ]
  },
  {
   "cell_type": "code",
   "execution_count": 91,
   "metadata": {},
   "outputs": [
    {
     "name": "stdout",
     "output_type": "stream",
     "text": [
      "[2]\n",
      "tensor([[4.3620],\n",
      "        [4.0493],\n",
      "        [7.4568],\n",
      "        [7.3635],\n",
      "        [6.2358],\n",
      "        [7.6309],\n",
      "        [6.9027],\n",
      "        [7.3882],\n",
      "        [7.4814],\n",
      "        [8.6928]])\n"
     ]
    },
    {
     "data": {
      "text/html": [
       "<div>\n",
       "<style scoped>\n",
       "    .dataframe tbody tr th:only-of-type {\n",
       "        vertical-align: middle;\n",
       "    }\n",
       "\n",
       "    .dataframe tbody tr th {\n",
       "        vertical-align: top;\n",
       "    }\n",
       "\n",
       "    .dataframe thead th {\n",
       "        text-align: right;\n",
       "    }\n",
       "</style>\n",
       "<table border=\"1\" class=\"dataframe\">\n",
       "  <thead>\n",
       "    <tr style=\"text-align: right;\">\n",
       "      <th></th>\n",
       "      <th>smiles</th>\n",
       "      <th>molecule</th>\n",
       "      <th>atom</th>\n",
       "      <th>bond</th>\n",
       "    </tr>\n",
       "  </thead>\n",
       "  <tbody>\n",
       "    <tr>\n",
       "      <th>0</th>\n",
       "      <td>CC</td>\n",
       "      <td>4.362026</td>\n",
       "      <td>[2.582777738571167, 2.582777738571167]</td>\n",
       "      <td>[1.3666716814041138, 1.3666716814041138]</td>\n",
       "    </tr>\n",
       "    <tr>\n",
       "      <th>1</th>\n",
       "      <td>CCC</td>\n",
       "      <td>4.049263</td>\n",
       "      <td>[2.5190482139587402, 2.573632001876831, 2.5190...</td>\n",
       "      <td>[1.5166375637054443, 1.5058560371398926, 1.505...</td>\n",
       "    </tr>\n",
       "    <tr>\n",
       "      <th>2</th>\n",
       "      <td>CCCO</td>\n",
       "      <td>7.456800</td>\n",
       "      <td>[2.5240964889526367, 2.498371124267578, 2.6669...</td>\n",
       "      <td>[1.5166375637054443, 1.5381231307983398, 1.531...</td>\n",
       "    </tr>\n",
       "    <tr>\n",
       "      <th>3</th>\n",
       "      <td>CCOO</td>\n",
       "      <td>7.363490</td>\n",
       "      <td>[2.5215775966644287, 2.6069016456604004, 3.424...</td>\n",
       "      <td>[1.6841650009155273, 2.479125499725342, 2.4594...</td>\n",
       "    </tr>\n",
       "    <tr>\n",
       "      <th>4</th>\n",
       "      <td>COO</td>\n",
       "      <td>6.235751</td>\n",
       "      <td>[2.5659852027893066, 3.5201239585876465, 3.503...</td>\n",
       "      <td>[1.538448452949524, 2.192457914352417, 2.17960...</td>\n",
       "    </tr>\n",
       "    <tr>\n",
       "      <th>5</th>\n",
       "      <td>CCOOO</td>\n",
       "      <td>7.630944</td>\n",
       "      <td>[2.5181939601898193, 2.6313321590423584, 3.296...</td>\n",
       "      <td>[2.984977960586548, 2.9720447063446045, 1.9484...</td>\n",
       "    </tr>\n",
       "    <tr>\n",
       "      <th>6</th>\n",
       "      <td>COOO</td>\n",
       "      <td>6.902697</td>\n",
       "      <td>[2.592841148376465, 3.398362159729004, 3.54325...</td>\n",
       "      <td>[2.9119653701782227, 1.5535534620285034, 1.542...</td>\n",
       "    </tr>\n",
       "    <tr>\n",
       "      <th>7</th>\n",
       "      <td>CO</td>\n",
       "      <td>7.388216</td>\n",
       "      <td>[2.7064247131347656, 3.4429869651794434]</td>\n",
       "      <td>[2.3094632625579834, 2.811837673187256]</td>\n",
       "    </tr>\n",
       "    <tr>\n",
       "      <th>8</th>\n",
       "      <td>CCO</td>\n",
       "      <td>7.481431</td>\n",
       "      <td>[2.500397205352783, 2.7566416263580322, 3.3821...</td>\n",
       "      <td>[2.804741144180298, 3.0038018226623535, 2.9953...</td>\n",
       "    </tr>\n",
       "    <tr>\n",
       "      <th>9</th>\n",
       "      <td>OO</td>\n",
       "      <td>8.692772</td>\n",
       "      <td>[3.6297266483306885, 3.6297266483306885]</td>\n",
       "      <td>[2.0775113105773926, 2.058058023452759]</td>\n",
       "    </tr>\n",
       "  </tbody>\n",
       "</table>\n",
       "</div>"
      ],
      "text/plain": [
       "  smiles  molecule                                               atom  \\\n",
       "0     CC  4.362026             [2.582777738571167, 2.582777738571167]   \n",
       "1    CCC  4.049263  [2.5190482139587402, 2.573632001876831, 2.5190...   \n",
       "2   CCCO  7.456800  [2.5240964889526367, 2.498371124267578, 2.6669...   \n",
       "3   CCOO  7.363490  [2.5215775966644287, 2.6069016456604004, 3.424...   \n",
       "4    COO  6.235751  [2.5659852027893066, 3.5201239585876465, 3.503...   \n",
       "5  CCOOO  7.630944  [2.5181939601898193, 2.6313321590423584, 3.296...   \n",
       "6   COOO  6.902697  [2.592841148376465, 3.398362159729004, 3.54325...   \n",
       "7     CO  7.388216           [2.7064247131347656, 3.4429869651794434]   \n",
       "8    CCO  7.481431  [2.500397205352783, 2.7566416263580322, 3.3821...   \n",
       "9     OO  8.692772           [3.6297266483306885, 3.6297266483306885]   \n",
       "\n",
       "                                                bond  \n",
       "0           [1.3666716814041138, 1.3666716814041138]  \n",
       "1  [1.5166375637054443, 1.5058560371398926, 1.505...  \n",
       "2  [1.5166375637054443, 1.5381231307983398, 1.531...  \n",
       "3  [1.6841650009155273, 2.479125499725342, 2.4594...  \n",
       "4  [1.538448452949524, 2.192457914352417, 2.17960...  \n",
       "5  [2.984977960586548, 2.9720447063446045, 1.9484...  \n",
       "6  [2.9119653701782227, 1.5535534620285034, 1.542...  \n",
       "7            [2.3094632625579834, 2.811837673187256]  \n",
       "8  [2.804741144180298, 3.0038018226623535, 2.9953...  \n",
       "9            [2.0775113105773926, 2.058058023452759]  "
      ]
     },
     "execution_count": 91,
     "metadata": {},
     "output_type": "execute_result"
    }
   ],
   "source": [
    "print(atom_cols)\n",
    "print(mol_average_preds)\n",
    "df_test.iloc[:, mol_cols] = mol_average_preds.tolist()\n",
    "\n",
    "for i in range(len(df_test)):\n",
    "    first_atom = atom_slices.index(i)\n",
    "    last_atom = first_atom + atom_slices.count(i)\n",
    "    atom_preds = atom_average_preds[first_atom:last_atom]\n",
    "    df_test.iloc[i, atom_cols] = [str(atom_preds[:,j].tolist()) for j in range(len(atom_cols))]\n",
    "\n",
    "    first_bond = bond_slices.index(i)\n",
    "    last_bond = first_bond + bond_slices.count(i)\n",
    "    bond_preds = bond_average_preds[first_atom:last_atom]\n",
    "    df_test.iloc[i, bond_cols] = [str(bond_preds[:,j].tolist()) for j in range(len(bond_cols))]\n",
    "\n",
    "#torch.split(average_preds, split_size_or_sections=torch.bincount(torch.tensor(slices)).tolist(), dim=0)\n",
    "\n",
    "output_path = chemprop_dir / \"tests\" / \"data\" / \"mixed_regression_output.csv\"\n",
    "if output_path.suffix == \".pkl\":\n",
    "    df_test = df_test.reset_index(drop=True)\n",
    "    df_test.to_pickle(output_path)\n",
    "else:\n",
    "    df_test.to_csv(output_path, index=False)\n",
    "\n",
    "df_test\n",
    "\n",
    "# do the reordering of target columns outside here in jupyter notebook but inside parsing.py in the cli"
   ]
  },
  {
   "cell_type": "code",
   "execution_count": null,
   "metadata": {},
   "outputs": [],
   "source": []
  }
 ],
 "metadata": {
  "kernelspec": {
   "display_name": "Python 3 (ipykernel)",
   "language": "python",
   "name": "python3"
  },
  "language_info": {
   "codemirror_mode": {
    "name": "ipython",
    "version": 3
   },
   "file_extension": ".py",
   "mimetype": "text/x-python",
   "name": "python",
   "nbconvert_exporter": "python",
   "pygments_lexer": "ipython3",
   "version": "3.11.9"
  }
 },
 "nbformat": 4,
 "nbformat_minor": 4
}

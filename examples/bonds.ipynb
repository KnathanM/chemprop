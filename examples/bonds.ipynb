{
 "cells": [
  {
   "cell_type": "markdown",
   "metadata": {},
   "source": [
    "# Training"
   ]
  },
  {
   "cell_type": "markdown",
   "metadata": {},
   "source": [
    "# Import packages"
   ]
  },
  {
   "cell_type": "code",
   "execution_count": 1,
   "metadata": {},
   "outputs": [],
   "source": [
    "import pandas as pd\n",
    "from pathlib import Path\n",
    "import numpy as np\n",
    "import ast\n",
    "\n",
    "from lightning import pytorch as pl\n",
    "from lightning.pytorch.callbacks import ModelCheckpoint\n",
    "\n",
    "from chemprop import data, featurizers, models, nn\n",
    "from chemprop.utils import make_mol"
   ]
  },
  {
   "cell_type": "markdown",
   "metadata": {},
   "source": [
    "# Change data inputs here"
   ]
  },
  {
   "cell_type": "code",
   "execution_count": 2,
   "metadata": {},
   "outputs": [],
   "source": [
    "chemprop_dir = Path.cwd().parent\n",
    "input_path = chemprop_dir / \"tests\" / \"data\" / \"mixed_regression_input.csv\" # path to your data .csv file\n",
    "num_workers = 0 # number of workers for dataloader. 0 means using main process for data loading\n",
    "smiles_column = 'smiles' # name of the column containing SMILES strings\n",
    "target_columns = ['molecule', 'atom', 'bond'] # list of names of the columns containing targets"
   ]
  },
  {
   "cell_type": "code",
   "execution_count": 3,
   "metadata": {},
   "outputs": [
    {
     "data": {
      "text/html": [
       "<div>\n",
       "<style scoped>\n",
       "    .dataframe tbody tr th:only-of-type {\n",
       "        vertical-align: middle;\n",
       "    }\n",
       "\n",
       "    .dataframe tbody tr th {\n",
       "        vertical-align: top;\n",
       "    }\n",
       "\n",
       "    .dataframe thead th {\n",
       "        text-align: right;\n",
       "    }\n",
       "</style>\n",
       "<table border=\"1\" class=\"dataframe\">\n",
       "  <thead>\n",
       "    <tr style=\"text-align: right;\">\n",
       "      <th></th>\n",
       "      <th>smiles</th>\n",
       "      <th>molecule</th>\n",
       "      <th>atom</th>\n",
       "      <th>bond</th>\n",
       "    </tr>\n",
       "  </thead>\n",
       "  <tbody>\n",
       "    <tr>\n",
       "      <th>0</th>\n",
       "      <td>CC</td>\n",
       "      <td>1.0</td>\n",
       "      <td>[1,2]</td>\n",
       "      <td>[1]</td>\n",
       "    </tr>\n",
       "    <tr>\n",
       "      <th>1</th>\n",
       "      <td>CCC</td>\n",
       "      <td>2.0</td>\n",
       "      <td>[1,2,3]</td>\n",
       "      <td>[1,2]</td>\n",
       "    </tr>\n",
       "    <tr>\n",
       "      <th>2</th>\n",
       "      <td>CCCO</td>\n",
       "      <td>3.0</td>\n",
       "      <td>[1,2,3,5]</td>\n",
       "      <td>[1,2,3]</td>\n",
       "    </tr>\n",
       "    <tr>\n",
       "      <th>3</th>\n",
       "      <td>CCOO</td>\n",
       "      <td>4.0</td>\n",
       "      <td>[1,2,3,4]</td>\n",
       "      <td>[1,2,3]</td>\n",
       "    </tr>\n",
       "    <tr>\n",
       "      <th>4</th>\n",
       "      <td>COO</td>\n",
       "      <td>5.0</td>\n",
       "      <td>[1,3,5]</td>\n",
       "      <td>[1,2]</td>\n",
       "    </tr>\n",
       "    <tr>\n",
       "      <th>5</th>\n",
       "      <td>CCOOO</td>\n",
       "      <td>6.0</td>\n",
       "      <td>[1,7,3,4,5]</td>\n",
       "      <td>[1,3,2,4]</td>\n",
       "    </tr>\n",
       "    <tr>\n",
       "      <th>6</th>\n",
       "      <td>COOO</td>\n",
       "      <td>7.0</td>\n",
       "      <td>[2,5,3,2]</td>\n",
       "      <td>[2,3,4]</td>\n",
       "    </tr>\n",
       "    <tr>\n",
       "      <th>7</th>\n",
       "      <td>CO</td>\n",
       "      <td>8.0</td>\n",
       "      <td>[1,3]</td>\n",
       "      <td>[2]</td>\n",
       "    </tr>\n",
       "    <tr>\n",
       "      <th>8</th>\n",
       "      <td>CCO</td>\n",
       "      <td>9.0</td>\n",
       "      <td>[1,3,5]</td>\n",
       "      <td>[2,3]</td>\n",
       "    </tr>\n",
       "    <tr>\n",
       "      <th>9</th>\n",
       "      <td>OO</td>\n",
       "      <td>10.0</td>\n",
       "      <td>[5,7]</td>\n",
       "      <td>[3]</td>\n",
       "    </tr>\n",
       "  </tbody>\n",
       "</table>\n",
       "</div>"
      ],
      "text/plain": [
       "  smiles  molecule         atom       bond\n",
       "0     CC       1.0        [1,2]        [1]\n",
       "1    CCC       2.0      [1,2,3]      [1,2]\n",
       "2   CCCO       3.0    [1,2,3,5]    [1,2,3]\n",
       "3   CCOO       4.0    [1,2,3,4]    [1,2,3]\n",
       "4    COO       5.0      [1,3,5]      [1,2]\n",
       "5  CCOOO       6.0  [1,7,3,4,5]  [1,3,2,4]\n",
       "6   COOO       7.0    [2,5,3,2]    [2,3,4]\n",
       "7     CO       8.0        [1,3]        [2]\n",
       "8    CCO       9.0      [1,3,5]      [2,3]\n",
       "9     OO      10.0        [5,7]        [3]"
      ]
     },
     "execution_count": 3,
     "metadata": {},
     "output_type": "execute_result"
    }
   ],
   "source": [
    "df_input = pd.read_csv(input_path)\n",
    "df_input"
   ]
  },
  {
   "cell_type": "markdown",
   "metadata": {},
   "source": [
    "## Get SMILES and targets"
   ]
  },
  {
   "cell_type": "code",
   "execution_count": 4,
   "metadata": {},
   "outputs": [],
   "source": [
    "smis = df_input.loc[:, smiles_column].values\n",
    "ys = df_input.loc[:, target_columns]"
   ]
  },
  {
   "cell_type": "code",
   "execution_count": 5,
   "metadata": {},
   "outputs": [
    {
     "data": {
      "text/plain": [
       "array(['CC', 'CCC'], dtype=object)"
      ]
     },
     "execution_count": 5,
     "metadata": {},
     "output_type": "execute_result"
    }
   ],
   "source": [
    "smis[:2] # show first 2 SMILES strings"
   ]
  },
  {
   "cell_type": "code",
   "execution_count": 6,
   "metadata": {},
   "outputs": [
    {
     "data": {
      "text/html": [
       "<div>\n",
       "<style scoped>\n",
       "    .dataframe tbody tr th:only-of-type {\n",
       "        vertical-align: middle;\n",
       "    }\n",
       "\n",
       "    .dataframe tbody tr th {\n",
       "        vertical-align: top;\n",
       "    }\n",
       "\n",
       "    .dataframe thead th {\n",
       "        text-align: right;\n",
       "    }\n",
       "</style>\n",
       "<table border=\"1\" class=\"dataframe\">\n",
       "  <thead>\n",
       "    <tr style=\"text-align: right;\">\n",
       "      <th></th>\n",
       "      <th>molecule</th>\n",
       "      <th>atom</th>\n",
       "      <th>bond</th>\n",
       "    </tr>\n",
       "  </thead>\n",
       "  <tbody>\n",
       "    <tr>\n",
       "      <th>0</th>\n",
       "      <td>1.0</td>\n",
       "      <td>[1,2]</td>\n",
       "      <td>[1]</td>\n",
       "    </tr>\n",
       "    <tr>\n",
       "      <th>1</th>\n",
       "      <td>2.0</td>\n",
       "      <td>[1,2,3]</td>\n",
       "      <td>[1,2]</td>\n",
       "    </tr>\n",
       "    <tr>\n",
       "      <th>2</th>\n",
       "      <td>3.0</td>\n",
       "      <td>[1,2,3,5]</td>\n",
       "      <td>[1,2,3]</td>\n",
       "    </tr>\n",
       "    <tr>\n",
       "      <th>3</th>\n",
       "      <td>4.0</td>\n",
       "      <td>[1,2,3,4]</td>\n",
       "      <td>[1,2,3]</td>\n",
       "    </tr>\n",
       "    <tr>\n",
       "      <th>4</th>\n",
       "      <td>5.0</td>\n",
       "      <td>[1,3,5]</td>\n",
       "      <td>[1,2]</td>\n",
       "    </tr>\n",
       "  </tbody>\n",
       "</table>\n",
       "</div>"
      ],
      "text/plain": [
       "   molecule       atom     bond\n",
       "0       1.0      [1,2]      [1]\n",
       "1       2.0    [1,2,3]    [1,2]\n",
       "2       3.0  [1,2,3,5]  [1,2,3]\n",
       "3       4.0  [1,2,3,4]  [1,2,3]\n",
       "4       5.0    [1,3,5]    [1,2]"
      ]
     },
     "execution_count": 6,
     "metadata": {},
     "output_type": "execute_result"
    }
   ],
   "source": [
    "ys[:5] # show first 5 molecule targets"
   ]
  },
  {
   "cell_type": "code",
   "execution_count": 7,
   "metadata": {},
   "outputs": [
    {
     "name": "stdout",
     "output_type": "stream",
     "text": [
      "[[1.0], [2.0], [3.0], [4.0], [5.0], [6.0], [7.0], [8.0], [9.0], [10.0]]\n"
     ]
    }
   ],
   "source": [
    "import numpy as np\n",
    "\n",
    "flag, mol_Y, atom_Y, bond_Y = [], [], [], []\n",
    "for column in target_columns:\n",
    "    index = 0\n",
    "    column_type = df_input.iloc[index][column]\n",
    "    if isinstance(column_type, float):\n",
    "        for molecule in range(len(df_input)):\n",
    "            mol_Y.append([df_input.iloc[molecule][column]])\n",
    "        flag.append(\"mol\")\n",
    "    else:\n",
    "        column_mol = make_mol(df_input.iloc[index][smiles_column], False, False)\n",
    "        column_type = ast.literal_eval(column_type)\n",
    "        while index < len(df_input) and column_mol.GetNumAtoms() == column_mol.GetNumBonds():\n",
    "            index += 1\n",
    "            column_mol = make_mol(df_input.iloc[index][smiles_cols])\n",
    "        flag.append(\"atom\") if len(column_type) == column_mol.GetNumAtoms() else flag.append(\"bond\")\n",
    "        \n",
    "for molecule in range(len(df_input)):\n",
    "    atom_list_props = []\n",
    "    bond_list_props = []\n",
    "    for prop in range(len(target_columns)):\n",
    "        if flag[prop] == \"mol\":\n",
    "            continue\n",
    "        np_prop = np.array(ast.literal_eval(df_input.iloc[molecule][target_columns[prop]]))\n",
    "        np_prop = np.expand_dims(np_prop, axis=1)\n",
    "        atom_list_props.append(np_prop) if flag[prop] == \"atom\" else bond_list_props.append(np_prop)\n",
    "    if len(atom_list_props) > 0:\n",
    "        atom_Y.append(np.hstack(atom_list_props))\n",
    "    if len(bond_list_props) > 0:\n",
    "        bond_Y.append(np.hstack(bond_list_props))\n",
    "\n",
    "print(mol_Y)"
   ]
  },
  {
   "cell_type": "markdown",
   "metadata": {},
   "source": [
    "## Get molecule datapoints"
   ]
  },
  {
   "cell_type": "code",
   "execution_count": 8,
   "metadata": {},
   "outputs": [],
   "source": [
    "all_data = []\n",
    "\n",
    "mol_data = []\n",
    "for smi, y in zip(smis, mol_Y):\n",
    "    mol_data.append(data.MoleculeDatapoint.from_smi(smi, y, keep_h=True))\n",
    "\n",
    "atom_data = []\n",
    "for smi, y in zip(smis, atom_Y):\n",
    "    atom_data.append(data.MoleculeDatapoint.from_smi(smi, y, keep_h=True))\n",
    "\n",
    "bond_data = []\n",
    "for smi, y in zip(smis, bond_Y):\n",
    "    bond_data.append(data.MoleculeDatapoint.from_smi(smi, y, keep_h=True))\n",
    "\n",
    "all_data.append(mol_data)\n",
    "all_data.append(atom_data)\n",
    "all_data.append(bond_data)"
   ]
  },
  {
   "cell_type": "markdown",
   "metadata": {},
   "source": [
    "## Perform data splitting for training, validation, and testing"
   ]
  },
  {
   "cell_type": "code",
   "execution_count": 9,
   "metadata": {},
   "outputs": [
    {
     "data": {
      "text/plain": [
       "['SCAFFOLD_BALANCED',\n",
       " 'RANDOM_WITH_REPEATED_SMILES',\n",
       " 'RANDOM',\n",
       " 'KENNARD_STONE',\n",
       " 'KMEANS']"
      ]
     },
     "execution_count": 9,
     "metadata": {},
     "output_type": "execute_result"
    }
   ],
   "source": [
    "# available split types\n",
    "list(data.SplitType.keys())"
   ]
  },
  {
   "cell_type": "code",
   "execution_count": 10,
   "metadata": {},
   "outputs": [],
   "source": [
    "mol = [d.mol for d in all_data[0]]\n",
    "\n",
    "train_indices, val_indices, test_indices = data.make_split_indices(mol, \"random\", (0.6, 0.2, 0.2))\n",
    "train_data, val_data, test_data = data.split_data_by_indices(\n",
    "    all_data, train_indices, val_indices, test_indices\n",
    ")\n"
   ]
  },
  {
   "cell_type": "markdown",
   "metadata": {},
   "source": [
    "## Get AtomDataset"
   ]
  },
  {
   "cell_type": "code",
   "execution_count": 11,
   "metadata": {},
   "outputs": [],
   "source": [
    "featurizer = featurizers.SimpleMoleculeMolGraphFeaturizer()\n",
    "\n",
    "train_dsets = []\n",
    "train_dsets.append(data.MoleculeDataset(train_data[0][0], featurizer))\n",
    "train_dsets.append(data.AtomDataset(train_data[0][1], featurizer))\n",
    "train_dsets.append(data.BondDataset(train_data[0][2], featurizer))\n",
    "mol_scaler = train_dsets[0].normalize_targets()\n",
    "atom_scaler = train_dsets[1].normalize_targets()\n",
    "bond_scaler = train_dsets[2].normalize_targets()\n",
    "train_dset = data.MolAtomBondDataset(train_dsets[0], train_dsets[1], train_dsets[2])"
   ]
  },
  {
   "cell_type": "code",
   "execution_count": 12,
   "metadata": {},
   "outputs": [],
   "source": [
    "val_dsets = []\n",
    "val_dsets.append(data.MoleculeDataset(val_data[0][0], featurizer))\n",
    "val_dsets.append(data.AtomDataset(val_data[0][1], featurizer))\n",
    "val_dsets.append(data.BondDataset(val_data[0][2], featurizer))\n",
    "val_dsets[0].normalize_targets(mol_scaler)\n",
    "val_dsets[1].normalize_targets(atom_scaler)\n",
    "val_dsets[2].normalize_targets(bond_scaler)\n",
    "val_dset = data.MolAtomBondDataset(val_dsets[0], val_dsets[1], val_dsets[2])\n",
    "\n",
    "test_dsets = []\n",
    "test_dsets.append(data.MoleculeDataset(test_data[0][0], featurizer))\n",
    "test_dsets.append(data.AtomDataset(test_data[0][1], featurizer))\n",
    "test_dsets.append(data.BondDataset(test_data[0][2], featurizer))\n",
    "test_dset = data.MolAtomBondDataset(test_dsets[0], test_dsets[1], test_dsets[2])\n",
    "\n",
    "all_dsets = []\n",
    "all_dsets.append(data.MoleculeDataset(all_data[0], featurizer))\n",
    "all_atom_data = data.AtomDataset(all_data[1], featurizer)\n",
    "all_dsets.append(all_atom_data)\n",
    "atom_slices = all_atom_data._slices\n",
    "all_bond_data = data.BondDataset(all_data[2], featurizer)\n",
    "all_dsets.append(all_bond_data)\n",
    "bond_slices = all_bond_data._slices\n",
    "all_dset = data.MolAtomBondDataset(all_dsets[0], all_dsets[1], all_dsets[2])"
   ]
  },
  {
   "cell_type": "markdown",
   "metadata": {},
   "source": [
    "## Get DataLoader"
   ]
  },
  {
   "cell_type": "code",
   "execution_count": 13,
   "metadata": {},
   "outputs": [],
   "source": [
    "train_loader = data.build_dataloader(train_dset, num_workers=num_workers, shuffle=False)\n",
    "val_loader = data.build_dataloader(val_dset, num_workers=num_workers, shuffle=False)\n",
    "test_loader = data.build_dataloader(test_dset, num_workers=num_workers, shuffle=False)\n",
    "all_loader = data.build_dataloader(all_dset, num_workers=num_workers, shuffle=False)"
   ]
  },
  {
   "cell_type": "markdown",
   "metadata": {},
   "source": [
    "# Change Message-Passing Neural Network (MPNN) inputs here"
   ]
  },
  {
   "cell_type": "markdown",
   "metadata": {},
   "source": [
    "## Message Passing\n",
    "A `Message passing` constructs molecular graphs using message passing to learn node-level hidden representations.\n",
    "\n",
    "Options are `mp = nn.BondMessagePassing()` or `mp = nn.AtomMessagePassing()`"
   ]
  },
  {
   "cell_type": "code",
   "execution_count": 14,
   "metadata": {},
   "outputs": [],
   "source": [
    "mp = nn.MixedBondMessagePassing() #include why aggregation isn't used"
   ]
  },
  {
   "cell_type": "markdown",
   "metadata": {},
   "source": [
    "## Feed-Forward Network (FFN)\n",
    "\n",
    "A `FFN` takes the aggregated representations and make target predictions.\n",
    "\n",
    "Available options can be found in `nn.PredictorRegistry`.\n",
    "\n",
    "For regression:\n",
    "- `ffn = nn.RegressionFFN()`\n",
    "- `ffn = nn.MveFFN()`\n",
    "- `ffn = nn.EvidentialFFN()`\n",
    "\n",
    "For classification:\n",
    "- `ffn = nn.BinaryClassificationFFN()`\n",
    "- `ffn = nn.BinaryDirichletFFN()`\n",
    "- `ffn = nn.MulticlassClassificationFFN()`\n",
    "- `ffn = nn.MulticlassDirichletFFN()`\n",
    "\n",
    "For spectral:\n",
    "- `ffn = nn.SpectralFFN()` # will be available in future version"
   ]
  },
  {
   "cell_type": "code",
   "execution_count": 15,
   "metadata": {},
   "outputs": [
    {
     "name": "stdout",
     "output_type": "stream",
     "text": [
      "ClassRegistry {\n",
      "    'regression': <class 'chemprop.nn.predictors.RegressionFFN'>,\n",
      "    'regression-mve': <class 'chemprop.nn.predictors.MveFFN'>,\n",
      "    'regression-evidential': <class 'chemprop.nn.predictors.EvidentialFFN'>,\n",
      "    'regression-quantile': <class 'chemprop.nn.predictors.QuantileFFN'>,\n",
      "    'classification': <class 'chemprop.nn.predictors.BinaryClassificationFFN'>,\n",
      "    'classification-dirichlet': <class 'chemprop.nn.predictors.BinaryDirichletFFN'>,\n",
      "    'multiclass': <class 'chemprop.nn.predictors.MulticlassClassificationFFN'>,\n",
      "    'multiclass-dirichlet': <class 'chemprop.nn.predictors.MulticlassDirichletFFN'>,\n",
      "    'spectral': <class 'chemprop.nn.predictors.SpectralFFN'>\n",
      "}\n"
     ]
    }
   ],
   "source": [
    "print(nn.PredictorRegistry)"
   ]
  },
  {
   "cell_type": "code",
   "execution_count": 16,
   "metadata": {},
   "outputs": [],
   "source": [
    "mol_output_transform = nn.UnscaleTransform.from_standard_scaler(mol_scaler)\n",
    "atom_output_transform = nn.UnscaleTransform.from_standard_scaler(atom_scaler)\n",
    "bond_output_transform = nn.UnscaleTransform.from_standard_scaler(bond_scaler)"
   ]
  },
  {
   "cell_type": "code",
   "execution_count": 17,
   "metadata": {},
   "outputs": [],
   "source": [
    "mol_ffn = nn.RegressionFFN(output_transform=mol_output_transform, n_tasks=1)\n",
    "atom_ffn = nn.RegressionFFN(output_transform=atom_output_transform, n_tasks=1)\n",
    "bond_ffn = nn.RegressionFFN(output_transform=bond_output_transform, input_dim=600, n_tasks=1)"
   ]
  },
  {
   "cell_type": "markdown",
   "metadata": {},
   "source": [
    "## Batch Norm\n",
    "A `Batch Norm` normalizes the outputs of the aggregation by re-centering and re-scaling.\n",
    "\n",
    "Whether to use batch norm"
   ]
  },
  {
   "cell_type": "code",
   "execution_count": 18,
   "metadata": {},
   "outputs": [],
   "source": [
    "batch_norm = True"
   ]
  },
  {
   "cell_type": "markdown",
   "metadata": {},
   "source": [
    "## Metrics\n",
    "`Metrics` are the ways to evaluate the performance of model predictions.\n",
    "\n",
    "Available options can be found in `metrics.MetricRegistry`, including"
   ]
  },
  {
   "cell_type": "code",
   "execution_count": 19,
   "metadata": {},
   "outputs": [
    {
     "name": "stdout",
     "output_type": "stream",
     "text": [
      "ClassRegistry {\n",
      "    'mse': <class 'chemprop.nn.metrics.MSE'>,\n",
      "    'mae': <class 'chemprop.nn.metrics.MAE'>,\n",
      "    'rmse': <class 'chemprop.nn.metrics.RMSE'>,\n",
      "    'bounded-mse': <class 'chemprop.nn.metrics.BoundedMSE'>,\n",
      "    'bounded-mae': <class 'chemprop.nn.metrics.BoundedMAE'>,\n",
      "    'bounded-rmse': <class 'chemprop.nn.metrics.BoundedRMSE'>,\n",
      "    'r2': <class 'chemprop.nn.metrics.R2Score'>,\n",
      "    'binary-mcc': <class 'chemprop.nn.metrics.BinaryMCCMetric'>,\n",
      "    'multiclass-mcc': <class 'chemprop.nn.metrics.MulticlassMCCMetric'>,\n",
      "    'roc': <class 'chemprop.nn.metrics.BinaryAUROC'>,\n",
      "    'prc': <class 'chemprop.nn.metrics.BinaryAUPRC'>,\n",
      "    'accuracy': <class 'chemprop.nn.metrics.BinaryAccuracy'>,\n",
      "    'f1': <class 'chemprop.nn.metrics.BinaryF1Score'>\n",
      "}\n"
     ]
    }
   ],
   "source": [
    "print(nn.metrics.MetricRegistry)"
   ]
  },
  {
   "cell_type": "code",
   "execution_count": 20,
   "metadata": {},
   "outputs": [],
   "source": [
    "metric_list = [nn.metrics.RMSE(), nn.metrics.MAE()] # Only the first metric is used for training and early stopping"
   ]
  },
  {
   "cell_type": "markdown",
   "metadata": {},
   "source": [
    "## Constructs MPNN"
   ]
  },
  {
   "cell_type": "code",
   "execution_count": 21,
   "metadata": {},
   "outputs": [
    {
     "name": "stderr",
     "output_type": "stream",
     "text": [
      "/opt/anaconda3/envs/chemprop/lib/python3.11/site-packages/lightning/pytorch/utilities/parsing.py:208: Attribute 'mol_predictor' is an instance of `nn.Module` and is already saved during checkpointing. It is recommended to ignore them using `self.save_hyperparameters(ignore=['mol_predictor'])`.\n",
      "/opt/anaconda3/envs/chemprop/lib/python3.11/site-packages/lightning/pytorch/utilities/parsing.py:208: Attribute 'atom_predictor' is an instance of `nn.Module` and is already saved during checkpointing. It is recommended to ignore them using `self.save_hyperparameters(ignore=['atom_predictor'])`.\n",
      "/opt/anaconda3/envs/chemprop/lib/python3.11/site-packages/lightning/pytorch/utilities/parsing.py:208: Attribute 'bond_predictor' is an instance of `nn.Module` and is already saved during checkpointing. It is recommended to ignore them using `self.save_hyperparameters(ignore=['bond_predictor'])`.\n"
     ]
    },
    {
     "data": {
      "text/plain": [
       "MolAtomBondMPNN(\n",
       "  (message_passing): MixedBondMessagePassing(\n",
       "    (W_i): Linear(in_features=86, out_features=300, bias=False)\n",
       "    (W_h): Linear(in_features=300, out_features=300, bias=False)\n",
       "    (W_o): Linear(in_features=372, out_features=300, bias=True)\n",
       "    (W_o_b): Linear(in_features=314, out_features=300, bias=True)\n",
       "    (dropout): Dropout(p=0.0, inplace=False)\n",
       "    (tau): ReLU()\n",
       "    (V_d_transform): Identity()\n",
       "    (E_d_transform): Identity()\n",
       "    (graph_transform): Identity()\n",
       "  )\n",
       "  (agg): MeanAggregation()\n",
       "  (bn): BatchNorm1d(300, eps=1e-05, momentum=0.1, affine=True, track_running_stats=True)\n",
       "  (predictors): ModuleList(\n",
       "    (0-1): 2 x RegressionFFN(\n",
       "      (ffn): MLP(\n",
       "        (0): Sequential(\n",
       "          (0): Linear(in_features=300, out_features=300, bias=True)\n",
       "        )\n",
       "        (1): Sequential(\n",
       "          (0): ReLU()\n",
       "          (1): Dropout(p=0.0, inplace=False)\n",
       "          (2): Linear(in_features=300, out_features=1, bias=True)\n",
       "        )\n",
       "      )\n",
       "      (criterion): MSE(task_weights=[[1.0]])\n",
       "      (output_transform): UnscaleTransform()\n",
       "    )\n",
       "    (2): RegressionFFN(\n",
       "      (ffn): MLP(\n",
       "        (0): Sequential(\n",
       "          (0): Linear(in_features=600, out_features=300, bias=True)\n",
       "        )\n",
       "        (1): Sequential(\n",
       "          (0): ReLU()\n",
       "          (1): Dropout(p=0.0, inplace=False)\n",
       "          (2): Linear(in_features=300, out_features=1, bias=True)\n",
       "        )\n",
       "      )\n",
       "      (criterion): MSE(task_weights=[[1.0]])\n",
       "      (output_transform): UnscaleTransform()\n",
       "    )\n",
       "  )\n",
       "  (X_d_transform): Identity()\n",
       "  (metrics): ModuleList(\n",
       "    (0-2): 3 x ModuleList(\n",
       "      (0): RMSE(task_weights=[[1.0]])\n",
       "      (1): MAE(task_weights=[[1.0]])\n",
       "      (2): MSE(task_weights=[[1.0]])\n",
       "    )\n",
       "  )\n",
       ")"
      ]
     },
     "execution_count": 21,
     "metadata": {},
     "output_type": "execute_result"
    }
   ],
   "source": [
    "agg = nn.MeanAggregation()\n",
    "mol_atom_bond_mpnn = models.MolAtomBondMPNN(mp, agg, mol_ffn, atom_ffn, bond_ffn, batch_norm, metric_list)\n",
    "\n",
    "mol_atom_bond_mpnn"
   ]
  },
  {
   "cell_type": "markdown",
   "metadata": {},
   "source": [
    "# Set up trainer"
   ]
  },
  {
   "cell_type": "code",
   "execution_count": 22,
   "metadata": {},
   "outputs": [
    {
     "name": "stderr",
     "output_type": "stream",
     "text": [
      "GPU available: True (mps), used: False\n",
      "TPU available: False, using: 0 TPU cores\n",
      "HPU available: False, using: 0 HPUs\n",
      "/opt/anaconda3/envs/chemprop/lib/python3.11/site-packages/lightning/pytorch/trainer/setup.py:177: GPU available but not used. You can set it by doing `Trainer(accelerator='gpu')`.\n"
     ]
    }
   ],
   "source": [
    "# Configure model checkpointing\n",
    "checkpointing = ModelCheckpoint(\n",
    "    \"checkpoints\",  # Directory where model checkpoints will be saved\n",
    "    \"best-{epoch}-{val_loss:.2f}\",  # Filename format for checkpoints, including epoch and validation loss\n",
    "    \"val_loss\",  # Metric used to select the best checkpoint (based on validation loss)\n",
    "    mode=\"min\",  # Save the checkpoint with the lowest validation loss (minimization objective)\n",
    "    save_last=True,  # Always save the most recent checkpoint, even if it's not the best\n",
    ")\n",
    "\n",
    "trainer = pl.Trainer(\n",
    "    logger=False,\n",
    "    enable_checkpointing=True, # Use `True` if you want to save model checkpoints. The checkpoints will be saved in the `checkpoints` folder.\n",
    "    enable_progress_bar=True,\n",
    "    accelerator=\"cpu\",\n",
    "    devices=1,\n",
    "    max_epochs=20, # number of epochs to train for\n",
    "    callbacks=[checkpointing],\n",
    ")"
   ]
  },
  {
   "cell_type": "markdown",
   "metadata": {},
   "source": [
    "# Start training"
   ]
  },
  {
   "cell_type": "code",
   "execution_count": 23,
   "metadata": {},
   "outputs": [
    {
     "name": "stderr",
     "output_type": "stream",
     "text": [
      "/opt/anaconda3/envs/chemprop/lib/python3.11/site-packages/lightning/pytorch/callbacks/model_checkpoint.py:654: Checkpoint directory /Users/brianli/Documents/chemprop/examples/checkpoints exists and is not empty.\n",
      "Loading `train_dataloader` to estimate number of stepping batches.\n",
      "/opt/anaconda3/envs/chemprop/lib/python3.11/site-packages/lightning/pytorch/trainer/connectors/data_connector.py:424: The 'train_dataloader' does not have many workers which may be a bottleneck. Consider increasing the value of the `num_workers` argument` to `num_workers=7` in the `DataLoader` to improve performance.\n",
      "\n",
      "  | Name            | Type                    | Params | Mode \n",
      "--------------------------------------------------------------------\n",
      "0 | message_passing | MixedBondMessagePassing | 322 K  | train\n",
      "1 | agg             | MeanAggregation         | 0      | train\n",
      "2 | bn              | BatchNorm1d             | 600    | train\n",
      "3 | predictors      | ModuleList              | 361 K  | train\n",
      "4 | X_d_transform   | Identity                | 0      | train\n",
      "5 | metrics         | ModuleList              | 0      | train\n",
      "--------------------------------------------------------------------\n",
      "684 K     Trainable params\n",
      "0         Non-trainable params\n",
      "684 K     Total params\n",
      "2.738     Total estimated model params size (MB)\n",
      "53        Modules in train mode\n",
      "0         Modules in eval mode\n"
     ]
    },
    {
     "name": "stdout",
     "output_type": "stream",
     "text": [
      "                                                                                "
     ]
    },
    {
     "name": "stderr",
     "output_type": "stream",
     "text": [
      "/opt/anaconda3/envs/chemprop/lib/python3.11/site-packages/lightning/pytorch/trainer/connectors/data_connector.py:424: The 'val_dataloader' does not have many workers which may be a bottleneck. Consider increasing the value of the `num_workers` argument` to `num_workers=7` in the `DataLoader` to improve performance.\n"
     ]
    },
    {
     "name": "stdout",
     "output_type": "stream",
     "text": [
      "Epoch 0: 100%|████████████████████████████████████| 1/1 [00:00<00:00, 73.69it/s]\n",
      "Validation: |                                             | 0/? [00:00<?, ?it/s]\u001b[A\n",
      "Validation:   0%|                                         | 0/1 [00:00<?, ?it/s]\u001b[A\n",
      "Validation DataLoader 0:   0%|                            | 0/1 [00:00<?, ?it/s]\u001b[A\n",
      "Validation DataLoader 0: 100%|███████████████████| 1/1 [00:00<00:00, 125.33it/s]\u001b[A\n",
      "Epoch 1: 100%|████████████████████| 1/1 [00:00<00:00, 89.33it/s, val_loss=4.740]\u001b[A\n",
      "Validation: |                                             | 0/? [00:00<?, ?it/s]\u001b[A\n",
      "Validation:   0%|                                         | 0/1 [00:00<?, ?it/s]\u001b[A\n",
      "Validation DataLoader 0:   0%|                            | 0/1 [00:00<?, ?it/s]\u001b[A\n",
      "Validation DataLoader 0: 100%|███████████████████| 1/1 [00:00<00:00, 121.00it/s]\u001b[A\n",
      "Epoch 2: 100%|████████████████████| 1/1 [00:00<00:00, 83.73it/s, val_loss=4.590]\u001b[A\n",
      "Validation: |                                             | 0/? [00:00<?, ?it/s]\u001b[A\n",
      "Validation:   0%|                                         | 0/1 [00:00<?, ?it/s]\u001b[A\n",
      "Validation DataLoader 0:   0%|                            | 0/1 [00:00<?, ?it/s]\u001b[A\n",
      "Validation DataLoader 0: 100%|███████████████████| 1/1 [00:00<00:00, 130.02it/s]\u001b[A\n",
      "Epoch 3: 100%|████████████████████| 1/1 [00:00<00:00, 92.63it/s, val_loss=4.350]\u001b[A\n",
      "Validation: |                                             | 0/? [00:00<?, ?it/s]\u001b[A\n",
      "Validation:   0%|                                         | 0/1 [00:00<?, ?it/s]\u001b[A\n",
      "Validation DataLoader 0:   0%|                            | 0/1 [00:00<?, ?it/s]\u001b[A\n",
      "Validation DataLoader 0: 100%|███████████████████| 1/1 [00:00<00:00, 137.11it/s]\u001b[A\n",
      "Epoch 4: 100%|████████████████████| 1/1 [00:00<00:00, 87.39it/s, val_loss=4.190]\u001b[A\n",
      "Validation: |                                             | 0/? [00:00<?, ?it/s]\u001b[A\n",
      "Validation:   0%|                                         | 0/1 [00:00<?, ?it/s]\u001b[A\n",
      "Validation DataLoader 0:   0%|                            | 0/1 [00:00<?, ?it/s]\u001b[A\n",
      "Validation DataLoader 0: 100%|███████████████████| 1/1 [00:00<00:00, 133.30it/s]\u001b[A\n",
      "Epoch 5: 100%|████████████████████| 1/1 [00:00<00:00, 89.37it/s, val_loss=4.050]\u001b[A\n",
      "Validation: |                                             | 0/? [00:00<?, ?it/s]\u001b[A\n",
      "Validation:   0%|                                         | 0/1 [00:00<?, ?it/s]\u001b[A\n",
      "Validation DataLoader 0:   0%|                            | 0/1 [00:00<?, ?it/s]\u001b[A\n",
      "Validation DataLoader 0: 100%|███████████████████| 1/1 [00:00<00:00, 131.93it/s]\u001b[A\n",
      "Epoch 6: 100%|████████████████████| 1/1 [00:00<00:00, 87.01it/s, val_loss=3.920]\u001b[A\n",
      "Validation: |                                             | 0/? [00:00<?, ?it/s]\u001b[A\n",
      "Validation:   0%|                                         | 0/1 [00:00<?, ?it/s]\u001b[A\n",
      "Validation DataLoader 0:   0%|                            | 0/1 [00:00<?, ?it/s]\u001b[A\n",
      "Validation DataLoader 0: 100%|███████████████████| 1/1 [00:00<00:00, 125.80it/s]\u001b[A\n",
      "Epoch 7: 100%|████████████████████| 1/1 [00:00<00:00, 89.92it/s, val_loss=3.740]\u001b[A\n",
      "Validation: |                                             | 0/? [00:00<?, ?it/s]\u001b[A\n",
      "Validation:   0%|                                         | 0/1 [00:00<?, ?it/s]\u001b[A\n",
      "Validation DataLoader 0:   0%|                            | 0/1 [00:00<?, ?it/s]\u001b[A\n",
      "Validation DataLoader 0: 100%|███████████████████| 1/1 [00:00<00:00, 144.53it/s]\u001b[A\n",
      "Epoch 8: 100%|████████████████████| 1/1 [00:00<00:00, 89.85it/s, val_loss=3.530]\u001b[A\n",
      "Validation: |                                             | 0/? [00:00<?, ?it/s]\u001b[A\n",
      "Validation:   0%|                                         | 0/1 [00:00<?, ?it/s]\u001b[A\n",
      "Validation DataLoader 0:   0%|                            | 0/1 [00:00<?, ?it/s]\u001b[A\n",
      "Validation DataLoader 0: 100%|███████████████████| 1/1 [00:00<00:00, 122.91it/s]\u001b[A\n",
      "Epoch 9: 100%|████████████████████| 1/1 [00:00<00:00, 90.34it/s, val_loss=3.300]\u001b[A\n",
      "Validation: |                                             | 0/? [00:00<?, ?it/s]\u001b[A\n",
      "Validation:   0%|                                         | 0/1 [00:00<?, ?it/s]\u001b[A\n",
      "Validation DataLoader 0:   0%|                            | 0/1 [00:00<?, ?it/s]\u001b[A\n",
      "Validation DataLoader 0: 100%|███████████████████| 1/1 [00:00<00:00, 126.22it/s]\u001b[A\n",
      "Epoch 10: 100%|███████████████████| 1/1 [00:00<00:00, 84.89it/s, val_loss=3.060]\u001b[A\n",
      "Validation: |                                             | 0/? [00:00<?, ?it/s]\u001b[A\n",
      "Validation:   0%|                                         | 0/1 [00:00<?, ?it/s]\u001b[A\n",
      "Validation DataLoader 0:   0%|                            | 0/1 [00:00<?, ?it/s]\u001b[A\n",
      "Validation DataLoader 0: 100%|███████████████████| 1/1 [00:00<00:00, 121.66it/s]\u001b[A\n",
      "Epoch 11: 100%|███████████████████| 1/1 [00:00<00:00, 92.38it/s, val_loss=2.830]\u001b[A\n",
      "Validation: |                                             | 0/? [00:00<?, ?it/s]\u001b[A\n",
      "Validation:   0%|                                         | 0/1 [00:00<?, ?it/s]\u001b[A\n",
      "Validation DataLoader 0:   0%|                            | 0/1 [00:00<?, ?it/s]\u001b[A\n",
      "Validation DataLoader 0: 100%|███████████████████| 1/1 [00:00<00:00, 135.87it/s]\u001b[A\n",
      "Epoch 12: 100%|███████████████████| 1/1 [00:00<00:00, 87.58it/s, val_loss=2.620]\u001b[A\n",
      "Validation: |                                             | 0/? [00:00<?, ?it/s]\u001b[A\n",
      "Validation:   0%|                                         | 0/1 [00:00<?, ?it/s]\u001b[A\n",
      "Validation DataLoader 0:   0%|                            | 0/1 [00:00<?, ?it/s]\u001b[A\n",
      "Validation DataLoader 0: 100%|███████████████████| 1/1 [00:00<00:00, 133.14it/s]\u001b[A\n",
      "Epoch 13: 100%|███████████████████| 1/1 [00:00<00:00, 90.18it/s, val_loss=2.420]\u001b[A\n",
      "Validation: |                                             | 0/? [00:00<?, ?it/s]\u001b[A\n",
      "Validation:   0%|                                         | 0/1 [00:00<?, ?it/s]\u001b[A\n",
      "Validation DataLoader 0:   0%|                            | 0/1 [00:00<?, ?it/s]\u001b[A\n",
      "Validation DataLoader 0: 100%|███████████████████| 1/1 [00:00<00:00, 130.40it/s]\u001b[A\n",
      "Epoch 14: 100%|███████████████████| 1/1 [00:00<00:00, 88.51it/s, val_loss=2.240]\u001b[A\n",
      "Validation: |                                             | 0/? [00:00<?, ?it/s]\u001b[A\n",
      "Validation:   0%|                                         | 0/1 [00:00<?, ?it/s]\u001b[A\n",
      "Validation DataLoader 0:   0%|                            | 0/1 [00:00<?, ?it/s]\u001b[A\n",
      "Validation DataLoader 0: 100%|███████████████████| 1/1 [00:00<00:00, 122.77it/s]\u001b[A\n",
      "Epoch 15: 100%|███████████████████| 1/1 [00:00<00:00, 85.51it/s, val_loss=2.080]\u001b[A\n",
      "Validation: |                                             | 0/? [00:00<?, ?it/s]\u001b[A\n",
      "Validation:   0%|                                         | 0/1 [00:00<?, ?it/s]\u001b[A\n",
      "Validation DataLoader 0:   0%|                            | 0/1 [00:00<?, ?it/s]\u001b[A\n",
      "Validation DataLoader 0: 100%|███████████████████| 1/1 [00:00<00:00, 127.73it/s]\u001b[A\n",
      "Epoch 16: 100%|███████████████████| 1/1 [00:00<00:00, 85.65it/s, val_loss=1.930]\u001b[A\n",
      "Validation: |                                             | 0/? [00:00<?, ?it/s]\u001b[A\n",
      "Validation:   0%|                                         | 0/1 [00:00<?, ?it/s]\u001b[A\n",
      "Validation DataLoader 0:   0%|                            | 0/1 [00:00<?, ?it/s]\u001b[A\n",
      "Validation DataLoader 0: 100%|███████████████████| 1/1 [00:00<00:00, 134.26it/s]\u001b[A\n",
      "Epoch 17: 100%|███████████████████| 1/1 [00:00<00:00, 80.13it/s, val_loss=1.800]\u001b[A\n",
      "Validation: |                                             | 0/? [00:00<?, ?it/s]\u001b[A\n",
      "Validation:   0%|                                         | 0/1 [00:00<?, ?it/s]\u001b[A\n",
      "Validation DataLoader 0:   0%|                            | 0/1 [00:00<?, ?it/s]\u001b[A\n",
      "Validation DataLoader 0: 100%|███████████████████| 1/1 [00:00<00:00, 125.15it/s]\u001b[A\n",
      "Epoch 18: 100%|███████████████████| 1/1 [00:00<00:00, 78.51it/s, val_loss=1.680]\u001b[A\n",
      "Validation: |                                             | 0/? [00:00<?, ?it/s]\u001b[A\n",
      "Validation:   0%|                                         | 0/1 [00:00<?, ?it/s]\u001b[A\n",
      "Validation DataLoader 0:   0%|                            | 0/1 [00:00<?, ?it/s]\u001b[A\n",
      "Validation DataLoader 0: 100%|███████████████████| 1/1 [00:00<00:00, 114.31it/s]\u001b[A\n",
      "Epoch 19: 100%|███████████████████| 1/1 [00:00<00:00, 77.94it/s, val_loss=1.580]\u001b[A\n",
      "Validation: |                                             | 0/? [00:00<?, ?it/s]\u001b[A\n",
      "Validation:   0%|                                         | 0/1 [00:00<?, ?it/s]\u001b[A\n",
      "Validation DataLoader 0:   0%|                            | 0/1 [00:00<?, ?it/s]\u001b[A\n",
      "Validation DataLoader 0: 100%|███████████████████| 1/1 [00:00<00:00, 119.57it/s]\u001b[A\n",
      "Epoch 19: 100%|███████████████████| 1/1 [00:00<00:00, 34.44it/s, val_loss=1.490]\u001b[A"
     ]
    },
    {
     "name": "stderr",
     "output_type": "stream",
     "text": [
      "`Trainer.fit` stopped: `max_epochs=20` reached.\n"
     ]
    },
    {
     "name": "stdout",
     "output_type": "stream",
     "text": [
      "Epoch 19: 100%|███████████████████| 1/1 [00:00<00:00, 22.45it/s, val_loss=1.490]\n"
     ]
    }
   ],
   "source": [
    "trainer.fit(mol_atom_bond_mpnn, train_loader, val_loader)"
   ]
  },
  {
   "cell_type": "markdown",
   "metadata": {},
   "source": [
    "# Test results"
   ]
  },
  {
   "cell_type": "code",
   "execution_count": 24,
   "metadata": {},
   "outputs": [
    {
     "name": "stderr",
     "output_type": "stream",
     "text": [
      "/opt/anaconda3/envs/chemprop/lib/python3.11/site-packages/lightning/pytorch/trainer/connectors/data_connector.py:424: The 'test_dataloader' does not have many workers which may be a bottleneck. Consider increasing the value of the `num_workers` argument` to `num_workers=7` in the `DataLoader` to improve performance.\n"
     ]
    },
    {
     "name": "stdout",
     "output_type": "stream",
     "text": [
      "Testing DataLoader 0: 100%|██████████████████████| 1/1 [00:00<00:00, 186.39it/s]\n"
     ]
    },
    {
     "data": {
      "text/html": [
       "<pre style=\"white-space:pre;overflow-x:auto;line-height:normal;font-family:Menlo,'DejaVu Sans Mono',consolas,'Courier New',monospace\">┏━━━━━━━━━━━━━━━━━━━━━━━━━━━┳━━━━━━━━━━━━━━━━━━━━━━━━━━━┓\n",
       "┃<span style=\"font-weight: bold\">        Test metric        </span>┃<span style=\"font-weight: bold\">       DataLoader 0        </span>┃\n",
       "┡━━━━━━━━━━━━━━━━━━━━━━━━━━━╇━━━━━━━━━━━━━━━━━━━━━━━━━━━┩\n",
       "│<span style=\"color: #008080; text-decoration-color: #008080\">     atom_mol_test/mae     </span>│<span style=\"color: #800080; text-decoration-color: #800080\">    1.1941825151443481     </span>│\n",
       "│<span style=\"color: #008080; text-decoration-color: #008080\">    atom_mol_test/rmse     </span>│<span style=\"color: #800080; text-decoration-color: #800080\">    1.6704250574111938     </span>│\n",
       "│<span style=\"color: #008080; text-decoration-color: #008080\">  bond_atom_mol_test/mae   </span>│<span style=\"color: #800080; text-decoration-color: #800080\">    1.1941825151443481     </span>│\n",
       "│<span style=\"color: #008080; text-decoration-color: #008080\">  bond_atom_mol_test/rmse  </span>│<span style=\"color: #800080; text-decoration-color: #800080\">    1.6704250574111938     </span>│\n",
       "│<span style=\"color: #008080; text-decoration-color: #008080\">       mol_test/mae        </span>│<span style=\"color: #800080; text-decoration-color: #800080\">    1.1941825151443481     </span>│\n",
       "│<span style=\"color: #008080; text-decoration-color: #008080\">       mol_test/rmse       </span>│<span style=\"color: #800080; text-decoration-color: #800080\">    1.6704250574111938     </span>│\n",
       "└───────────────────────────┴───────────────────────────┘\n",
       "</pre>\n"
      ],
      "text/plain": [
       "┏━━━━━━━━━━━━━━━━━━━━━━━━━━━┳━━━━━━━━━━━━━━━━━━━━━━━━━━━┓\n",
       "┃\u001b[1m \u001b[0m\u001b[1m       Test metric       \u001b[0m\u001b[1m \u001b[0m┃\u001b[1m \u001b[0m\u001b[1m      DataLoader 0       \u001b[0m\u001b[1m \u001b[0m┃\n",
       "┡━━━━━━━━━━━━━━━━━━━━━━━━━━━╇━━━━━━━━━━━━━━━━━━━━━━━━━━━┩\n",
       "│\u001b[36m \u001b[0m\u001b[36m    atom_mol_test/mae    \u001b[0m\u001b[36m \u001b[0m│\u001b[35m \u001b[0m\u001b[35m   1.1941825151443481    \u001b[0m\u001b[35m \u001b[0m│\n",
       "│\u001b[36m \u001b[0m\u001b[36m   atom_mol_test/rmse    \u001b[0m\u001b[36m \u001b[0m│\u001b[35m \u001b[0m\u001b[35m   1.6704250574111938    \u001b[0m\u001b[35m \u001b[0m│\n",
       "│\u001b[36m \u001b[0m\u001b[36m bond_atom_mol_test/mae  \u001b[0m\u001b[36m \u001b[0m│\u001b[35m \u001b[0m\u001b[35m   1.1941825151443481    \u001b[0m\u001b[35m \u001b[0m│\n",
       "│\u001b[36m \u001b[0m\u001b[36m bond_atom_mol_test/rmse \u001b[0m\u001b[36m \u001b[0m│\u001b[35m \u001b[0m\u001b[35m   1.6704250574111938    \u001b[0m\u001b[35m \u001b[0m│\n",
       "│\u001b[36m \u001b[0m\u001b[36m      mol_test/mae       \u001b[0m\u001b[36m \u001b[0m│\u001b[35m \u001b[0m\u001b[35m   1.1941825151443481    \u001b[0m\u001b[35m \u001b[0m│\n",
       "│\u001b[36m \u001b[0m\u001b[36m      mol_test/rmse      \u001b[0m\u001b[36m \u001b[0m│\u001b[35m \u001b[0m\u001b[35m   1.6704250574111938    \u001b[0m\u001b[35m \u001b[0m│\n",
       "└───────────────────────────┴───────────────────────────┘\n"
      ]
     },
     "metadata": {},
     "output_type": "display_data"
    }
   ],
   "source": [
    "results = trainer.test(mol_atom_bond_mpnn, test_loader)"
   ]
  },
  {
   "cell_type": "markdown",
   "metadata": {},
   "source": [
    "# Predictions"
   ]
  },
  {
   "cell_type": "code",
   "execution_count": 25,
   "metadata": {},
   "outputs": [
    {
     "name": "stderr",
     "output_type": "stream",
     "text": [
      "/Users/brianli/Documents/chemprop/chemprop/models/model.py:515: FutureWarning: You are using `torch.load` with `weights_only=False` (the current default value), which uses the default pickle module implicitly. It is possible to construct malicious pickle data which will execute arbitrary code during unpickling (See https://github.com/pytorch/pytorch/blob/main/SECURITY.md#untrusted-models for more details). In a future release, the default value for `weights_only` will be flipped to `True`. This limits the functions that could be executed during unpickling. Arbitrary objects will no longer be allowed to be loaded via this mode unless they are explicitly allowlisted by the user via `torch.serialization.add_safe_globals`. We recommend you start setting `weights_only=True` for any use case where you don't have full control of the loaded file. Please open an issue on GitHub for any issues related to this experimental feature.\n",
      "  d = torch.load(path, map_location)\n",
      "GPU available: True (mps), used: False\n",
      "TPU available: False, using: 0 TPU cores\n",
      "HPU available: False, using: 0 HPUs\n"
     ]
    }
   ],
   "source": [
    "from chemprop.models import load_mixed_model\n",
    "import torch\n",
    "\n",
    "mol_individual_preds = []\n",
    "atom_individual_preds = []\n",
    "bond_individual_preds = []\n",
    "model = load_mixed_model(checkpointing.best_model_path)\n",
    "trainer = pl.Trainer(\n",
    "    logger=False,\n",
    "    enable_progress_bar=True,\n",
    "    accelerator=\"cpu\",\n",
    "    devices=1,\n",
    ")"
   ]
  },
  {
   "cell_type": "code",
   "execution_count": 26,
   "metadata": {},
   "outputs": [
    {
     "name": "stderr",
     "output_type": "stream",
     "text": [
      "/opt/anaconda3/envs/chemprop/lib/python3.11/site-packages/lightning/pytorch/trainer/connectors/data_connector.py:424: The 'predict_dataloader' does not have many workers which may be a bottleneck. Consider increasing the value of the `num_workers` argument` to `num_workers=7` in the `DataLoader` to improve performance.\n"
     ]
    },
    {
     "name": "stdout",
     "output_type": "stream",
     "text": [
      "Predicting DataLoader 0: 100%|███████████████████| 1/1 [00:00<00:00, 367.50it/s]\n"
     ]
    }
   ],
   "source": [
    "predss = trainer.predict(model, all_loader)\n",
    "mol_individual_preds.append(torch.concat([predss[0][0]], 0))\n",
    "atom_individual_preds.append(torch.concat([predss[0][1]], 0))\n",
    "bond_individual_preds.append(torch.concat([predss[0][2]], 0))\n",
    "\n",
    "mol_average_preds = torch.mean(torch.stack(mol_individual_preds).float(), dim=0)\n",
    "atom_average_preds = torch.mean(torch.stack(atom_individual_preds).float(), dim=0)\n",
    "bond_average_preds = torch.mean(torch.stack(bond_individual_preds).float(), dim=0)\n",
    "\n",
    "test_path = chemprop_dir / \"tests\" / \"data\" / \"mixed_regression_input.csv\"\n",
    "df_test = pd.read_csv(test_path, header=\"infer\", index_col=False)"
   ]
  },
  {
   "cell_type": "markdown",
   "metadata": {},
   "source": [
    "## Loaded Model"
   ]
  },
  {
   "cell_type": "code",
   "execution_count": 27,
   "metadata": {},
   "outputs": [
    {
     "data": {
      "text/plain": [
       "MolAtomBondMPNN(\n",
       "  (message_passing): MixedBondMessagePassing(\n",
       "    (W_i): Linear(in_features=86, out_features=300, bias=False)\n",
       "    (W_h): Linear(in_features=300, out_features=300, bias=False)\n",
       "    (W_o): Linear(in_features=372, out_features=300, bias=True)\n",
       "    (W_o_b): Linear(in_features=314, out_features=300, bias=True)\n",
       "    (dropout): Dropout(p=0.0, inplace=False)\n",
       "    (tau): ReLU()\n",
       "    (V_d_transform): Identity()\n",
       "    (E_d_transform): Identity()\n",
       "    (graph_transform): Identity()\n",
       "  )\n",
       "  (agg): MeanAggregation()\n",
       "  (bn): BatchNorm1d(300, eps=1e-05, momentum=0.1, affine=True, track_running_stats=True)\n",
       "  (predictors): ModuleList(\n",
       "    (0-1): 2 x RegressionFFN(\n",
       "      (ffn): MLP(\n",
       "        (0): Sequential(\n",
       "          (0): Linear(in_features=300, out_features=300, bias=True)\n",
       "        )\n",
       "        (1): Sequential(\n",
       "          (0): ReLU()\n",
       "          (1): Dropout(p=0.0, inplace=False)\n",
       "          (2): Linear(in_features=300, out_features=1, bias=True)\n",
       "        )\n",
       "      )\n",
       "      (criterion): MSE(task_weights=[[1.0]])\n",
       "      (output_transform): UnscaleTransform()\n",
       "    )\n",
       "    (2): RegressionFFN(\n",
       "      (ffn): MLP(\n",
       "        (0): Sequential(\n",
       "          (0): Linear(in_features=600, out_features=300, bias=True)\n",
       "        )\n",
       "        (1): Sequential(\n",
       "          (0): ReLU()\n",
       "          (1): Dropout(p=0.0, inplace=False)\n",
       "          (2): Linear(in_features=300, out_features=1, bias=True)\n",
       "        )\n",
       "      )\n",
       "      (criterion): MSE(task_weights=[[1.0]])\n",
       "      (output_transform): UnscaleTransform()\n",
       "    )\n",
       "  )\n",
       "  (X_d_transform): Identity()\n",
       "  (metrics): ModuleList(\n",
       "    (0-2): 3 x ModuleList(\n",
       "      (0): RMSE(task_weights=[[1.0]])\n",
       "      (1): MAE(task_weights=[[1.0]])\n",
       "      (2): MSE(task_weights=[[1.0]])\n",
       "    )\n",
       "  )\n",
       ")"
      ]
     },
     "execution_count": 27,
     "metadata": {},
     "output_type": "execute_result"
    }
   ],
   "source": [
    "model"
   ]
  },
  {
   "cell_type": "code",
   "execution_count": 28,
   "metadata": {},
   "outputs": [],
   "source": [
    "target_cols = df_test.columns.tolist()\n",
    "mol_cols, atom_cols, bond_cols = [], [], []\n",
    "for i in range(1, len(target_cols)):\n",
    "    index = 0\n",
    "    column_type = df_test.iloc[index][target_cols[i]]\n",
    "    if isinstance(column_type, float):\n",
    "        mol_cols.append(i)\n",
    "    else:\n",
    "        column_mol = make_mol(df_test.iloc[index][target_cols[0]], False, False)\n",
    "        column_type = ast.literal_eval(column_type)\n",
    "        while index < len(df_test) and column_mol.GetNumAtoms() == column_mol.GetNumBonds():\n",
    "            index += 1\n",
    "            column_mol = make_mol(df_test.iloc[index][target_cols[0]])\n",
    "        column_type = ast.literal_eval(df_test.iloc[index][target_cols[i]])\n",
    "        atom_cols.append(i) if len(column_type) == column_mol.GetNumAtoms() else bond_cols.append(i)"
   ]
  },
  {
   "cell_type": "code",
   "execution_count": 29,
   "metadata": {},
   "outputs": [
    {
     "data": {
      "text/html": [
       "<div>\n",
       "<style scoped>\n",
       "    .dataframe tbody tr th:only-of-type {\n",
       "        vertical-align: middle;\n",
       "    }\n",
       "\n",
       "    .dataframe tbody tr th {\n",
       "        vertical-align: top;\n",
       "    }\n",
       "\n",
       "    .dataframe thead th {\n",
       "        text-align: right;\n",
       "    }\n",
       "</style>\n",
       "<table border=\"1\" class=\"dataframe\">\n",
       "  <thead>\n",
       "    <tr style=\"text-align: right;\">\n",
       "      <th></th>\n",
       "      <th>smiles</th>\n",
       "      <th>molecule</th>\n",
       "      <th>atom</th>\n",
       "      <th>bond</th>\n",
       "    </tr>\n",
       "  </thead>\n",
       "  <tbody>\n",
       "    <tr>\n",
       "      <th>0</th>\n",
       "      <td>CC</td>\n",
       "      <td>3.509817</td>\n",
       "      <td>[2.350316286087036, 2.350316286087036]</td>\n",
       "      <td>[1.3785744905471802, 1.3785744905471802]</td>\n",
       "    </tr>\n",
       "    <tr>\n",
       "      <th>1</th>\n",
       "      <td>CCC</td>\n",
       "      <td>3.851496</td>\n",
       "      <td>[2.382122755050659, 2.441315174102783, 2.38212...</td>\n",
       "      <td>[1.4928417205810547, 1.508124828338623, 1.5081...</td>\n",
       "    </tr>\n",
       "    <tr>\n",
       "      <th>2</th>\n",
       "      <td>CCCO</td>\n",
       "      <td>7.152677</td>\n",
       "      <td>[2.3959250450134277, 2.4775915145874023, 2.836...</td>\n",
       "      <td>[1.4928417205810547, 1.5328080654144287, 1.543...</td>\n",
       "    </tr>\n",
       "    <tr>\n",
       "      <th>3</th>\n",
       "      <td>CCOO</td>\n",
       "      <td>6.921717</td>\n",
       "      <td>[2.3360705375671387, 2.639981269836426, 3.5674...</td>\n",
       "      <td>[1.7320109605789185, 2.432091474533081, 2.4018...</td>\n",
       "    </tr>\n",
       "    <tr>\n",
       "      <th>4</th>\n",
       "      <td>COO</td>\n",
       "      <td>5.972758</td>\n",
       "      <td>[2.431187629699707, 3.538839817047119, 3.53452...</td>\n",
       "      <td>[1.5998103618621826, 2.2447197437286377, 2.213...</td>\n",
       "    </tr>\n",
       "    <tr>\n",
       "      <th>5</th>\n",
       "      <td>CCOOO</td>\n",
       "      <td>7.170389</td>\n",
       "      <td>[2.3426456451416016, 2.6450438499450684, 3.413...</td>\n",
       "      <td>[2.9500527381896973, 2.942373275756836, 1.9720...</td>\n",
       "    </tr>\n",
       "    <tr>\n",
       "      <th>6</th>\n",
       "      <td>COOO</td>\n",
       "      <td>6.744208</td>\n",
       "      <td>[2.454016923904419, 3.4267046451568604, 3.6969...</td>\n",
       "      <td>[2.854235887527466, 1.5960168838500977, 1.6051...</td>\n",
       "    </tr>\n",
       "    <tr>\n",
       "      <th>7</th>\n",
       "      <td>CO</td>\n",
       "      <td>7.386998</td>\n",
       "      <td>[2.643312692642212, 3.3012940883636475]</td>\n",
       "      <td>[2.331343173980713, 2.8419909477233887]</td>\n",
       "    </tr>\n",
       "    <tr>\n",
       "      <th>8</th>\n",
       "      <td>CCO</td>\n",
       "      <td>7.427757</td>\n",
       "      <td>[2.3219895362854004, 2.7965879440307617, 3.392...</td>\n",
       "      <td>[2.8447060585021973, 3.0291504859924316, 3.025...</td>\n",
       "    </tr>\n",
       "    <tr>\n",
       "      <th>9</th>\n",
       "      <td>OO</td>\n",
       "      <td>8.796446</td>\n",
       "      <td>[3.6243631839752197, 3.6243631839752197]</td>\n",
       "      <td>[2.090822219848633, 2.0654594898223877]</td>\n",
       "    </tr>\n",
       "  </tbody>\n",
       "</table>\n",
       "</div>"
      ],
      "text/plain": [
       "  smiles  molecule                                               atom  \\\n",
       "0     CC  3.509817             [2.350316286087036, 2.350316286087036]   \n",
       "1    CCC  3.851496  [2.382122755050659, 2.441315174102783, 2.38212...   \n",
       "2   CCCO  7.152677  [2.3959250450134277, 2.4775915145874023, 2.836...   \n",
       "3   CCOO  6.921717  [2.3360705375671387, 2.639981269836426, 3.5674...   \n",
       "4    COO  5.972758  [2.431187629699707, 3.538839817047119, 3.53452...   \n",
       "5  CCOOO  7.170389  [2.3426456451416016, 2.6450438499450684, 3.413...   \n",
       "6   COOO  6.744208  [2.454016923904419, 3.4267046451568604, 3.6969...   \n",
       "7     CO  7.386998            [2.643312692642212, 3.3012940883636475]   \n",
       "8    CCO  7.427757  [2.3219895362854004, 2.7965879440307617, 3.392...   \n",
       "9     OO  8.796446           [3.6243631839752197, 3.6243631839752197]   \n",
       "\n",
       "                                                bond  \n",
       "0           [1.3785744905471802, 1.3785744905471802]  \n",
       "1  [1.4928417205810547, 1.508124828338623, 1.5081...  \n",
       "2  [1.4928417205810547, 1.5328080654144287, 1.543...  \n",
       "3  [1.7320109605789185, 2.432091474533081, 2.4018...  \n",
       "4  [1.5998103618621826, 2.2447197437286377, 2.213...  \n",
       "5  [2.9500527381896973, 2.942373275756836, 1.9720...  \n",
       "6  [2.854235887527466, 1.5960168838500977, 1.6051...  \n",
       "7            [2.331343173980713, 2.8419909477233887]  \n",
       "8  [2.8447060585021973, 3.0291504859924316, 3.025...  \n",
       "9            [2.090822219848633, 2.0654594898223877]  "
      ]
     },
     "execution_count": 29,
     "metadata": {},
     "output_type": "execute_result"
    }
   ],
   "source": [
    "df_test.iloc[:, mol_cols] = mol_average_preds.tolist()\n",
    "\n",
    "for i in range(len(df_test)):\n",
    "    first_atom = atom_slices.index(i)\n",
    "    last_atom = first_atom + atom_slices.count(i)\n",
    "    atom_preds = atom_average_preds[first_atom:last_atom]\n",
    "    df_test.iloc[i, atom_cols] = [str(atom_preds[:,j].tolist()) for j in range(len(atom_cols))]\n",
    "\n",
    "    first_bond = bond_slices.index(i)\n",
    "    last_bond = first_bond + bond_slices.count(i)\n",
    "    bond_preds = bond_average_preds[first_atom:last_atom]\n",
    "    df_test.iloc[i, bond_cols] = [str(bond_preds[:,j].tolist()) for j in range(len(bond_cols))]\n",
    "\n",
    "#torch.split(average_preds, split_size_or_sections=torch.bincount(torch.tensor(slices)).tolist(), dim=0)\n",
    "\n",
    "output_path = chemprop_dir / \"tests\" / \"data\" / \"mixed_regression_output.csv\"\n",
    "if output_path.suffix == \".pkl\":\n",
    "    df_test = df_test.reset_index(drop=True)\n",
    "    df_test.to_pickle(output_path)\n",
    "else:\n",
    "    df_test.to_csv(output_path, index=False)\n",
    "\n",
    "df_test\n",
    "\n",
    "# do the reordering of target columns outside here in jupyter notebook but inside parsing.py in the cli"
   ]
  }
 ],
 "metadata": {
  "kernelspec": {
   "display_name": "Python 3 (ipykernel)",
   "language": "python",
   "name": "python3"
  },
  "language_info": {
   "codemirror_mode": {
    "name": "ipython",
    "version": 3
   },
   "file_extension": ".py",
   "mimetype": "text/x-python",
   "name": "python",
   "nbconvert_exporter": "python",
   "pygments_lexer": "ipython3",
   "version": "3.11.9"
  }
 },
 "nbformat": 4,
 "nbformat_minor": 4
}

{
 "cells": [
  {
   "cell_type": "markdown",
   "metadata": {},
   "source": [
    "# Training"
   ]
  },
  {
   "cell_type": "markdown",
   "metadata": {},
   "source": [
    "# Import packages"
   ]
  },
  {
   "cell_type": "code",
   "execution_count": 31,
   "metadata": {},
   "outputs": [],
   "source": [
    "import pandas as pd\n",
    "from pathlib import Path\n",
    "import numpy as np\n",
    "import ast\n",
    "\n",
    "from lightning import pytorch as pl\n",
    "from lightning.pytorch.callbacks import ModelCheckpoint\n",
    "\n",
    "from chemprop import data, featurizers, models, nn\n",
    "from chemprop.utils import make_mol"
   ]
  },
  {
   "cell_type": "markdown",
   "metadata": {},
   "source": [
    "# Change data inputs here"
   ]
  },
  {
   "cell_type": "code",
   "execution_count": 32,
   "metadata": {},
   "outputs": [],
   "source": [
    "chemprop_dir = Path.cwd().parent\n",
    "input_path = chemprop_dir / \"tests\" / \"data\" / \"mixed_regression_input.csv\" # path to your data .csv file\n",
    "num_workers = 0 # number of workers for dataloader. 0 means using main process for data loading\n",
    "smiles_column = 'smiles' # name of the column containing SMILES strings\n",
    "target_columns = ['molecule', 'atom', 'bond'] # list of names of the columns containing targets"
   ]
  },
  {
   "cell_type": "code",
   "execution_count": 33,
   "metadata": {},
   "outputs": [
    {
     "data": {
      "text/html": [
       "<div>\n",
       "<style scoped>\n",
       "    .dataframe tbody tr th:only-of-type {\n",
       "        vertical-align: middle;\n",
       "    }\n",
       "\n",
       "    .dataframe tbody tr th {\n",
       "        vertical-align: top;\n",
       "    }\n",
       "\n",
       "    .dataframe thead th {\n",
       "        text-align: right;\n",
       "    }\n",
       "</style>\n",
       "<table border=\"1\" class=\"dataframe\">\n",
       "  <thead>\n",
       "    <tr style=\"text-align: right;\">\n",
       "      <th></th>\n",
       "      <th>smiles</th>\n",
       "      <th>molecule</th>\n",
       "      <th>atom</th>\n",
       "      <th>bond</th>\n",
       "    </tr>\n",
       "  </thead>\n",
       "  <tbody>\n",
       "    <tr>\n",
       "      <th>0</th>\n",
       "      <td>CC</td>\n",
       "      <td>1.0</td>\n",
       "      <td>[1,2]</td>\n",
       "      <td>[1]</td>\n",
       "    </tr>\n",
       "    <tr>\n",
       "      <th>1</th>\n",
       "      <td>CCC</td>\n",
       "      <td>2.0</td>\n",
       "      <td>[1,2,3]</td>\n",
       "      <td>[1,2]</td>\n",
       "    </tr>\n",
       "    <tr>\n",
       "      <th>2</th>\n",
       "      <td>CCCO</td>\n",
       "      <td>3.0</td>\n",
       "      <td>[1,2,3,5]</td>\n",
       "      <td>[1,2,3]</td>\n",
       "    </tr>\n",
       "    <tr>\n",
       "      <th>3</th>\n",
       "      <td>CCOO</td>\n",
       "      <td>4.0</td>\n",
       "      <td>[1,2,3,4]</td>\n",
       "      <td>[1,2,3]</td>\n",
       "    </tr>\n",
       "    <tr>\n",
       "      <th>4</th>\n",
       "      <td>COO</td>\n",
       "      <td>5.0</td>\n",
       "      <td>[1,3,5]</td>\n",
       "      <td>[1,2]</td>\n",
       "    </tr>\n",
       "    <tr>\n",
       "      <th>5</th>\n",
       "      <td>CCOOO</td>\n",
       "      <td>6.0</td>\n",
       "      <td>[1,7,3,4,5]</td>\n",
       "      <td>[1,3,2,4]</td>\n",
       "    </tr>\n",
       "    <tr>\n",
       "      <th>6</th>\n",
       "      <td>COOO</td>\n",
       "      <td>7.0</td>\n",
       "      <td>[2,5,3,2]</td>\n",
       "      <td>[2,3,4]</td>\n",
       "    </tr>\n",
       "    <tr>\n",
       "      <th>7</th>\n",
       "      <td>CO</td>\n",
       "      <td>8.0</td>\n",
       "      <td>[1,3]</td>\n",
       "      <td>[2]</td>\n",
       "    </tr>\n",
       "    <tr>\n",
       "      <th>8</th>\n",
       "      <td>CCO</td>\n",
       "      <td>9.0</td>\n",
       "      <td>[1,3,5]</td>\n",
       "      <td>[2,3]</td>\n",
       "    </tr>\n",
       "    <tr>\n",
       "      <th>9</th>\n",
       "      <td>OO</td>\n",
       "      <td>10.0</td>\n",
       "      <td>[5,7]</td>\n",
       "      <td>[3]</td>\n",
       "    </tr>\n",
       "  </tbody>\n",
       "</table>\n",
       "</div>"
      ],
      "text/plain": [
       "  smiles  molecule         atom       bond\n",
       "0     CC       1.0        [1,2]        [1]\n",
       "1    CCC       2.0      [1,2,3]      [1,2]\n",
       "2   CCCO       3.0    [1,2,3,5]    [1,2,3]\n",
       "3   CCOO       4.0    [1,2,3,4]    [1,2,3]\n",
       "4    COO       5.0      [1,3,5]      [1,2]\n",
       "5  CCOOO       6.0  [1,7,3,4,5]  [1,3,2,4]\n",
       "6   COOO       7.0    [2,5,3,2]    [2,3,4]\n",
       "7     CO       8.0        [1,3]        [2]\n",
       "8    CCO       9.0      [1,3,5]      [2,3]\n",
       "9     OO      10.0        [5,7]        [3]"
      ]
     },
     "execution_count": 33,
     "metadata": {},
     "output_type": "execute_result"
    }
   ],
   "source": [
    "df_input = pd.read_csv(input_path)\n",
    "df_input"
   ]
  },
  {
   "cell_type": "markdown",
   "metadata": {},
   "source": [
    "## Get SMILES and targets"
   ]
  },
  {
   "cell_type": "code",
   "execution_count": 34,
   "metadata": {},
   "outputs": [],
   "source": [
    "smis = df_input.loc[:, smiles_column].values\n",
    "ys = df_input.loc[:, target_columns]"
   ]
  },
  {
   "cell_type": "code",
   "execution_count": 35,
   "metadata": {},
   "outputs": [
    {
     "data": {
      "text/plain": [
       "array(['CC', 'CCC'], dtype=object)"
      ]
     },
     "execution_count": 35,
     "metadata": {},
     "output_type": "execute_result"
    }
   ],
   "source": [
    "smis[:2] # show first 2 SMILES strings"
   ]
  },
  {
   "cell_type": "code",
   "execution_count": 36,
   "metadata": {},
   "outputs": [
    {
     "data": {
      "text/html": [
       "<div>\n",
       "<style scoped>\n",
       "    .dataframe tbody tr th:only-of-type {\n",
       "        vertical-align: middle;\n",
       "    }\n",
       "\n",
       "    .dataframe tbody tr th {\n",
       "        vertical-align: top;\n",
       "    }\n",
       "\n",
       "    .dataframe thead th {\n",
       "        text-align: right;\n",
       "    }\n",
       "</style>\n",
       "<table border=\"1\" class=\"dataframe\">\n",
       "  <thead>\n",
       "    <tr style=\"text-align: right;\">\n",
       "      <th></th>\n",
       "      <th>molecule</th>\n",
       "      <th>atom</th>\n",
       "      <th>bond</th>\n",
       "    </tr>\n",
       "  </thead>\n",
       "  <tbody>\n",
       "    <tr>\n",
       "      <th>0</th>\n",
       "      <td>1.0</td>\n",
       "      <td>[1,2]</td>\n",
       "      <td>[1]</td>\n",
       "    </tr>\n",
       "    <tr>\n",
       "      <th>1</th>\n",
       "      <td>2.0</td>\n",
       "      <td>[1,2,3]</td>\n",
       "      <td>[1,2]</td>\n",
       "    </tr>\n",
       "    <tr>\n",
       "      <th>2</th>\n",
       "      <td>3.0</td>\n",
       "      <td>[1,2,3,5]</td>\n",
       "      <td>[1,2,3]</td>\n",
       "    </tr>\n",
       "    <tr>\n",
       "      <th>3</th>\n",
       "      <td>4.0</td>\n",
       "      <td>[1,2,3,4]</td>\n",
       "      <td>[1,2,3]</td>\n",
       "    </tr>\n",
       "    <tr>\n",
       "      <th>4</th>\n",
       "      <td>5.0</td>\n",
       "      <td>[1,3,5]</td>\n",
       "      <td>[1,2]</td>\n",
       "    </tr>\n",
       "  </tbody>\n",
       "</table>\n",
       "</div>"
      ],
      "text/plain": [
       "   molecule       atom     bond\n",
       "0       1.0      [1,2]      [1]\n",
       "1       2.0    [1,2,3]    [1,2]\n",
       "2       3.0  [1,2,3,5]  [1,2,3]\n",
       "3       4.0  [1,2,3,4]  [1,2,3]\n",
       "4       5.0    [1,3,5]    [1,2]"
      ]
     },
     "execution_count": 36,
     "metadata": {},
     "output_type": "execute_result"
    }
   ],
   "source": [
    "ys[:5] # show first 5 molecule targets"
   ]
  },
  {
   "cell_type": "code",
   "execution_count": 37,
   "metadata": {},
   "outputs": [
    {
     "name": "stdout",
     "output_type": "stream",
     "text": [
      "[[1.0], [2.0], [3.0], [4.0], [5.0], [6.0], [7.0], [8.0], [9.0], [10.0]]\n"
     ]
    }
   ],
   "source": [
    "import numpy as np\n",
    "\n",
    "flag, mol_Y, atom_Y, bond_Y = [], [], [], []\n",
    "for column in target_columns:\n",
    "    index = 0\n",
    "    column_type = df_input.iloc[index][column]\n",
    "    if isinstance(column_type, float):\n",
    "        for molecule in range(len(df_input)):\n",
    "            mol_Y.append([df_input.iloc[molecule][column]])\n",
    "        flag.append(\"mol\")\n",
    "    else:\n",
    "        column_mol = make_mol(df_input.iloc[index][smiles_column], False, False)\n",
    "        column_type = ast.literal_eval(column_type)\n",
    "        while index < len(df_input) and column_mol.GetNumAtoms() == column_mol.GetNumBonds():\n",
    "            index += 1\n",
    "            column_mol = make_mol(df_input.iloc[index][smiles_column], False, False)\n",
    "        column_type = ast.literal_eval(df_input.iloc[index][column])\n",
    "        flag.append(\"atom\") if len(column_type) == column_mol.GetNumAtoms() else flag.append(\"bond\")\n",
    "        \n",
    "for molecule in range(len(df_input)):\n",
    "    atom_list_props = []\n",
    "    bond_list_props = []\n",
    "    for prop in range(len(target_columns)):\n",
    "        if flag[prop] == \"mol\":\n",
    "            continue\n",
    "        np_prop = np.array(ast.literal_eval(df_input.iloc[molecule][target_columns[prop]]))\n",
    "        np_prop = np.expand_dims(np_prop, axis=1)\n",
    "        atom_list_props.append(np_prop) if flag[prop] == \"atom\" else bond_list_props.append(np_prop)\n",
    "    if len(atom_list_props) > 0:\n",
    "        atom_Y.append(np.hstack(atom_list_props))\n",
    "    if len(bond_list_props) > 0:\n",
    "        bond_Y.append(np.hstack(bond_list_props))\n",
    "\n",
    "print(mol_Y)"
   ]
  },
  {
   "cell_type": "markdown",
   "metadata": {},
   "source": [
    "## Get molecule datapoints"
   ]
  },
  {
   "cell_type": "code",
   "execution_count": 38,
   "metadata": {},
   "outputs": [],
   "source": [
    "all_data = []\n",
    "\n",
    "mol_data = []\n",
    "for smi, y in zip(smis, mol_Y):\n",
    "    mol_data.append(data.MoleculeDatapoint.from_smi(smi, y, keep_h=True))\n",
    "\n",
    "atom_data = []\n",
    "for smi, y in zip(smis, atom_Y):\n",
    "    atom_data.append(data.MoleculeDatapoint.from_smi(smi, y, keep_h=True))\n",
    "\n",
    "bond_data = []\n",
    "for smi, y in zip(smis, bond_Y):\n",
    "    bond_data.append(data.MoleculeDatapoint.from_smi(smi, y, keep_h=True))\n",
    "\n",
    "all_data.append(mol_data)\n",
    "all_data.append(atom_data)\n",
    "all_data.append(bond_data)"
   ]
  },
  {
   "cell_type": "markdown",
   "metadata": {},
   "source": [
    "## Perform data splitting for training, validation, and testing"
   ]
  },
  {
   "cell_type": "code",
   "execution_count": 39,
   "metadata": {},
   "outputs": [
    {
     "data": {
      "text/plain": [
       "['SCAFFOLD_BALANCED',\n",
       " 'RANDOM_WITH_REPEATED_SMILES',\n",
       " 'RANDOM',\n",
       " 'KENNARD_STONE',\n",
       " 'KMEANS']"
      ]
     },
     "execution_count": 39,
     "metadata": {},
     "output_type": "execute_result"
    }
   ],
   "source": [
    "# available split types\n",
    "list(data.SplitType.keys())"
   ]
  },
  {
   "cell_type": "code",
   "execution_count": 40,
   "metadata": {},
   "outputs": [
    {
     "name": "stdout",
     "output_type": "stream",
     "text": [
      "[[MoleculeDatapoint(mol=<rdkit.Chem.rdchem.Mol object at 0x28498af10>, y=[1.0], weight=1.0, gt_mask=None, lt_mask=None, x_d=None, x_phase=None, name='CC', V_f=None, E_f=None, V_d=None, E_d=None), MoleculeDatapoint(mol=<rdkit.Chem.rdchem.Mol object at 0x1771044a0>, y=[2.0], weight=1.0, gt_mask=None, lt_mask=None, x_d=None, x_phase=None, name='CCC', V_f=None, E_f=None, V_d=None, E_d=None), MoleculeDatapoint(mol=<rdkit.Chem.rdchem.Mol object at 0x177104c80>, y=[3.0], weight=1.0, gt_mask=None, lt_mask=None, x_d=None, x_phase=None, name='CCCO', V_f=None, E_f=None, V_d=None, E_d=None), MoleculeDatapoint(mol=<rdkit.Chem.rdchem.Mol object at 0x1771040b0>, y=[4.0], weight=1.0, gt_mask=None, lt_mask=None, x_d=None, x_phase=None, name='CCOO', V_f=None, E_f=None, V_d=None, E_d=None), MoleculeDatapoint(mol=<rdkit.Chem.rdchem.Mol object at 0x1771075a0>, y=[5.0], weight=1.0, gt_mask=None, lt_mask=None, x_d=None, x_phase=None, name='COO', V_f=None, E_f=None, V_d=None, E_d=None), MoleculeDatapoint(mol=<rdkit.Chem.rdchem.Mol object at 0x1771077d0>, y=[6.0], weight=1.0, gt_mask=None, lt_mask=None, x_d=None, x_phase=None, name='CCOOO', V_f=None, E_f=None, V_d=None, E_d=None), MoleculeDatapoint(mol=<rdkit.Chem.rdchem.Mol object at 0x177107df0>, y=[7.0], weight=1.0, gt_mask=None, lt_mask=None, x_d=None, x_phase=None, name='COOO', V_f=None, E_f=None, V_d=None, E_d=None), MoleculeDatapoint(mol=<rdkit.Chem.rdchem.Mol object at 0x177107840>, y=[8.0], weight=1.0, gt_mask=None, lt_mask=None, x_d=None, x_phase=None, name='CO', V_f=None, E_f=None, V_d=None, E_d=None), MoleculeDatapoint(mol=<rdkit.Chem.rdchem.Mol object at 0x177107920>, y=[9.0], weight=1.0, gt_mask=None, lt_mask=None, x_d=None, x_phase=None, name='CCO', V_f=None, E_f=None, V_d=None, E_d=None), MoleculeDatapoint(mol=<rdkit.Chem.rdchem.Mol object at 0x177107a70>, y=[10.0], weight=1.0, gt_mask=None, lt_mask=None, x_d=None, x_phase=None, name='OO', V_f=None, E_f=None, V_d=None, E_d=None)], [MoleculeDatapoint(mol=<rdkit.Chem.rdchem.Mol object at 0x177107d80>, y=array([[1],\n",
      "       [2]]), weight=1.0, gt_mask=None, lt_mask=None, x_d=None, x_phase=None, name='CC', V_f=None, E_f=None, V_d=None, E_d=None), MoleculeDatapoint(mol=<rdkit.Chem.rdchem.Mol object at 0x177107c30>, y=array([[1],\n",
      "       [2],\n",
      "       [3]]), weight=1.0, gt_mask=None, lt_mask=None, x_d=None, x_phase=None, name='CCC', V_f=None, E_f=None, V_d=None, E_d=None), MoleculeDatapoint(mol=<rdkit.Chem.rdchem.Mol object at 0x177106d50>, y=array([[1],\n",
      "       [2],\n",
      "       [3],\n",
      "       [5]]), weight=1.0, gt_mask=None, lt_mask=None, x_d=None, x_phase=None, name='CCCO', V_f=None, E_f=None, V_d=None, E_d=None), MoleculeDatapoint(mol=<rdkit.Chem.rdchem.Mol object at 0x177106dc0>, y=array([[1],\n",
      "       [2],\n",
      "       [3],\n",
      "       [4]]), weight=1.0, gt_mask=None, lt_mask=None, x_d=None, x_phase=None, name='CCOO', V_f=None, E_f=None, V_d=None, E_d=None), MoleculeDatapoint(mol=<rdkit.Chem.rdchem.Mol object at 0x177107060>, y=array([[1],\n",
      "       [3],\n",
      "       [5]]), weight=1.0, gt_mask=None, lt_mask=None, x_d=None, x_phase=None, name='COO', V_f=None, E_f=None, V_d=None, E_d=None), MoleculeDatapoint(mol=<rdkit.Chem.rdchem.Mol object at 0x177104dd0>, y=array([[1],\n",
      "       [7],\n",
      "       [3],\n",
      "       [4],\n",
      "       [5]]), weight=1.0, gt_mask=None, lt_mask=None, x_d=None, x_phase=None, name='CCOOO', V_f=None, E_f=None, V_d=None, E_d=None), MoleculeDatapoint(mol=<rdkit.Chem.rdchem.Mol object at 0x177104ba0>, y=array([[2],\n",
      "       [5],\n",
      "       [3],\n",
      "       [2]]), weight=1.0, gt_mask=None, lt_mask=None, x_d=None, x_phase=None, name='COOO', V_f=None, E_f=None, V_d=None, E_d=None), MoleculeDatapoint(mol=<rdkit.Chem.rdchem.Mol object at 0x177107e60>, y=array([[1],\n",
      "       [3]]), weight=1.0, gt_mask=None, lt_mask=None, x_d=None, x_phase=None, name='CO', V_f=None, E_f=None, V_d=None, E_d=None), MoleculeDatapoint(mol=<rdkit.Chem.rdchem.Mol object at 0x177107f40>, y=array([[1],\n",
      "       [3],\n",
      "       [5]]), weight=1.0, gt_mask=None, lt_mask=None, x_d=None, x_phase=None, name='CCO', V_f=None, E_f=None, V_d=None, E_d=None), MoleculeDatapoint(mol=<rdkit.Chem.rdchem.Mol object at 0x1772480b0>, y=array([[5],\n",
      "       [7]]), weight=1.0, gt_mask=None, lt_mask=None, x_d=None, x_phase=None, name='OO', V_f=None, E_f=None, V_d=None, E_d=None)], [MoleculeDatapoint(mol=<rdkit.Chem.rdchem.Mol object at 0x177248190>, y=array([[1]]), weight=1.0, gt_mask=None, lt_mask=None, x_d=None, x_phase=None, name='CC', V_f=None, E_f=None, V_d=None, E_d=None), MoleculeDatapoint(mol=<rdkit.Chem.rdchem.Mol object at 0x177248270>, y=array([[1],\n",
      "       [2]]), weight=1.0, gt_mask=None, lt_mask=None, x_d=None, x_phase=None, name='CCC', V_f=None, E_f=None, V_d=None, E_d=None), MoleculeDatapoint(mol=<rdkit.Chem.rdchem.Mol object at 0x177248350>, y=array([[1],\n",
      "       [2],\n",
      "       [3]]), weight=1.0, gt_mask=None, lt_mask=None, x_d=None, x_phase=None, name='CCCO', V_f=None, E_f=None, V_d=None, E_d=None), MoleculeDatapoint(mol=<rdkit.Chem.rdchem.Mol object at 0x177248430>, y=array([[1],\n",
      "       [2],\n",
      "       [3]]), weight=1.0, gt_mask=None, lt_mask=None, x_d=None, x_phase=None, name='CCOO', V_f=None, E_f=None, V_d=None, E_d=None), MoleculeDatapoint(mol=<rdkit.Chem.rdchem.Mol object at 0x177248510>, y=array([[1],\n",
      "       [2]]), weight=1.0, gt_mask=None, lt_mask=None, x_d=None, x_phase=None, name='COO', V_f=None, E_f=None, V_d=None, E_d=None), MoleculeDatapoint(mol=<rdkit.Chem.rdchem.Mol object at 0x1772485f0>, y=array([[1],\n",
      "       [3],\n",
      "       [2],\n",
      "       [4]]), weight=1.0, gt_mask=None, lt_mask=None, x_d=None, x_phase=None, name='CCOOO', V_f=None, E_f=None, V_d=None, E_d=None), MoleculeDatapoint(mol=<rdkit.Chem.rdchem.Mol object at 0x1772486d0>, y=array([[2],\n",
      "       [3],\n",
      "       [4]]), weight=1.0, gt_mask=None, lt_mask=None, x_d=None, x_phase=None, name='COOO', V_f=None, E_f=None, V_d=None, E_d=None), MoleculeDatapoint(mol=<rdkit.Chem.rdchem.Mol object at 0x1772487b0>, y=array([[2]]), weight=1.0, gt_mask=None, lt_mask=None, x_d=None, x_phase=None, name='CO', V_f=None, E_f=None, V_d=None, E_d=None), MoleculeDatapoint(mol=<rdkit.Chem.rdchem.Mol object at 0x177248890>, y=array([[2],\n",
      "       [3]]), weight=1.0, gt_mask=None, lt_mask=None, x_d=None, x_phase=None, name='CCO', V_f=None, E_f=None, V_d=None, E_d=None), MoleculeDatapoint(mol=<rdkit.Chem.rdchem.Mol object at 0x177248970>, y=array([[3]]), weight=1.0, gt_mask=None, lt_mask=None, x_d=None, x_phase=None, name='OO', V_f=None, E_f=None, V_d=None, E_d=None)]]\n"
     ]
    }
   ],
   "source": [
    "mol = [d.mol for d in all_data[0]]\n",
    "\n",
    "train_indices, val_indices, test_indices = data.make_split_indices(mol, \"random\", (0.6, 0.2, 0.2))\n",
    "print(all_data)\n",
    "train_data, val_data, test_data = data.split_data_by_indices(\n",
    "    all_data, train_indices, val_indices, test_indices\n",
    ")\n"
   ]
  },
  {
   "cell_type": "markdown",
   "metadata": {},
   "source": [
    "## Get AtomDataset"
   ]
  },
  {
   "cell_type": "code",
   "execution_count": 41,
   "metadata": {},
   "outputs": [
    {
     "name": "stdout",
     "output_type": "stream",
     "text": [
      "MoleculeDataset(data=[MoleculeDatapoint(mol=<rdkit.Chem.rdchem.Mol object at 0x177107920>, y=[9.0], weight=1.0, gt_mask=None, lt_mask=None, x_d=None, x_phase=None, name='CCO', V_f=None, E_f=None, V_d=None, E_d=None), MoleculeDatapoint(mol=<rdkit.Chem.rdchem.Mol object at 0x1771075a0>, y=[5.0], weight=1.0, gt_mask=None, lt_mask=None, x_d=None, x_phase=None, name='COO', V_f=None, E_f=None, V_d=None, E_d=None), MoleculeDatapoint(mol=<rdkit.Chem.rdchem.Mol object at 0x177107a70>, y=[10.0], weight=1.0, gt_mask=None, lt_mask=None, x_d=None, x_phase=None, name='OO', V_f=None, E_f=None, V_d=None, E_d=None), MoleculeDatapoint(mol=<rdkit.Chem.rdchem.Mol object at 0x1771044a0>, y=[2.0], weight=1.0, gt_mask=None, lt_mask=None, x_d=None, x_phase=None, name='CCC', V_f=None, E_f=None, V_d=None, E_d=None), MoleculeDatapoint(mol=<rdkit.Chem.rdchem.Mol object at 0x177107df0>, y=[7.0], weight=1.0, gt_mask=None, lt_mask=None, x_d=None, x_phase=None, name='COOO', V_f=None, E_f=None, V_d=None, E_d=None), MoleculeDatapoint(mol=<rdkit.Chem.rdchem.Mol object at 0x177107840>, y=[8.0], weight=1.0, gt_mask=None, lt_mask=None, x_d=None, x_phase=None, name='CO', V_f=None, E_f=None, V_d=None, E_d=None)], featurizer=SimpleMoleculeMolGraphFeaturizer(atom_featurizer=<chemprop.featurizers.atom.MultiHotAtomFeaturizer object at 0x284b81310>, bond_featurizer=<chemprop.featurizers.bond.MultiHotBondFeaturizer object at 0x177127d90>))\n"
     ]
    }
   ],
   "source": [
    "featurizer = featurizers.SimpleMoleculeMolGraphFeaturizer()\n",
    "\n",
    "train_dsets = []\n",
    "train_dsets.append(data.MoleculeDataset(train_data[0][0], featurizer))\n",
    "train_dsets.append(data.AtomDataset(train_data[0][1], featurizer))\n",
    "train_dsets.append(data.BondDataset(train_data[0][2], featurizer))\n",
    "print(train_dsets[0])\n",
    "mol_scaler = train_dsets[0].normalize_targets()\n",
    "atom_scaler = train_dsets[1].normalize_targets()\n",
    "bond_scaler = train_dsets[2].normalize_targets()\n",
    "train_dset = data.MolAtomBondDataset(train_dsets[0], train_dsets[1], train_dsets[2])"
   ]
  },
  {
   "cell_type": "code",
   "execution_count": 42,
   "metadata": {},
   "outputs": [],
   "source": [
    "val_dsets = []\n",
    "val_dsets.append(data.MoleculeDataset(val_data[0][0], featurizer))\n",
    "val_dsets.append(data.AtomDataset(val_data[0][1], featurizer))\n",
    "val_dsets.append(data.BondDataset(val_data[0][2], featurizer))\n",
    "val_dsets[0].normalize_targets(mol_scaler)\n",
    "val_dsets[1].normalize_targets(atom_scaler)\n",
    "val_dsets[2].normalize_targets(bond_scaler)\n",
    "val_dset = data.MolAtomBondDataset(val_dsets[0], val_dsets[1], val_dsets[2])\n",
    "\n",
    "test_dsets = []\n",
    "test_dsets.append(data.MoleculeDataset(test_data[0][0], featurizer))\n",
    "test_dsets.append(data.AtomDataset(test_data[0][1], featurizer))\n",
    "test_dsets.append(data.BondDataset(test_data[0][2], featurizer))\n",
    "test_dset = data.MolAtomBondDataset(test_dsets[0], test_dsets[1], test_dsets[2])\n",
    "\n",
    "all_dsets = []\n",
    "all_dsets.append(data.MoleculeDataset(all_data[0], featurizer))\n",
    "all_atom_data = data.AtomDataset(all_data[1], featurizer)\n",
    "all_dsets.append(all_atom_data)\n",
    "atom_slices = all_atom_data._slices\n",
    "all_bond_data = data.BondDataset(all_data[2], featurizer)\n",
    "all_dsets.append(all_bond_data)\n",
    "bond_slices = all_bond_data._slices\n",
    "all_dset = data.MolAtomBondDataset(all_dsets[0], all_dsets[1], all_dsets[2])"
   ]
  },
  {
   "cell_type": "markdown",
   "metadata": {},
   "source": [
    "## Get DataLoader"
   ]
  },
  {
   "cell_type": "code",
   "execution_count": 43,
   "metadata": {},
   "outputs": [],
   "source": [
    "train_loader = data.build_dataloader(train_dset, num_workers=num_workers, shuffle=False)\n",
    "val_loader = data.build_dataloader(val_dset, num_workers=num_workers, shuffle=False)\n",
    "test_loader = data.build_dataloader(test_dset, num_workers=num_workers, shuffle=False)\n",
    "all_loader = data.build_dataloader(all_dset, num_workers=num_workers, shuffle=False)"
   ]
  },
  {
   "cell_type": "markdown",
   "metadata": {},
   "source": [
    "# Change Message-Passing Neural Network (MPNN) inputs here"
   ]
  },
  {
   "cell_type": "markdown",
   "metadata": {},
   "source": [
    "## Message Passing\n",
    "A `Message passing` constructs molecular graphs using message passing to learn node-level hidden representations.\n",
    "\n",
    "Options are `mp = nn.BondMessagePassing()` or `mp = nn.AtomMessagePassing()`"
   ]
  },
  {
   "cell_type": "code",
   "execution_count": 44,
   "metadata": {},
   "outputs": [
    {
     "data": {
      "text/plain": [
       "MixedBondMessagePassing(\n",
       "  (W_i): Linear(in_features=86, out_features=300, bias=False)\n",
       "  (W_h): Linear(in_features=300, out_features=300, bias=False)\n",
       "  (W_o): Linear(in_features=372, out_features=300, bias=True)\n",
       "  (W_o_b): Linear(in_features=314, out_features=300, bias=True)\n",
       "  (dropout): Dropout(p=0.0, inplace=False)\n",
       "  (tau): ReLU()\n",
       "  (V_d_transform): Identity()\n",
       "  (E_d_transform): Identity()\n",
       "  (graph_transform): Identity()\n",
       ")"
      ]
     },
     "execution_count": 44,
     "metadata": {},
     "output_type": "execute_result"
    }
   ],
   "source": [
    "mp = nn.MixedBondMessagePassing() #include why aggregation isn't used\n",
    "mp"
   ]
  },
  {
   "cell_type": "markdown",
   "metadata": {},
   "source": [
    "## Feed-Forward Network (FFN)\n",
    "\n",
    "A `FFN` takes the aggregated representations and make target predictions.\n",
    "\n",
    "Available options can be found in `nn.PredictorRegistry`.\n",
    "\n",
    "For regression:\n",
    "- `ffn = nn.RegressionFFN()`\n",
    "- `ffn = nn.MveFFN()`\n",
    "- `ffn = nn.EvidentialFFN()`\n",
    "\n",
    "For classification:\n",
    "- `ffn = nn.BinaryClassificationFFN()`\n",
    "- `ffn = nn.BinaryDirichletFFN()`\n",
    "- `ffn = nn.MulticlassClassificationFFN()`\n",
    "- `ffn = nn.MulticlassDirichletFFN()`\n",
    "\n",
    "For spectral:\n",
    "- `ffn = nn.SpectralFFN()` # will be available in future version"
   ]
  },
  {
   "cell_type": "code",
   "execution_count": 45,
   "metadata": {},
   "outputs": [
    {
     "name": "stdout",
     "output_type": "stream",
     "text": [
      "ClassRegistry {\n",
      "    'regression': <class 'chemprop.nn.predictors.RegressionFFN'>,\n",
      "    'regression-mve': <class 'chemprop.nn.predictors.MveFFN'>,\n",
      "    'regression-evidential': <class 'chemprop.nn.predictors.EvidentialFFN'>,\n",
      "    'regression-quantile': <class 'chemprop.nn.predictors.QuantileFFN'>,\n",
      "    'classification': <class 'chemprop.nn.predictors.BinaryClassificationFFN'>,\n",
      "    'classification-dirichlet': <class 'chemprop.nn.predictors.BinaryDirichletFFN'>,\n",
      "    'multiclass': <class 'chemprop.nn.predictors.MulticlassClassificationFFN'>,\n",
      "    'multiclass-dirichlet': <class 'chemprop.nn.predictors.MulticlassDirichletFFN'>,\n",
      "    'spectral': <class 'chemprop.nn.predictors.SpectralFFN'>\n",
      "}\n"
     ]
    }
   ],
   "source": [
    "print(nn.PredictorRegistry)"
   ]
  },
  {
   "cell_type": "code",
   "execution_count": 46,
   "metadata": {},
   "outputs": [],
   "source": [
    "mol_output_transform = nn.UnscaleTransform.from_standard_scaler(mol_scaler)\n",
    "atom_output_transform = nn.UnscaleTransform.from_standard_scaler(atom_scaler)\n",
    "bond_output_transform = nn.UnscaleTransform.from_standard_scaler(bond_scaler)"
   ]
  },
  {
   "cell_type": "code",
   "execution_count": 47,
   "metadata": {},
   "outputs": [],
   "source": [
    "mol_ffn = nn.RegressionFFN(output_transform=mol_output_transform, n_tasks=1)\n",
    "atom_ffn = nn.RegressionFFN(output_transform=atom_output_transform, n_tasks=1)\n",
    "bond_ffn = nn.RegressionFFN(output_transform=bond_output_transform, input_dim=600, n_tasks=1)"
   ]
  },
  {
   "cell_type": "markdown",
   "metadata": {},
   "source": [
    "## Batch Norm\n",
    "A `Batch Norm` normalizes the outputs of the aggregation by re-centering and re-scaling.\n",
    "\n",
    "Whether to use batch norm"
   ]
  },
  {
   "cell_type": "code",
   "execution_count": 48,
   "metadata": {},
   "outputs": [],
   "source": [
    "batch_norm = True"
   ]
  },
  {
   "cell_type": "markdown",
   "metadata": {},
   "source": [
    "## Metrics\n",
    "`Metrics` are the ways to evaluate the performance of model predictions.\n",
    "\n",
    "Available options can be found in `metrics.MetricRegistry`, including"
   ]
  },
  {
   "cell_type": "code",
   "execution_count": 49,
   "metadata": {},
   "outputs": [
    {
     "name": "stdout",
     "output_type": "stream",
     "text": [
      "ClassRegistry {\n",
      "    'mse': <class 'chemprop.nn.metrics.MSE'>,\n",
      "    'mae': <class 'chemprop.nn.metrics.MAE'>,\n",
      "    'rmse': <class 'chemprop.nn.metrics.RMSE'>,\n",
      "    'bounded-mse': <class 'chemprop.nn.metrics.BoundedMSE'>,\n",
      "    'bounded-mae': <class 'chemprop.nn.metrics.BoundedMAE'>,\n",
      "    'bounded-rmse': <class 'chemprop.nn.metrics.BoundedRMSE'>,\n",
      "    'r2': <class 'chemprop.nn.metrics.R2Score'>,\n",
      "    'binary-mcc': <class 'chemprop.nn.metrics.BinaryMCCMetric'>,\n",
      "    'multiclass-mcc': <class 'chemprop.nn.metrics.MulticlassMCCMetric'>,\n",
      "    'roc': <class 'chemprop.nn.metrics.BinaryAUROC'>,\n",
      "    'prc': <class 'chemprop.nn.metrics.BinaryAUPRC'>,\n",
      "    'accuracy': <class 'chemprop.nn.metrics.BinaryAccuracy'>,\n",
      "    'f1': <class 'chemprop.nn.metrics.BinaryF1Score'>\n",
      "}\n"
     ]
    }
   ],
   "source": [
    "print(nn.metrics.MetricRegistry)"
   ]
  },
  {
   "cell_type": "code",
   "execution_count": 50,
   "metadata": {},
   "outputs": [],
   "source": [
    "metric_list = [nn.metrics.RMSE(), nn.metrics.MAE()] # Only the first metric is used for training and early stopping"
   ]
  },
  {
   "cell_type": "markdown",
   "metadata": {},
   "source": [
    "## Constructs MPNN"
   ]
  },
  {
   "cell_type": "code",
   "execution_count": 51,
   "metadata": {},
   "outputs": [
    {
     "name": "stderr",
     "output_type": "stream",
     "text": [
      "/opt/anaconda3/envs/chemprop/lib/python3.11/site-packages/lightning/pytorch/utilities/parsing.py:208: Attribute 'mol_predictor' is an instance of `nn.Module` and is already saved during checkpointing. It is recommended to ignore them using `self.save_hyperparameters(ignore=['mol_predictor'])`.\n",
      "/opt/anaconda3/envs/chemprop/lib/python3.11/site-packages/lightning/pytorch/utilities/parsing.py:208: Attribute 'atom_predictor' is an instance of `nn.Module` and is already saved during checkpointing. It is recommended to ignore them using `self.save_hyperparameters(ignore=['atom_predictor'])`.\n",
      "/opt/anaconda3/envs/chemprop/lib/python3.11/site-packages/lightning/pytorch/utilities/parsing.py:208: Attribute 'bond_predictor' is an instance of `nn.Module` and is already saved during checkpointing. It is recommended to ignore them using `self.save_hyperparameters(ignore=['bond_predictor'])`.\n"
     ]
    },
    {
     "data": {
      "text/plain": [
       "MolAtomBondMPNN(\n",
       "  (message_passing): MixedBondMessagePassing(\n",
       "    (W_i): Linear(in_features=86, out_features=300, bias=False)\n",
       "    (W_h): Linear(in_features=300, out_features=300, bias=False)\n",
       "    (W_o): Linear(in_features=372, out_features=300, bias=True)\n",
       "    (W_o_b): Linear(in_features=314, out_features=300, bias=True)\n",
       "    (dropout): Dropout(p=0.0, inplace=False)\n",
       "    (tau): ReLU()\n",
       "    (V_d_transform): Identity()\n",
       "    (E_d_transform): Identity()\n",
       "    (graph_transform): Identity()\n",
       "  )\n",
       "  (agg): MeanAggregation()\n",
       "  (bn): BatchNorm1d(300, eps=1e-05, momentum=0.1, affine=True, track_running_stats=True)\n",
       "  (predictors): ModuleList(\n",
       "    (0-1): 2 x RegressionFFN(\n",
       "      (ffn): MLP(\n",
       "        (0): Sequential(\n",
       "          (0): Linear(in_features=300, out_features=300, bias=True)\n",
       "        )\n",
       "        (1): Sequential(\n",
       "          (0): ReLU()\n",
       "          (1): Dropout(p=0.0, inplace=False)\n",
       "          (2): Linear(in_features=300, out_features=1, bias=True)\n",
       "        )\n",
       "      )\n",
       "      (criterion): MSE(task_weights=[[1.0]])\n",
       "      (output_transform): UnscaleTransform()\n",
       "    )\n",
       "    (2): RegressionFFN(\n",
       "      (ffn): MLP(\n",
       "        (0): Sequential(\n",
       "          (0): Linear(in_features=600, out_features=300, bias=True)\n",
       "        )\n",
       "        (1): Sequential(\n",
       "          (0): ReLU()\n",
       "          (1): Dropout(p=0.0, inplace=False)\n",
       "          (2): Linear(in_features=300, out_features=1, bias=True)\n",
       "        )\n",
       "      )\n",
       "      (criterion): MSE(task_weights=[[1.0]])\n",
       "      (output_transform): UnscaleTransform()\n",
       "    )\n",
       "  )\n",
       "  (X_d_transform): Identity()\n",
       "  (metrics): ModuleList(\n",
       "    (0-2): 3 x ModuleList(\n",
       "      (0): RMSE(task_weights=[[1.0]])\n",
       "      (1): MAE(task_weights=[[1.0]])\n",
       "      (2): MSE(task_weights=[[1.0]])\n",
       "    )\n",
       "  )\n",
       ")"
      ]
     },
     "execution_count": 51,
     "metadata": {},
     "output_type": "execute_result"
    }
   ],
   "source": [
    "agg = nn.MeanAggregation()\n",
    "mol_atom_bond_mpnn = models.MolAtomBondMPNN(mp, agg, mol_ffn, atom_ffn, bond_ffn, batch_norm, metric_list)\n",
    "\n",
    "mol_atom_bond_mpnn"
   ]
  },
  {
   "cell_type": "markdown",
   "metadata": {},
   "source": [
    "# Set up trainer"
   ]
  },
  {
   "cell_type": "code",
   "execution_count": 52,
   "metadata": {},
   "outputs": [
    {
     "name": "stderr",
     "output_type": "stream",
     "text": [
      "GPU available: True (mps), used: False\n",
      "TPU available: False, using: 0 TPU cores\n",
      "HPU available: False, using: 0 HPUs\n",
      "/opt/anaconda3/envs/chemprop/lib/python3.11/site-packages/lightning/pytorch/trainer/setup.py:177: GPU available but not used. You can set it by doing `Trainer(accelerator='gpu')`.\n"
     ]
    }
   ],
   "source": [
    "# Configure model checkpointing\n",
    "checkpointing = ModelCheckpoint(\n",
    "    \"checkpoints\",  # Directory where model checkpoints will be saved\n",
    "    \"best-{epoch}-{val_loss:.2f}\",  # Filename format for checkpoints, including epoch and validation loss\n",
    "    \"val_loss\",  # Metric used to select the best checkpoint (based on validation loss)\n",
    "    mode=\"min\",  # Save the checkpoint with the lowest validation loss (minimization objective)\n",
    "    save_last=True,  # Always save the most recent checkpoint, even if it's not the best\n",
    ")\n",
    "\n",
    "trainer = pl.Trainer(\n",
    "    logger=False,\n",
    "    enable_checkpointing=True, # Use `True` if you want to save model checkpoints. The checkpoints will be saved in the `checkpoints` folder.\n",
    "    enable_progress_bar=True,\n",
    "    accelerator=\"cpu\",\n",
    "    devices=1,\n",
    "    max_epochs=20, # number of epochs to train for\n",
    "    callbacks=[checkpointing],\n",
    ")"
   ]
  },
  {
   "cell_type": "markdown",
   "metadata": {},
   "source": [
    "# Start training"
   ]
  },
  {
   "cell_type": "code",
   "execution_count": 53,
   "metadata": {},
   "outputs": [
    {
     "name": "stderr",
     "output_type": "stream",
     "text": [
      "/opt/anaconda3/envs/chemprop/lib/python3.11/site-packages/lightning/pytorch/callbacks/model_checkpoint.py:654: Checkpoint directory /Users/brianli/Documents/chemprop/examples/checkpoints exists and is not empty.\n",
      "Loading `train_dataloader` to estimate number of stepping batches.\n",
      "/opt/anaconda3/envs/chemprop/lib/python3.11/site-packages/lightning/pytorch/trainer/connectors/data_connector.py:424: The 'train_dataloader' does not have many workers which may be a bottleneck. Consider increasing the value of the `num_workers` argument` to `num_workers=7` in the `DataLoader` to improve performance.\n",
      "\n",
      "  | Name            | Type                    | Params | Mode \n",
      "--------------------------------------------------------------------\n",
      "0 | message_passing | MixedBondMessagePassing | 322 K  | train\n",
      "1 | agg             | MeanAggregation         | 0      | train\n",
      "2 | bn              | BatchNorm1d             | 600    | train\n",
      "3 | predictors      | ModuleList              | 361 K  | train\n",
      "4 | X_d_transform   | Identity                | 0      | train\n",
      "5 | metrics         | ModuleList              | 0      | train\n",
      "--------------------------------------------------------------------\n",
      "684 K     Trainable params\n",
      "0         Non-trainable params\n",
      "684 K     Total params\n",
      "2.738     Total estimated model params size (MB)\n",
      "53        Modules in train mode\n",
      "0         Modules in eval mode\n"
     ]
    },
    {
     "name": "stdout",
     "output_type": "stream",
     "text": [
      "                                                                                "
     ]
    },
    {
     "name": "stderr",
     "output_type": "stream",
     "text": [
      "/opt/anaconda3/envs/chemprop/lib/python3.11/site-packages/lightning/pytorch/trainer/connectors/data_connector.py:424: The 'val_dataloader' does not have many workers which may be a bottleneck. Consider increasing the value of the `num_workers` argument` to `num_workers=7` in the `DataLoader` to improve performance.\n"
     ]
    },
    {
     "name": "stdout",
     "output_type": "stream",
     "text": [
      "Epoch 0: 100%|████████████████████████████████████| 1/1 [00:00<00:00, 68.03it/s]\n",
      "Validation: |                                             | 0/? [00:00<?, ?it/s]\u001b[A\n",
      "Validation:   0%|                                         | 0/1 [00:00<?, ?it/s]\u001b[A\n",
      "Validation DataLoader 0:   0%|                            | 0/1 [00:00<?, ?it/s]\u001b[A\n",
      "Validation DataLoader 0: 100%|███████████████████| 1/1 [00:00<00:00, 117.23it/s]\u001b[A\n",
      "Epoch 1: 100%|████████████████████| 1/1 [00:00<00:00, 76.66it/s, val_loss=4.820]\u001b[A\n",
      "Validation: |                                             | 0/? [00:00<?, ?it/s]\u001b[A\n",
      "Validation:   0%|                                         | 0/1 [00:00<?, ?it/s]\u001b[A\n",
      "Validation DataLoader 0:   0%|                            | 0/1 [00:00<?, ?it/s]\u001b[A\n",
      "Validation DataLoader 0: 100%|███████████████████| 1/1 [00:00<00:00, 133.94it/s]\u001b[A\n",
      "Epoch 2: 100%|████████████████████| 1/1 [00:00<00:00, 74.71it/s, val_loss=4.700]\u001b[A\n",
      "Validation: |                                             | 0/? [00:00<?, ?it/s]\u001b[A\n",
      "Validation:   0%|                                         | 0/1 [00:00<?, ?it/s]\u001b[A\n",
      "Validation DataLoader 0:   0%|                            | 0/1 [00:00<?, ?it/s]\u001b[A\n",
      "Validation DataLoader 0: 100%|███████████████████| 1/1 [00:00<00:00, 135.17it/s]\u001b[A\n",
      "Epoch 3: 100%|████████████████████| 1/1 [00:00<00:00, 64.52it/s, val_loss=4.480]\u001b[A\n",
      "Validation: |                                             | 0/? [00:00<?, ?it/s]\u001b[A\n",
      "Validation:   0%|                                         | 0/1 [00:00<?, ?it/s]\u001b[A\n",
      "Validation DataLoader 0:   0%|                            | 0/1 [00:00<?, ?it/s]\u001b[A\n",
      "Validation DataLoader 0: 100%|███████████████████| 1/1 [00:00<00:00, 115.98it/s]\u001b[A\n",
      "Epoch 4: 100%|████████████████████| 1/1 [00:00<00:00, 83.29it/s, val_loss=4.290]\u001b[A\n",
      "Validation: |                                             | 0/? [00:00<?, ?it/s]\u001b[A\n",
      "Validation:   0%|                                         | 0/1 [00:00<?, ?it/s]\u001b[A\n",
      "Validation DataLoader 0:   0%|                            | 0/1 [00:00<?, ?it/s]\u001b[A\n",
      "Validation DataLoader 0: 100%|███████████████████| 1/1 [00:00<00:00, 145.50it/s]\u001b[A\n",
      "Epoch 5: 100%|████████████████████| 1/1 [00:00<00:00, 87.98it/s, val_loss=4.140]\u001b[A\n",
      "Validation: |                                             | 0/? [00:00<?, ?it/s]\u001b[A\n",
      "Validation:   0%|                                         | 0/1 [00:00<?, ?it/s]\u001b[A\n",
      "Validation DataLoader 0:   0%|                            | 0/1 [00:00<?, ?it/s]\u001b[A\n",
      "Validation DataLoader 0: 100%|███████████████████| 1/1 [00:00<00:00, 139.62it/s]\u001b[A\n",
      "Epoch 6: 100%|████████████████████| 1/1 [00:00<00:00, 87.92it/s, val_loss=4.000]\u001b[A\n",
      "Validation: |                                             | 0/? [00:00<?, ?it/s]\u001b[A\n",
      "Validation:   0%|                                         | 0/1 [00:00<?, ?it/s]\u001b[A\n",
      "Validation DataLoader 0:   0%|                            | 0/1 [00:00<?, ?it/s]\u001b[A\n",
      "Validation DataLoader 0: 100%|███████████████████| 1/1 [00:00<00:00, 125.31it/s]\u001b[A\n",
      "Epoch 7: 100%|████████████████████| 1/1 [00:00<00:00, 81.08it/s, val_loss=3.860]\u001b[A\n",
      "Validation: |                                             | 0/? [00:00<?, ?it/s]\u001b[A\n",
      "Validation:   0%|                                         | 0/1 [00:00<?, ?it/s]\u001b[A\n",
      "Validation DataLoader 0:   0%|                            | 0/1 [00:00<?, ?it/s]\u001b[A\n",
      "Validation DataLoader 0: 100%|███████████████████| 1/1 [00:00<00:00, 134.46it/s]\u001b[A\n",
      "Epoch 8: 100%|████████████████████| 1/1 [00:00<00:00, 76.10it/s, val_loss=3.710]\u001b[A\n",
      "Validation: |                                             | 0/? [00:00<?, ?it/s]\u001b[A\n",
      "Validation:   0%|                                         | 0/1 [00:00<?, ?it/s]\u001b[A\n",
      "Validation DataLoader 0:   0%|                            | 0/1 [00:00<?, ?it/s]\u001b[A\n",
      "Validation DataLoader 0: 100%|███████████████████| 1/1 [00:00<00:00, 108.95it/s]\u001b[A\n",
      "Epoch 9: 100%|████████████████████| 1/1 [00:00<00:00, 83.88it/s, val_loss=3.530]\u001b[A\n",
      "Validation: |                                             | 0/? [00:00<?, ?it/s]\u001b[A\n",
      "Validation:   0%|                                         | 0/1 [00:00<?, ?it/s]\u001b[A\n",
      "Validation DataLoader 0:   0%|                            | 0/1 [00:00<?, ?it/s]\u001b[A\n",
      "Validation DataLoader 0: 100%|███████████████████| 1/1 [00:00<00:00, 137.17it/s]\u001b[A\n",
      "Epoch 10: 100%|███████████████████| 1/1 [00:00<00:00, 85.09it/s, val_loss=3.350]\u001b[A\n",
      "Validation: |                                             | 0/? [00:00<?, ?it/s]\u001b[A\n",
      "Validation:   0%|                                         | 0/1 [00:00<?, ?it/s]\u001b[A\n",
      "Validation DataLoader 0:   0%|                            | 0/1 [00:00<?, ?it/s]\u001b[A\n",
      "Validation DataLoader 0: 100%|███████████████████| 1/1 [00:00<00:00, 117.90it/s]\u001b[A\n",
      "Epoch 11: 100%|███████████████████| 1/1 [00:00<00:00, 88.35it/s, val_loss=3.150]\u001b[A\n",
      "Validation: |                                             | 0/? [00:00<?, ?it/s]\u001b[A\n",
      "Validation:   0%|                                         | 0/1 [00:00<?, ?it/s]\u001b[A\n",
      "Validation DataLoader 0:   0%|                            | 0/1 [00:00<?, ?it/s]\u001b[A\n",
      "Validation DataLoader 0: 100%|███████████████████| 1/1 [00:00<00:00, 128.38it/s]\u001b[A\n",
      "Epoch 12: 100%|███████████████████| 1/1 [00:00<00:00, 87.23it/s, val_loss=2.950]\u001b[A\n",
      "Validation: |                                             | 0/? [00:00<?, ?it/s]\u001b[A\n",
      "Validation:   0%|                                         | 0/1 [00:00<?, ?it/s]\u001b[A\n",
      "Validation DataLoader 0:   0%|                            | 0/1 [00:00<?, ?it/s]\u001b[A\n",
      "Validation DataLoader 0: 100%|███████████████████| 1/1 [00:00<00:00, 122.70it/s]\u001b[A\n",
      "Epoch 13: 100%|███████████████████| 1/1 [00:00<00:00, 83.73it/s, val_loss=2.760]\u001b[A\n",
      "Validation: |                                             | 0/? [00:00<?, ?it/s]\u001b[A\n",
      "Validation:   0%|                                         | 0/1 [00:00<?, ?it/s]\u001b[A\n",
      "Validation DataLoader 0:   0%|                            | 0/1 [00:00<?, ?it/s]\u001b[A\n",
      "Validation DataLoader 0: 100%|███████████████████| 1/1 [00:00<00:00, 121.02it/s]\u001b[A\n",
      "Epoch 14: 100%|███████████████████| 1/1 [00:00<00:00, 79.55it/s, val_loss=2.570]\u001b[A\n",
      "Validation: |                                             | 0/? [00:00<?, ?it/s]\u001b[A\n",
      "Validation:   0%|                                         | 0/1 [00:00<?, ?it/s]\u001b[A\n",
      "Validation DataLoader 0:   0%|                            | 0/1 [00:00<?, ?it/s]\u001b[A\n",
      "Validation DataLoader 0: 100%|███████████████████| 1/1 [00:00<00:00, 116.51it/s]\u001b[A\n",
      "Epoch 15: 100%|███████████████████| 1/1 [00:00<00:00, 78.11it/s, val_loss=2.390]\u001b[A\n",
      "Validation: |                                             | 0/? [00:00<?, ?it/s]\u001b[A\n",
      "Validation:   0%|                                         | 0/1 [00:00<?, ?it/s]\u001b[A\n",
      "Validation DataLoader 0:   0%|                            | 0/1 [00:00<?, ?it/s]\u001b[A\n",
      "Validation DataLoader 0: 100%|███████████████████| 1/1 [00:00<00:00, 110.07it/s]\u001b[A\n",
      "Epoch 16: 100%|███████████████████| 1/1 [00:00<00:00, 79.40it/s, val_loss=2.220]\u001b[A\n",
      "Validation: |                                             | 0/? [00:00<?, ?it/s]\u001b[A\n",
      "Validation:   0%|                                         | 0/1 [00:00<?, ?it/s]\u001b[A\n",
      "Validation DataLoader 0:   0%|                            | 0/1 [00:00<?, ?it/s]\u001b[A\n",
      "Validation DataLoader 0: 100%|███████████████████| 1/1 [00:00<00:00, 118.69it/s]\u001b[A\n",
      "Epoch 17: 100%|███████████████████| 1/1 [00:00<00:00, 79.00it/s, val_loss=2.060]\u001b[A\n",
      "Validation: |                                             | 0/? [00:00<?, ?it/s]\u001b[A\n",
      "Validation:   0%|                                         | 0/1 [00:00<?, ?it/s]\u001b[A\n",
      "Validation DataLoader 0:   0%|                            | 0/1 [00:00<?, ?it/s]\u001b[A\n",
      "Validation DataLoader 0: 100%|███████████████████| 1/1 [00:00<00:00, 126.82it/s]\u001b[A\n",
      "Epoch 18: 100%|███████████████████| 1/1 [00:00<00:00, 80.56it/s, val_loss=1.910]\u001b[A\n",
      "Validation: |                                             | 0/? [00:00<?, ?it/s]\u001b[A\n",
      "Validation:   0%|                                         | 0/1 [00:00<?, ?it/s]\u001b[A\n",
      "Validation DataLoader 0:   0%|                            | 0/1 [00:00<?, ?it/s]\u001b[A\n",
      "Validation DataLoader 0: 100%|████████████████████| 1/1 [00:00<00:00, 45.27it/s]\u001b[A\n",
      "Epoch 19: 100%|███████████████████| 1/1 [00:00<00:00, 83.02it/s, val_loss=1.780]\u001b[A\n",
      "Validation: |                                             | 0/? [00:00<?, ?it/s]\u001b[A\n",
      "Validation:   0%|                                         | 0/1 [00:00<?, ?it/s]\u001b[A\n",
      "Validation DataLoader 0:   0%|                            | 0/1 [00:00<?, ?it/s]\u001b[A\n",
      "Validation DataLoader 0: 100%|███████████████████| 1/1 [00:00<00:00, 117.14it/s]\u001b[A\n",
      "Epoch 19: 100%|███████████████████| 1/1 [00:00<00:00, 36.51it/s, val_loss=1.660]\u001b[A"
     ]
    },
    {
     "name": "stderr",
     "output_type": "stream",
     "text": [
      "`Trainer.fit` stopped: `max_epochs=20` reached.\n"
     ]
    },
    {
     "name": "stdout",
     "output_type": "stream",
     "text": [
      "Epoch 19: 100%|███████████████████| 1/1 [00:00<00:00, 23.02it/s, val_loss=1.660]\n"
     ]
    }
   ],
   "source": [
    "trainer.fit(mol_atom_bond_mpnn, train_loader, val_loader)"
   ]
  },
  {
   "cell_type": "markdown",
   "metadata": {},
   "source": [
    "# Test results"
   ]
  },
  {
   "cell_type": "code",
   "execution_count": 54,
   "metadata": {},
   "outputs": [
    {
     "name": "stderr",
     "output_type": "stream",
     "text": [
      "/opt/anaconda3/envs/chemprop/lib/python3.11/site-packages/lightning/pytorch/trainer/connectors/data_connector.py:424: The 'test_dataloader' does not have many workers which may be a bottleneck. Consider increasing the value of the `num_workers` argument` to `num_workers=7` in the `DataLoader` to improve performance.\n"
     ]
    },
    {
     "name": "stdout",
     "output_type": "stream",
     "text": [
      "Testing DataLoader 0: 100%|██████████████████████| 1/1 [00:00<00:00, 181.22it/s]\n"
     ]
    },
    {
     "data": {
      "text/html": [
       "<pre style=\"white-space:pre;overflow-x:auto;line-height:normal;font-family:Menlo,'DejaVu Sans Mono',consolas,'Courier New',monospace\">┏━━━━━━━━━━━━━━━━━━━━━━━━━━━┳━━━━━━━━━━━━━━━━━━━━━━━━━━━┓\n",
       "┃<span style=\"font-weight: bold\">        Test metric        </span>┃<span style=\"font-weight: bold\">       DataLoader 0        </span>┃\n",
       "┡━━━━━━━━━━━━━━━━━━━━━━━━━━━╇━━━━━━━━━━━━━━━━━━━━━━━━━━━┩\n",
       "│<span style=\"color: #008080; text-decoration-color: #008080\">     atom_mol_test/mae     </span>│<span style=\"color: #800080; text-decoration-color: #800080\">    1.1712143421173096     </span>│\n",
       "│<span style=\"color: #008080; text-decoration-color: #008080\">    atom_mol_test/rmse     </span>│<span style=\"color: #800080; text-decoration-color: #800080\">    1.6336032152175903     </span>│\n",
       "│<span style=\"color: #008080; text-decoration-color: #008080\">  bond_atom_mol_test/mae   </span>│<span style=\"color: #800080; text-decoration-color: #800080\">    1.1712143421173096     </span>│\n",
       "│<span style=\"color: #008080; text-decoration-color: #008080\">  bond_atom_mol_test/rmse  </span>│<span style=\"color: #800080; text-decoration-color: #800080\">    1.6336032152175903     </span>│\n",
       "│<span style=\"color: #008080; text-decoration-color: #008080\">       mol_test/mae        </span>│<span style=\"color: #800080; text-decoration-color: #800080\">    1.1712143421173096     </span>│\n",
       "│<span style=\"color: #008080; text-decoration-color: #008080\">       mol_test/rmse       </span>│<span style=\"color: #800080; text-decoration-color: #800080\">    1.6336032152175903     </span>│\n",
       "└───────────────────────────┴───────────────────────────┘\n",
       "</pre>\n"
      ],
      "text/plain": [
       "┏━━━━━━━━━━━━━━━━━━━━━━━━━━━┳━━━━━━━━━━━━━━━━━━━━━━━━━━━┓\n",
       "┃\u001b[1m \u001b[0m\u001b[1m       Test metric       \u001b[0m\u001b[1m \u001b[0m┃\u001b[1m \u001b[0m\u001b[1m      DataLoader 0       \u001b[0m\u001b[1m \u001b[0m┃\n",
       "┡━━━━━━━━━━━━━━━━━━━━━━━━━━━╇━━━━━━━━━━━━━━━━━━━━━━━━━━━┩\n",
       "│\u001b[36m \u001b[0m\u001b[36m    atom_mol_test/mae    \u001b[0m\u001b[36m \u001b[0m│\u001b[35m \u001b[0m\u001b[35m   1.1712143421173096    \u001b[0m\u001b[35m \u001b[0m│\n",
       "│\u001b[36m \u001b[0m\u001b[36m   atom_mol_test/rmse    \u001b[0m\u001b[36m \u001b[0m│\u001b[35m \u001b[0m\u001b[35m   1.6336032152175903    \u001b[0m\u001b[35m \u001b[0m│\n",
       "│\u001b[36m \u001b[0m\u001b[36m bond_atom_mol_test/mae  \u001b[0m\u001b[36m \u001b[0m│\u001b[35m \u001b[0m\u001b[35m   1.1712143421173096    \u001b[0m\u001b[35m \u001b[0m│\n",
       "│\u001b[36m \u001b[0m\u001b[36m bond_atom_mol_test/rmse \u001b[0m\u001b[36m \u001b[0m│\u001b[35m \u001b[0m\u001b[35m   1.6336032152175903    \u001b[0m\u001b[35m \u001b[0m│\n",
       "│\u001b[36m \u001b[0m\u001b[36m      mol_test/mae       \u001b[0m\u001b[36m \u001b[0m│\u001b[35m \u001b[0m\u001b[35m   1.1712143421173096    \u001b[0m\u001b[35m \u001b[0m│\n",
       "│\u001b[36m \u001b[0m\u001b[36m      mol_test/rmse      \u001b[0m\u001b[36m \u001b[0m│\u001b[35m \u001b[0m\u001b[35m   1.6336032152175903    \u001b[0m\u001b[35m \u001b[0m│\n",
       "└───────────────────────────┴───────────────────────────┘\n"
      ]
     },
     "metadata": {},
     "output_type": "display_data"
    }
   ],
   "source": [
    "results = trainer.test(mol_atom_bond_mpnn, test_loader)"
   ]
  },
  {
   "cell_type": "markdown",
   "metadata": {},
   "source": [
    "# Predictions"
   ]
  },
  {
   "cell_type": "code",
   "execution_count": 61,
   "metadata": {},
   "outputs": [
    {
     "name": "stderr",
     "output_type": "stream",
     "text": [
      "GPU available: True (mps), used: False\n",
      "TPU available: False, using: 0 TPU cores\n",
      "HPU available: False, using: 0 HPUs\n"
     ]
    },
    {
     "name": "stdout",
     "output_type": "stream",
     "text": [
      "odict_keys(['message_passing.W_i.weight', 'message_passing.W_h.weight', 'message_passing.W_o.weight', 'message_passing.W_o.bias', 'message_passing.W_o_b.weight', 'message_passing.W_o_b.bias', 'bn.weight', 'bn.bias', 'bn.running_mean', 'bn.running_var', 'bn.num_batches_tracked', 'predictors.0.ffn.0.0.weight', 'predictors.0.ffn.0.0.bias', 'predictors.0.ffn.1.2.weight', 'predictors.0.ffn.1.2.bias', 'predictors.0.criterion.task_weights', 'predictors.0.output_transform.mean', 'predictors.0.output_transform.scale', 'predictors.1.ffn.0.0.weight', 'predictors.1.ffn.0.0.bias', 'predictors.1.ffn.1.2.weight', 'predictors.1.ffn.1.2.bias', 'predictors.1.criterion.task_weights', 'predictors.1.output_transform.mean', 'predictors.1.output_transform.scale', 'predictors.2.ffn.0.0.weight', 'predictors.2.ffn.0.0.bias', 'predictors.2.ffn.1.2.weight', 'predictors.2.ffn.1.2.bias', 'predictors.2.criterion.task_weights', 'predictors.2.output_transform.mean', 'predictors.2.output_transform.scale', 'metrics.0.0.task_weights', 'metrics.0.1.task_weights', 'metrics.0.2.task_weights', 'metrics.1.0.task_weights', 'metrics.1.1.task_weights', 'metrics.1.2.task_weights', 'metrics.2.0.task_weights', 'metrics.2.1.task_weights', 'metrics.2.2.task_weights'])\n"
     ]
    }
   ],
   "source": [
    "from chemprop.models import load_mixed_model\n",
    "import torch\n",
    "\n",
    "mol_individual_preds = []\n",
    "atom_individual_preds = []\n",
    "bond_individual_preds = []\n",
    "model = load_mixed_model(checkpointing.best_model_path)\n",
    "print(model.state_dict().keys())\n",
    "trainer = pl.Trainer(\n",
    "    logger=False,\n",
    "    enable_progress_bar=True,\n",
    "    accelerator=\"cpu\",\n",
    "    devices=1,\n",
    ")"
   ]
  },
  {
   "cell_type": "code",
   "execution_count": 56,
   "metadata": {},
   "outputs": [
    {
     "name": "stderr",
     "output_type": "stream",
     "text": [
      "/opt/anaconda3/envs/chemprop/lib/python3.11/site-packages/lightning/pytorch/trainer/connectors/data_connector.py:424: The 'predict_dataloader' does not have many workers which may be a bottleneck. Consider increasing the value of the `num_workers` argument` to `num_workers=7` in the `DataLoader` to improve performance.\n"
     ]
    },
    {
     "name": "stdout",
     "output_type": "stream",
     "text": [
      "Predicting DataLoader 0: 100%|███████████████████| 1/1 [00:00<00:00, 288.68it/s]\n",
      "[tensor([[4.1460],\n",
      "        [3.9199],\n",
      "        [6.9743],\n",
      "        [6.6796],\n",
      "        [6.1004],\n",
      "        [6.8846],\n",
      "        [6.7616],\n",
      "        [7.5233],\n",
      "        [7.6099],\n",
      "        [8.9597]]), tensor([[2.5122],\n",
      "        [2.5122],\n",
      "        [2.4572],\n",
      "        [2.4596],\n",
      "        [2.4572],\n",
      "        [2.4783],\n",
      "        [2.4314],\n",
      "        [2.7524],\n",
      "        [3.4947],\n",
      "        [2.4245],\n",
      "        [2.6064],\n",
      "        [3.4937],\n",
      "        [3.5837],\n",
      "        [2.5472],\n",
      "        [3.4379],\n",
      "        [3.6026],\n",
      "        [2.4275],\n",
      "        [2.6359],\n",
      "        [3.3587],\n",
      "        [3.5838],\n",
      "        [3.5249],\n",
      "        [2.5740],\n",
      "        [3.3328],\n",
      "        [3.5938],\n",
      "        [3.5250],\n",
      "        [2.6940],\n",
      "        [3.4407],\n",
      "        [2.4128],\n",
      "        [2.7418],\n",
      "        [3.5024],\n",
      "        [3.6684],\n",
      "        [3.6684]]), tensor([[1.4151],\n",
      "        [1.4151],\n",
      "        [1.5157],\n",
      "        [1.5184],\n",
      "        [1.5184],\n",
      "        [1.5157],\n",
      "        [1.5397],\n",
      "        [1.5448],\n",
      "        [1.6358],\n",
      "        [1.6313],\n",
      "        [2.4166],\n",
      "        [2.4253],\n",
      "        [1.5225],\n",
      "        [1.5294],\n",
      "        [2.2063],\n",
      "        [2.2060],\n",
      "        [2.9336],\n",
      "        [2.9407],\n",
      "        [1.9676],\n",
      "        [1.9672],\n",
      "        [2.8909],\n",
      "        [2.9014],\n",
      "        [1.5132],\n",
      "        [1.5204],\n",
      "        [2.3277],\n",
      "        [2.3257],\n",
      "        [2.8214],\n",
      "        [2.8189],\n",
      "        [2.9728],\n",
      "        [2.9858],\n",
      "        [2.0887],\n",
      "        [2.0871],\n",
      "        [2.7744],\n",
      "        [2.7725],\n",
      "        [2.9834],\n",
      "        [2.9965],\n",
      "        [2.1052],\n",
      "        [2.1150],\n",
      "        [1.4811],\n",
      "        [1.4867],\n",
      "        [2.3440],\n",
      "        [2.3528],\n",
      "        [2.9523],\n",
      "        [2.9523]])]\n"
     ]
    }
   ],
   "source": [
    "predss = trainer.predict(model, all_loader)\n",
    "print(predss[0])\n",
    "mol_individual_preds.append(torch.concat([predss[0][0]], 0))\n",
    "atom_individual_preds.append(torch.concat([predss[0][1]], 0))\n",
    "bond_individual_preds.append(torch.concat([predss[0][2]], 0))\n",
    "\n",
    "mol_average_preds = torch.mean(torch.stack(mol_individual_preds).float(), dim=0)\n",
    "atom_average_preds = torch.mean(torch.stack(atom_individual_preds).float(), dim=0)\n",
    "bond_average_preds = torch.mean(torch.stack(bond_individual_preds).float(), dim=0)\n",
    "\n",
    "test_path = chemprop_dir / \"tests\" / \"data\" / \"mixed_regression_input.csv\"\n",
    "df_test = pd.read_csv(test_path, header=\"infer\", index_col=False)"
   ]
  },
  {
   "cell_type": "markdown",
   "metadata": {},
   "source": [
    "## Loaded Model"
   ]
  },
  {
   "cell_type": "code",
   "execution_count": 57,
   "metadata": {},
   "outputs": [
    {
     "data": {
      "text/plain": [
       "MolAtomBondMPNN(\n",
       "  (message_passing): MixedBondMessagePassing(\n",
       "    (W_i): Linear(in_features=86, out_features=300, bias=False)\n",
       "    (W_h): Linear(in_features=300, out_features=300, bias=False)\n",
       "    (W_o): Linear(in_features=372, out_features=300, bias=True)\n",
       "    (W_o_b): Linear(in_features=314, out_features=300, bias=True)\n",
       "    (dropout): Dropout(p=0.0, inplace=False)\n",
       "    (tau): ReLU()\n",
       "    (V_d_transform): Identity()\n",
       "    (E_d_transform): Identity()\n",
       "    (graph_transform): Identity()\n",
       "  )\n",
       "  (agg): MeanAggregation()\n",
       "  (bn): BatchNorm1d(300, eps=1e-05, momentum=0.1, affine=True, track_running_stats=True)\n",
       "  (predictors): ModuleList(\n",
       "    (0-1): 2 x RegressionFFN(\n",
       "      (ffn): MLP(\n",
       "        (0): Sequential(\n",
       "          (0): Linear(in_features=300, out_features=300, bias=True)\n",
       "        )\n",
       "        (1): Sequential(\n",
       "          (0): ReLU()\n",
       "          (1): Dropout(p=0.0, inplace=False)\n",
       "          (2): Linear(in_features=300, out_features=1, bias=True)\n",
       "        )\n",
       "      )\n",
       "      (criterion): MSE(task_weights=[[1.0]])\n",
       "      (output_transform): UnscaleTransform()\n",
       "    )\n",
       "    (2): RegressionFFN(\n",
       "      (ffn): MLP(\n",
       "        (0): Sequential(\n",
       "          (0): Linear(in_features=600, out_features=300, bias=True)\n",
       "        )\n",
       "        (1): Sequential(\n",
       "          (0): ReLU()\n",
       "          (1): Dropout(p=0.0, inplace=False)\n",
       "          (2): Linear(in_features=300, out_features=1, bias=True)\n",
       "        )\n",
       "      )\n",
       "      (criterion): MSE(task_weights=[[1.0]])\n",
       "      (output_transform): UnscaleTransform()\n",
       "    )\n",
       "  )\n",
       "  (X_d_transform): Identity()\n",
       "  (metrics): ModuleList(\n",
       "    (0-2): 3 x ModuleList(\n",
       "      (0): RMSE(task_weights=[[1.0]])\n",
       "      (1): MAE(task_weights=[[1.0]])\n",
       "      (2): MSE(task_weights=[[1.0]])\n",
       "    )\n",
       "  )\n",
       ")"
      ]
     },
     "execution_count": 57,
     "metadata": {},
     "output_type": "execute_result"
    }
   ],
   "source": [
    "model"
   ]
  },
  {
   "cell_type": "code",
   "execution_count": 58,
   "metadata": {},
   "outputs": [],
   "source": [
    "target_cols = df_test.columns.tolist()\n",
    "mol_cols, atom_cols, bond_cols = [], [], []\n",
    "for i in range(1, len(target_cols)):\n",
    "    index = 0\n",
    "    column_type = df_test.iloc[index][target_cols[i]]\n",
    "    if isinstance(column_type, float):\n",
    "        mol_cols.append(i)\n",
    "    else:\n",
    "        column_mol = make_mol(df_test.iloc[index][target_cols[0]], False, False)\n",
    "        column_type = ast.literal_eval(column_type)\n",
    "        while index < len(df_test) and column_mol.GetNumAtoms() == column_mol.GetNumBonds():\n",
    "            index += 1\n",
    "            column_mol = make_mol(df_test.iloc[index][target_cols[0]])\n",
    "        column_type = ast.literal_eval(df_test.iloc[index][target_cols[i]])\n",
    "        atom_cols.append(i) if len(column_type) == column_mol.GetNumAtoms() else bond_cols.append(i)"
   ]
  },
  {
   "cell_type": "code",
   "execution_count": 59,
   "metadata": {},
   "outputs": [
    {
     "data": {
      "text/html": [
       "<div>\n",
       "<style scoped>\n",
       "    .dataframe tbody tr th:only-of-type {\n",
       "        vertical-align: middle;\n",
       "    }\n",
       "\n",
       "    .dataframe tbody tr th {\n",
       "        vertical-align: top;\n",
       "    }\n",
       "\n",
       "    .dataframe thead th {\n",
       "        text-align: right;\n",
       "    }\n",
       "</style>\n",
       "<table border=\"1\" class=\"dataframe\">\n",
       "  <thead>\n",
       "    <tr style=\"text-align: right;\">\n",
       "      <th></th>\n",
       "      <th>smiles</th>\n",
       "      <th>molecule</th>\n",
       "      <th>atom</th>\n",
       "      <th>bond</th>\n",
       "    </tr>\n",
       "  </thead>\n",
       "  <tbody>\n",
       "    <tr>\n",
       "      <th>0</th>\n",
       "      <td>CC</td>\n",
       "      <td>4.145959</td>\n",
       "      <td>[2.512220859527588, 2.512220859527588]</td>\n",
       "      <td>[1.4150546789169312, 1.4150545597076416]</td>\n",
       "    </tr>\n",
       "    <tr>\n",
       "      <th>1</th>\n",
       "      <td>CCC</td>\n",
       "      <td>3.919910</td>\n",
       "      <td>[2.4572410583496094, 2.4596452713012695, 2.457...</td>\n",
       "      <td>[1.5156538486480713, 1.5184483528137207, 1.518...</td>\n",
       "    </tr>\n",
       "    <tr>\n",
       "      <th>2</th>\n",
       "      <td>CCCO</td>\n",
       "      <td>6.974278</td>\n",
       "      <td>[2.478332281112671, 2.4314184188842773, 2.7524...</td>\n",
       "      <td>[1.5156538486480713, 1.5397183895111084, 1.544...</td>\n",
       "    </tr>\n",
       "    <tr>\n",
       "      <th>3</th>\n",
       "      <td>CCOO</td>\n",
       "      <td>6.679646</td>\n",
       "      <td>[2.42449951171875, 2.6063575744628906, 3.49367...</td>\n",
       "      <td>[1.6312777996063232, 2.41660213470459, 2.42530...</td>\n",
       "    </tr>\n",
       "    <tr>\n",
       "      <th>4</th>\n",
       "      <td>COO</td>\n",
       "      <td>6.100406</td>\n",
       "      <td>[2.547196388244629, 3.437858819961548, 3.60258...</td>\n",
       "      <td>[1.529393196105957, 2.206265926361084, 2.20596...</td>\n",
       "    </tr>\n",
       "    <tr>\n",
       "      <th>5</th>\n",
       "      <td>CCOOO</td>\n",
       "      <td>6.884593</td>\n",
       "      <td>[2.427492380142212, 2.635878562927246, 3.35873...</td>\n",
       "      <td>[2.933560609817505, 2.940661668777466, 1.96759...</td>\n",
       "    </tr>\n",
       "    <tr>\n",
       "      <th>6</th>\n",
       "      <td>COOO</td>\n",
       "      <td>6.761596</td>\n",
       "      <td>[2.57401704788208, 3.3328075408935547, 3.59375...</td>\n",
       "      <td>[2.90136456489563, 1.5132120847702026, 1.52044...</td>\n",
       "    </tr>\n",
       "    <tr>\n",
       "      <th>7</th>\n",
       "      <td>CO</td>\n",
       "      <td>7.523325</td>\n",
       "      <td>[2.6939995288848877, 3.4407336711883545]</td>\n",
       "      <td>[2.3256585597991943, 2.821397304534912]</td>\n",
       "    </tr>\n",
       "    <tr>\n",
       "      <th>8</th>\n",
       "      <td>CCO</td>\n",
       "      <td>7.609945</td>\n",
       "      <td>[2.4128382205963135, 2.741804838180542, 3.5023...</td>\n",
       "      <td>[2.8188865184783936, 2.972829818725586, 2.9858...</td>\n",
       "    </tr>\n",
       "    <tr>\n",
       "      <th>9</th>\n",
       "      <td>OO</td>\n",
       "      <td>8.959720</td>\n",
       "      <td>[3.6683731079101562, 3.6683731079101562]</td>\n",
       "      <td>[2.0887036323547363, 2.087083339691162]</td>\n",
       "    </tr>\n",
       "  </tbody>\n",
       "</table>\n",
       "</div>"
      ],
      "text/plain": [
       "  smiles  molecule                                               atom  \\\n",
       "0     CC  4.145959             [2.512220859527588, 2.512220859527588]   \n",
       "1    CCC  3.919910  [2.4572410583496094, 2.4596452713012695, 2.457...   \n",
       "2   CCCO  6.974278  [2.478332281112671, 2.4314184188842773, 2.7524...   \n",
       "3   CCOO  6.679646  [2.42449951171875, 2.6063575744628906, 3.49367...   \n",
       "4    COO  6.100406  [2.547196388244629, 3.437858819961548, 3.60258...   \n",
       "5  CCOOO  6.884593  [2.427492380142212, 2.635878562927246, 3.35873...   \n",
       "6   COOO  6.761596  [2.57401704788208, 3.3328075408935547, 3.59375...   \n",
       "7     CO  7.523325           [2.6939995288848877, 3.4407336711883545]   \n",
       "8    CCO  7.609945  [2.4128382205963135, 2.741804838180542, 3.5023...   \n",
       "9     OO  8.959720           [3.6683731079101562, 3.6683731079101562]   \n",
       "\n",
       "                                                bond  \n",
       "0           [1.4150546789169312, 1.4150545597076416]  \n",
       "1  [1.5156538486480713, 1.5184483528137207, 1.518...  \n",
       "2  [1.5156538486480713, 1.5397183895111084, 1.544...  \n",
       "3  [1.6312777996063232, 2.41660213470459, 2.42530...  \n",
       "4  [1.529393196105957, 2.206265926361084, 2.20596...  \n",
       "5  [2.933560609817505, 2.940661668777466, 1.96759...  \n",
       "6  [2.90136456489563, 1.5132120847702026, 1.52044...  \n",
       "7            [2.3256585597991943, 2.821397304534912]  \n",
       "8  [2.8188865184783936, 2.972829818725586, 2.9858...  \n",
       "9            [2.0887036323547363, 2.087083339691162]  "
      ]
     },
     "execution_count": 59,
     "metadata": {},
     "output_type": "execute_result"
    }
   ],
   "source": [
    "df_test.iloc[:, mol_cols] = mol_average_preds.tolist()\n",
    "\n",
    "for i in range(len(df_test)):\n",
    "    first_atom = atom_slices.index(i)\n",
    "    last_atom = first_atom + atom_slices.count(i)\n",
    "    atom_preds = atom_average_preds[first_atom:last_atom]\n",
    "    df_test.iloc[i, atom_cols] = [str(atom_preds[:,j].tolist()) for j in range(len(atom_cols))]\n",
    "\n",
    "    first_bond = bond_slices.index(i)\n",
    "    last_bond = first_bond + bond_slices.count(i)\n",
    "    bond_preds = bond_average_preds[first_atom:last_atom]\n",
    "    df_test.iloc[i, bond_cols] = [str(bond_preds[:,j].tolist()) for j in range(len(bond_cols))]\n",
    "\n",
    "#torch.split(average_preds, split_size_or_sections=torch.bincount(torch.tensor(slices)).tolist(), dim=0)\n",
    "\n",
    "output_path = chemprop_dir / \"tests\" / \"data\" / \"mixed_regression_output.csv\"\n",
    "if output_path.suffix == \".pkl\":\n",
    "    df_test = df_test.reset_index(drop=True)\n",
    "    df_test.to_pickle(output_path)\n",
    "else:\n",
    "    df_test.to_csv(output_path, index=False)\n",
    "\n",
    "df_test\n",
    "\n",
    "# do the reordering of target columns outside here in jupyter notebook but inside parsing.py in the cli"
   ]
  }
 ],
 "metadata": {
  "kernelspec": {
   "display_name": "Python 3 (ipykernel)",
   "language": "python",
   "name": "python3"
  },
  "language_info": {
   "codemirror_mode": {
    "name": "ipython",
    "version": 3
   },
   "file_extension": ".py",
   "mimetype": "text/x-python",
   "name": "python",
   "nbconvert_exporter": "python",
   "pygments_lexer": "ipython3",
   "version": "3.11.9"
  }
 },
 "nbformat": 4,
 "nbformat_minor": 4
}

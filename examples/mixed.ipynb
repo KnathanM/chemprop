{
 "cells": [
  {
   "cell_type": "markdown",
   "metadata": {},
   "source": [
    "# Training"
   ]
  },
  {
   "cell_type": "markdown",
   "metadata": {},
   "source": [
    "# Import packages"
   ]
  },
  {
   "cell_type": "code",
   "execution_count": 83,
   "metadata": {},
   "outputs": [],
   "source": [
    "import pandas as pd\n",
    "from pathlib import Path\n",
    "import numpy as np\n",
    "\n",
    "import ast\n",
    "from lightning import pytorch as pl\n",
    "from lightning.pytorch.callbacks import ModelCheckpoint\n",
    "import torch\n",
    "\n",
    "from chemprop import data, featurizers, models, nn\n",
    "from chemprop.models import load_mixed_model\n",
    "from chemprop.utils import make_mol"
   ]
  },
  {
   "cell_type": "markdown",
   "metadata": {},
   "source": [
    "# Change data inputs here"
   ]
  },
  {
   "cell_type": "code",
   "execution_count": 84,
   "metadata": {},
   "outputs": [],
   "source": [
    "chemprop_dir = Path.cwd().parent\n",
    "input_path = chemprop_dir / \"tests\" / \"data\" / \"mixed_regression_input.csv\" # path to your data .csv file\n",
    "num_workers = 0 # number of workers for dataloader. 0 means using main process for data loading\n",
    "smiles_column = 'smiles' # name of the column containing SMILES strings\n",
    "target_columns = ['molecule', 'atom'] # list of names of the columns containing targets"
   ]
  },
  {
   "cell_type": "code",
   "execution_count": 85,
   "metadata": {},
   "outputs": [
    {
     "data": {
      "text/html": [
       "<div>\n",
       "<style scoped>\n",
       "    .dataframe tbody tr th:only-of-type {\n",
       "        vertical-align: middle;\n",
       "    }\n",
       "\n",
       "    .dataframe tbody tr th {\n",
       "        vertical-align: top;\n",
       "    }\n",
       "\n",
       "    .dataframe thead th {\n",
       "        text-align: right;\n",
       "    }\n",
       "</style>\n",
       "<table border=\"1\" class=\"dataframe\">\n",
       "  <thead>\n",
       "    <tr style=\"text-align: right;\">\n",
       "      <th></th>\n",
       "      <th>smiles</th>\n",
       "      <th>molecule</th>\n",
       "      <th>atom</th>\n",
       "    </tr>\n",
       "  </thead>\n",
       "  <tbody>\n",
       "    <tr>\n",
       "      <th>0</th>\n",
       "      <td>CC</td>\n",
       "      <td>1.0</td>\n",
       "      <td>[1,2]</td>\n",
       "    </tr>\n",
       "    <tr>\n",
       "      <th>1</th>\n",
       "      <td>CCC</td>\n",
       "      <td>2.0</td>\n",
       "      <td>[1,2,3]</td>\n",
       "    </tr>\n",
       "    <tr>\n",
       "      <th>2</th>\n",
       "      <td>CCCO</td>\n",
       "      <td>3.0</td>\n",
       "      <td>[1,2,3,5]</td>\n",
       "    </tr>\n",
       "    <tr>\n",
       "      <th>3</th>\n",
       "      <td>CCOO</td>\n",
       "      <td>4.0</td>\n",
       "      <td>[1,2,3,4]</td>\n",
       "    </tr>\n",
       "    <tr>\n",
       "      <th>4</th>\n",
       "      <td>COO</td>\n",
       "      <td>5.0</td>\n",
       "      <td>[1,3,5]</td>\n",
       "    </tr>\n",
       "    <tr>\n",
       "      <th>5</th>\n",
       "      <td>CCOOO</td>\n",
       "      <td>6.0</td>\n",
       "      <td>[1,7,3,4,5]</td>\n",
       "    </tr>\n",
       "    <tr>\n",
       "      <th>6</th>\n",
       "      <td>COOO</td>\n",
       "      <td>7.0</td>\n",
       "      <td>[2,5,3,2]</td>\n",
       "    </tr>\n",
       "    <tr>\n",
       "      <th>7</th>\n",
       "      <td>CO</td>\n",
       "      <td>8.0</td>\n",
       "      <td>[1,3]</td>\n",
       "    </tr>\n",
       "    <tr>\n",
       "      <th>8</th>\n",
       "      <td>CCO</td>\n",
       "      <td>9.0</td>\n",
       "      <td>[1,3,5]</td>\n",
       "    </tr>\n",
       "    <tr>\n",
       "      <th>9</th>\n",
       "      <td>OO</td>\n",
       "      <td>10.0</td>\n",
       "      <td>[5,7]</td>\n",
       "    </tr>\n",
       "  </tbody>\n",
       "</table>\n",
       "</div>"
      ],
      "text/plain": [
       "  smiles  molecule         atom\n",
       "0     CC       1.0        [1,2]\n",
       "1    CCC       2.0      [1,2,3]\n",
       "2   CCCO       3.0    [1,2,3,5]\n",
       "3   CCOO       4.0    [1,2,3,4]\n",
       "4    COO       5.0      [1,3,5]\n",
       "5  CCOOO       6.0  [1,7,3,4,5]\n",
       "6   COOO       7.0    [2,5,3,2]\n",
       "7     CO       8.0        [1,3]\n",
       "8    CCO       9.0      [1,3,5]\n",
       "9     OO      10.0        [5,7]"
      ]
     },
     "execution_count": 85,
     "metadata": {},
     "output_type": "execute_result"
    }
   ],
   "source": [
    "df_input = pd.read_csv(input_path)\n",
    "df_input"
   ]
  },
  {
   "cell_type": "markdown",
   "metadata": {},
   "source": [
    "## Get SMILES and targets"
   ]
  },
  {
   "cell_type": "code",
   "execution_count": 86,
   "metadata": {},
   "outputs": [],
   "source": [
    "smis = df_input.loc[:, smiles_column].values\n",
    "ys = df_input.loc[:, target_columns]"
   ]
  },
  {
   "cell_type": "code",
   "execution_count": 87,
   "metadata": {},
   "outputs": [
    {
     "data": {
      "text/plain": [
       "array(['CC', 'CCC'], dtype=object)"
      ]
     },
     "execution_count": 87,
     "metadata": {},
     "output_type": "execute_result"
    }
   ],
   "source": [
    "smis[:2] # show first 2 SMILES strings"
   ]
  },
  {
   "cell_type": "code",
   "execution_count": 88,
   "metadata": {},
   "outputs": [
    {
     "data": {
      "text/html": [
       "<div>\n",
       "<style scoped>\n",
       "    .dataframe tbody tr th:only-of-type {\n",
       "        vertical-align: middle;\n",
       "    }\n",
       "\n",
       "    .dataframe tbody tr th {\n",
       "        vertical-align: top;\n",
       "    }\n",
       "\n",
       "    .dataframe thead th {\n",
       "        text-align: right;\n",
       "    }\n",
       "</style>\n",
       "<table border=\"1\" class=\"dataframe\">\n",
       "  <thead>\n",
       "    <tr style=\"text-align: right;\">\n",
       "      <th></th>\n",
       "      <th>molecule</th>\n",
       "      <th>atom</th>\n",
       "    </tr>\n",
       "  </thead>\n",
       "  <tbody>\n",
       "    <tr>\n",
       "      <th>0</th>\n",
       "      <td>1.0</td>\n",
       "      <td>[1,2]</td>\n",
       "    </tr>\n",
       "    <tr>\n",
       "      <th>1</th>\n",
       "      <td>2.0</td>\n",
       "      <td>[1,2,3]</td>\n",
       "    </tr>\n",
       "    <tr>\n",
       "      <th>2</th>\n",
       "      <td>3.0</td>\n",
       "      <td>[1,2,3,5]</td>\n",
       "    </tr>\n",
       "    <tr>\n",
       "      <th>3</th>\n",
       "      <td>4.0</td>\n",
       "      <td>[1,2,3,4]</td>\n",
       "    </tr>\n",
       "    <tr>\n",
       "      <th>4</th>\n",
       "      <td>5.0</td>\n",
       "      <td>[1,3,5]</td>\n",
       "    </tr>\n",
       "  </tbody>\n",
       "</table>\n",
       "</div>"
      ],
      "text/plain": [
       "   molecule       atom\n",
       "0       1.0      [1,2]\n",
       "1       2.0    [1,2,3]\n",
       "2       3.0  [1,2,3,5]\n",
       "3       4.0  [1,2,3,4]\n",
       "4       5.0    [1,3,5]"
      ]
     },
     "execution_count": 88,
     "metadata": {},
     "output_type": "execute_result"
    }
   ],
   "source": [
    "ys[:5] # show first 5 molecule targets"
   ]
  },
  {
   "cell_type": "code",
   "execution_count": 89,
   "metadata": {},
   "outputs": [],
   "source": [
    "flag = [] # mark which columns belong to which of (mol, atom, bond)\n",
    "mol_Y, atom_Y, bond_Y = [], [], [] # target values for each type\n",
    "for column in target_columns:\n",
    "    index = 0\n",
    "    column_type = df_input.iloc[index][column]\n",
    "    if isinstance(column_type, float):\n",
    "        for molecule in range(len(df_input)):\n",
    "            mol_Y.append([df_input.iloc[molecule][column]])\n",
    "        flag.append(\"mol\")\n",
    "    else:\n",
    "        column_mol = make_mol(df_input.iloc[index][smiles_column], False, False)\n",
    "        column_type = ast.literal_eval(column_type)\n",
    "        while index < len(df_input) and column_mol.GetNumAtoms() == column_mol.GetNumBonds():\n",
    "            index += 1\n",
    "            column_mol = make_mol(df_input.iloc[index][smiles_column], False, False)\n",
    "        column_type = ast.literal_eval(df_input.iloc[index][column])\n",
    "        flag.append(\"atom\") if len(column_type) == column_mol.GetNumAtoms() else flag.append(\"bond\")"
   ]
  },
  {
   "cell_type": "code",
   "execution_count": 90,
   "metadata": {},
   "outputs": [],
   "source": [
    "for molecule in range(len(df_input)):\n",
    "    atom_list_props, bond_list_props = [], [] # list containing all target values, which we need to hstack for atom_Y and bond_Y\n",
    "    for prop in range(len(target_columns)):\n",
    "        if flag[prop] == \"mol\":\n",
    "            continue\n",
    "        np_prop = np.array(ast.literal_eval(df_input.iloc[molecule][target_columns[prop]]))\n",
    "        np_prop = np.expand_dims(np_prop, axis=1)\n",
    "        atom_list_props.append(np_prop) if flag[prop] == \"atom\" else bond_list_props.append(np_prop)\n",
    "    if len(atom_list_props) > 0:\n",
    "        atom_Y.append(np.hstack(atom_list_props))\n",
    "    else:\n",
    "        atom_Y = df_input[[]]\n",
    "        atom_Y = atom_Y.to_numpy()\n",
    "    if len(bond_list_props) > 0:\n",
    "        bond_Y.append(np.hstack(bond_list_props))\n",
    "    else:\n",
    "        bond_Y = df_input[[]]\n",
    "        bond_Y = bond_Y.to_numpy()"
   ]
  },
  {
   "cell_type": "markdown",
   "metadata": {},
   "source": [
    "## Get molecule datapoints"
   ]
  },
  {
   "cell_type": "code",
   "execution_count": 91,
   "metadata": {},
   "outputs": [],
   "source": [
    "mol_data = []\n",
    "for smi, y in zip(smis, mol_Y):\n",
    "    mol_data.append(data.MoleculeDatapoint.from_smi(smi, y, keep_h=True))\n",
    "\n",
    "atom_data = []\n",
    "for smi, y in zip(smis, atom_Y):\n",
    "    atom_data.append(data.MoleculeDatapoint.from_smi(smi, y, keep_h=True))\n",
    "\n",
    "bond_data = []\n",
    "for smi, y in zip(smis, bond_Y):\n",
    "    bond_data.append(data.MoleculeDatapoint.from_smi(smi, y, keep_h=True))"
   ]
  },
  {
   "cell_type": "code",
   "execution_count": 92,
   "metadata": {},
   "outputs": [],
   "source": [
    "all_data = []\n",
    "all_data.append(mol_data)\n",
    "all_data.append(atom_data)\n",
    "all_data.append(bond_data)"
   ]
  },
  {
   "cell_type": "markdown",
   "metadata": {},
   "source": [
    "## Perform data splitting for training, validation, and testing"
   ]
  },
  {
   "cell_type": "code",
   "execution_count": 93,
   "metadata": {},
   "outputs": [
    {
     "data": {
      "text/plain": [
       "['SCAFFOLD_BALANCED',\n",
       " 'RANDOM_WITH_REPEATED_SMILES',\n",
       " 'RANDOM',\n",
       " 'KENNARD_STONE',\n",
       " 'KMEANS']"
      ]
     },
     "execution_count": 93,
     "metadata": {},
     "output_type": "execute_result"
    }
   ],
   "source": [
    "# available split types\n",
    "list(data.SplitType.keys())"
   ]
  },
  {
   "cell_type": "code",
   "execution_count": 94,
   "metadata": {},
   "outputs": [],
   "source": [
    "mol = [d.mol for d in all_data[0]]\n",
    "\n",
    "train_indices, val_indices, test_indices = data.make_split_indices(mol, \"random\", (0.6, 0.2, 0.2))\n",
    "train_data, val_data, test_data = data.split_data_by_indices(\n",
    "    all_data, train_indices, val_indices, test_indices\n",
    ")"
   ]
  },
  {
   "cell_type": "markdown",
   "metadata": {},
   "source": [
    "## Get All Datasets"
   ]
  },
  {
   "cell_type": "code",
   "execution_count": 95,
   "metadata": {},
   "outputs": [
    {
     "name": "stderr",
     "output_type": "stream",
     "text": [
      "/var/folders/hx/9k64y_d101zg5t41l44wfs_w0000gn/T/ipykernel_38858/1057028705.py:6: DeprecationWarning: The truth value of an empty array is ambiguous. Returning False, but in future this will result in an error. Use `array.size > 0` to check that an array is not empty.\n",
      "  train_dsets.append(data.BondDataset(train_data[0][2], featurizer)) if bond_Y else train_dsets.append(data.MockDataset())\n"
     ]
    }
   ],
   "source": [
    "featurizer = featurizers.SimpleMoleculeMolGraphFeaturizer()\n",
    "\n",
    "train_dsets = []\n",
    "train_dsets.append(data.MoleculeDataset(train_data[0][0], featurizer)) if mol_Y else train_dsets.append(data.MockDataset())\n",
    "train_dsets.append(data.AtomDataset(train_data[0][1], featurizer)) if atom_Y else train_dsets.append(data.MockDataset())\n",
    "train_dsets.append(data.BondDataset(train_data[0][2], featurizer)) if bond_Y else train_dsets.append(data.MockDataset())\n",
    "\n",
    "mol_scaler = train_dsets[0].normalize_targets()\n",
    "atom_scaler = train_dsets[1].normalize_targets()\n",
    "bond_scaler = train_dsets[2].normalize_targets()\n",
    "train_dset = data.MolAtomBondDataset(train_dsets[0], train_dsets[1], train_dsets[2])"
   ]
  },
  {
   "cell_type": "code",
   "execution_count": 96,
   "metadata": {},
   "outputs": [
    {
     "name": "stderr",
     "output_type": "stream",
     "text": [
      "/var/folders/hx/9k64y_d101zg5t41l44wfs_w0000gn/T/ipykernel_38858/3338986635.py:4: DeprecationWarning: The truth value of an empty array is ambiguous. Returning False, but in future this will result in an error. Use `array.size > 0` to check that an array is not empty.\n",
      "  val_dsets.append(data.BondDataset(val_data[0][2], featurizer)) if bond_Y else val_dsets.append(data.MockDataset())\n"
     ]
    }
   ],
   "source": [
    "val_dsets = []\n",
    "val_dsets.append(data.MoleculeDataset(val_data[0][0], featurizer)) if mol_Y else val_dsets.append(data.MockDataset())\n",
    "val_dsets.append(data.AtomDataset(val_data[0][1], featurizer)) if atom_Y else val_dsets.append(data.MockDataset())\n",
    "val_dsets.append(data.BondDataset(val_data[0][2], featurizer)) if bond_Y else val_dsets.append(data.MockDataset())\n",
    "val_dsets[0].normalize_targets(mol_scaler)\n",
    "val_dsets[1].normalize_targets(atom_scaler)\n",
    "val_dsets[2].normalize_targets(bond_scaler)\n",
    "val_dset = data.MolAtomBondDataset(val_dsets[0], val_dsets[1], val_dsets[2])"
   ]
  },
  {
   "cell_type": "code",
   "execution_count": 97,
   "metadata": {},
   "outputs": [
    {
     "name": "stderr",
     "output_type": "stream",
     "text": [
      "/var/folders/hx/9k64y_d101zg5t41l44wfs_w0000gn/T/ipykernel_38858/3706167011.py:4: DeprecationWarning: The truth value of an empty array is ambiguous. Returning False, but in future this will result in an error. Use `array.size > 0` to check that an array is not empty.\n",
      "  test_dsets.append(data.BondDataset(test_data[0][2], featurizer)) if bond_Y else test_dsets.append(data.MockDataset())\n"
     ]
    }
   ],
   "source": [
    "test_dsets = []\n",
    "test_dsets.append(data.MoleculeDataset(test_data[0][0], featurizer)) if mol_Y else test_dsets.append(data.MockDataset())\n",
    "test_dsets.append(data.AtomDataset(test_data[0][1], featurizer)) if atom_Y else test_dsets.append(data.MockDataset())\n",
    "test_dsets.append(data.BondDataset(test_data[0][2], featurizer)) if bond_Y else test_dsets.append(data.MockDataset())\n",
    "test_dset = data.MolAtomBondDataset(test_dsets[0], test_dsets[1], test_dsets[2])"
   ]
  },
  {
   "cell_type": "markdown",
   "metadata": {},
   "source": [
    "# Get Atom/Bond Slices"
   ]
  },
  {
   "cell_type": "code",
   "execution_count": 98,
   "metadata": {},
   "outputs": [
    {
     "name": "stderr",
     "output_type": "stream",
     "text": [
      "/var/folders/hx/9k64y_d101zg5t41l44wfs_w0000gn/T/ipykernel_38858/1584694362.py:5: DeprecationWarning: The truth value of an empty array is ambiguous. Returning False, but in future this will result in an error. Use `array.size > 0` to check that an array is not empty.\n",
      "  all_dsets.append(data.BondDataset(all_data[2], featurizer)) if bond_Y else all_dsets.append(data.MockDataset())\n"
     ]
    }
   ],
   "source": [
    "all_dsets = []\n",
    "all_dsets.append(data.MoleculeDataset(all_data[0], featurizer)) if mol_Y else all_dsets.append(data.MockDataset())\n",
    "all_dsets.append(data.AtomDataset(all_data[1], featurizer)) if atom_Y else all_dsets.append(data.MockDataset())\n",
    "atom_slices = all_dsets[1]._slices\n",
    "all_dsets.append(data.BondDataset(all_data[2], featurizer)) if bond_Y else all_dsets.append(data.MockDataset())\n",
    "bond_slices = all_dsets[2]._slices\n",
    "all_dset = data.MolAtomBondDataset(all_dsets[0], all_dsets[1], all_dsets[2])"
   ]
  },
  {
   "cell_type": "markdown",
   "metadata": {},
   "source": [
    "## Get DataLoader"
   ]
  },
  {
   "cell_type": "code",
   "execution_count": 99,
   "metadata": {},
   "outputs": [],
   "source": [
    "train_loader = data.build_dataloader(train_dset, num_workers=num_workers, shuffle=False)\n",
    "val_loader = data.build_dataloader(val_dset, num_workers=num_workers, shuffle=False)\n",
    "test_loader = data.build_dataloader(test_dset, num_workers=num_workers, shuffle=False)\n",
    "all_loader = data.build_dataloader(all_dset, num_workers=num_workers, shuffle=False)"
   ]
  },
  {
   "cell_type": "markdown",
   "metadata": {},
   "source": [
    "# Change Message-Passing Neural Network (MPNN) inputs here"
   ]
  },
  {
   "cell_type": "markdown",
   "metadata": {},
   "source": [
    "## Message Passing\n",
    "A `Message passing` constructs molecular graphs using message passing to learn node-level hidden representations.\n",
    "\n",
    "Options are `mp = nn.BondMessagePassing()` or `mp = nn.AtomMessagePassing()`"
   ]
  },
  {
   "cell_type": "code",
   "execution_count": 100,
   "metadata": {},
   "outputs": [
    {
     "data": {
      "text/plain": [
       "MixedBondMessagePassing(\n",
       "  (W_i): Linear(in_features=86, out_features=300, bias=False)\n",
       "  (W_h): Linear(in_features=300, out_features=300, bias=False)\n",
       "  (W_o): Linear(in_features=372, out_features=300, bias=True)\n",
       "  (W_o_b): Linear(in_features=314, out_features=300, bias=True)\n",
       "  (dropout): Dropout(p=0.0, inplace=False)\n",
       "  (tau): ReLU()\n",
       "  (V_d_transform): Identity()\n",
       "  (E_d_transform): Identity()\n",
       "  (graph_transform): Identity()\n",
       ")"
      ]
     },
     "execution_count": 100,
     "metadata": {},
     "output_type": "execute_result"
    }
   ],
   "source": [
    "mp = nn.MixedBondMessagePassing() #include why aggregation isn't used\n",
    "mp"
   ]
  },
  {
   "cell_type": "markdown",
   "metadata": {},
   "source": [
    "## Feed-Forward Network (FFN)\n",
    "\n",
    "A `FFN` takes the aggregated representations and make target predictions.\n",
    "\n",
    "Available options can be found in `nn.PredictorRegistry`.\n",
    "\n",
    "For regression:\n",
    "- `ffn = nn.RegressionFFN()`\n",
    "- `ffn = nn.MveFFN()`\n",
    "- `ffn = nn.EvidentialFFN()`\n",
    "\n",
    "For classification:\n",
    "- `ffn = nn.BinaryClassificationFFN()`\n",
    "- `ffn = nn.BinaryDirichletFFN()`\n",
    "- `ffn = nn.MulticlassClassificationFFN()`\n",
    "- `ffn = nn.MulticlassDirichletFFN()`\n",
    "\n",
    "For spectral:\n",
    "- `ffn = nn.SpectralFFN()` # will be available in future version"
   ]
  },
  {
   "cell_type": "code",
   "execution_count": 101,
   "metadata": {},
   "outputs": [
    {
     "name": "stdout",
     "output_type": "stream",
     "text": [
      "ClassRegistry {\n",
      "    'regression': <class 'chemprop.nn.predictors.RegressionFFN'>,\n",
      "    'regression-mve': <class 'chemprop.nn.predictors.MveFFN'>,\n",
      "    'regression-evidential': <class 'chemprop.nn.predictors.EvidentialFFN'>,\n",
      "    'regression-quantile': <class 'chemprop.nn.predictors.QuantileFFN'>,\n",
      "    'classification': <class 'chemprop.nn.predictors.BinaryClassificationFFN'>,\n",
      "    'classification-dirichlet': <class 'chemprop.nn.predictors.BinaryDirichletFFN'>,\n",
      "    'multiclass': <class 'chemprop.nn.predictors.MulticlassClassificationFFN'>,\n",
      "    'multiclass-dirichlet': <class 'chemprop.nn.predictors.MulticlassDirichletFFN'>,\n",
      "    'spectral': <class 'chemprop.nn.predictors.SpectralFFN'>\n",
      "}\n"
     ]
    }
   ],
   "source": [
    "print(nn.PredictorRegistry)"
   ]
  },
  {
   "cell_type": "code",
   "execution_count": 102,
   "metadata": {},
   "outputs": [],
   "source": [
    "mol_output_transform = nn.UnscaleTransform.from_standard_scaler(mol_scaler)\n",
    "atom_output_transform = nn.UnscaleTransform.from_standard_scaler(atom_scaler)\n",
    "bond_output_transform = nn.UnscaleTransform.from_standard_scaler(bond_scaler)"
   ]
  },
  {
   "cell_type": "code",
   "execution_count": 103,
   "metadata": {},
   "outputs": [],
   "source": [
    "mol_ffn = nn.RegressionFFN(output_transform=mol_output_transform, n_tasks=1) # one ffn for each type\n",
    "atom_ffn = nn.RegressionFFN(output_transform=atom_output_transform, n_tasks=1)\n",
    "bond_ffn = nn.RegressionFFN(output_transform=bond_output_transform, input_dim=600, n_tasks=1)"
   ]
  },
  {
   "cell_type": "markdown",
   "metadata": {},
   "source": [
    "## Batch Norm\n",
    "A `Batch Norm` normalizes the outputs of the aggregation by re-centering and re-scaling.\n",
    "\n",
    "Whether to use batch norm"
   ]
  },
  {
   "cell_type": "code",
   "execution_count": 104,
   "metadata": {},
   "outputs": [],
   "source": [
    "batch_norm = True"
   ]
  },
  {
   "cell_type": "markdown",
   "metadata": {},
   "source": [
    "## Metrics\n",
    "`Metrics` are the ways to evaluate the performance of model predictions.\n",
    "\n",
    "Available options can be found in `metrics.MetricRegistry`, including"
   ]
  },
  {
   "cell_type": "code",
   "execution_count": 105,
   "metadata": {},
   "outputs": [
    {
     "name": "stdout",
     "output_type": "stream",
     "text": [
      "ClassRegistry {\n",
      "    'mse': <class 'chemprop.nn.metrics.MSE'>,\n",
      "    'mae': <class 'chemprop.nn.metrics.MAE'>,\n",
      "    'rmse': <class 'chemprop.nn.metrics.RMSE'>,\n",
      "    'bounded-mse': <class 'chemprop.nn.metrics.BoundedMSE'>,\n",
      "    'bounded-mae': <class 'chemprop.nn.metrics.BoundedMAE'>,\n",
      "    'bounded-rmse': <class 'chemprop.nn.metrics.BoundedRMSE'>,\n",
      "    'r2': <class 'chemprop.nn.metrics.R2Score'>,\n",
      "    'binary-mcc': <class 'chemprop.nn.metrics.BinaryMCCMetric'>,\n",
      "    'multiclass-mcc': <class 'chemprop.nn.metrics.MulticlassMCCMetric'>,\n",
      "    'roc': <class 'chemprop.nn.metrics.BinaryAUROC'>,\n",
      "    'prc': <class 'chemprop.nn.metrics.BinaryAUPRC'>,\n",
      "    'accuracy': <class 'chemprop.nn.metrics.BinaryAccuracy'>,\n",
      "    'f1': <class 'chemprop.nn.metrics.BinaryF1Score'>\n",
      "}\n"
     ]
    }
   ],
   "source": [
    "print(nn.metrics.MetricRegistry)"
   ]
  },
  {
   "cell_type": "code",
   "execution_count": 106,
   "metadata": {},
   "outputs": [],
   "source": [
    "metric_list = [nn.metrics.RMSE(), nn.metrics.MAE()] # Only the first metric is used for training and early stopping"
   ]
  },
  {
   "cell_type": "markdown",
   "metadata": {},
   "source": [
    "## Constructs MolAtomBondMPNN"
   ]
  },
  {
   "cell_type": "code",
   "execution_count": 107,
   "metadata": {},
   "outputs": [
    {
     "data": {
      "text/plain": [
       "MolAtomBondMPNN(\n",
       "  (message_passing): MixedBondMessagePassing(\n",
       "    (W_i): Linear(in_features=86, out_features=300, bias=False)\n",
       "    (W_h): Linear(in_features=300, out_features=300, bias=False)\n",
       "    (W_o): Linear(in_features=372, out_features=300, bias=True)\n",
       "    (W_o_b): Linear(in_features=314, out_features=300, bias=True)\n",
       "    (dropout): Dropout(p=0.0, inplace=False)\n",
       "    (tau): ReLU()\n",
       "    (V_d_transform): Identity()\n",
       "    (E_d_transform): Identity()\n",
       "    (graph_transform): Identity()\n",
       "  )\n",
       "  (agg): MeanAggregation()\n",
       "  (bn): BatchNorm1d(300, eps=1e-05, momentum=0.1, affine=True, track_running_stats=True)\n",
       "  (predictors): ModuleList(\n",
       "    (0-1): 2 x RegressionFFN(\n",
       "      (ffn): MLP(\n",
       "        (0): Sequential(\n",
       "          (0): Linear(in_features=300, out_features=300, bias=True)\n",
       "        )\n",
       "        (1): Sequential(\n",
       "          (0): ReLU()\n",
       "          (1): Dropout(p=0.0, inplace=False)\n",
       "          (2): Linear(in_features=300, out_features=1, bias=True)\n",
       "        )\n",
       "      )\n",
       "      (criterion): MSE(task_weights=[[1.0]])\n",
       "      (output_transform): UnscaleTransform()\n",
       "    )\n",
       "    (2): RegressionFFN(\n",
       "      (ffn): MLP(\n",
       "        (0): Sequential(\n",
       "          (0): Linear(in_features=600, out_features=300, bias=True)\n",
       "        )\n",
       "        (1): Sequential(\n",
       "          (0): ReLU()\n",
       "          (1): Dropout(p=0.0, inplace=False)\n",
       "          (2): Linear(in_features=300, out_features=1, bias=True)\n",
       "        )\n",
       "      )\n",
       "      (criterion): MSE(task_weights=[[1.0]])\n",
       "      (output_transform): UnscaleTransform()\n",
       "    )\n",
       "  )\n",
       "  (X_d_transform): Identity()\n",
       "  (metrics): ModuleList(\n",
       "    (0-2): 3 x ModuleList(\n",
       "      (0): RMSE(task_weights=[[1.0]])\n",
       "      (1): MAE(task_weights=[[1.0]])\n",
       "      (2): MSE(task_weights=[[1.0]])\n",
       "    )\n",
       "  )\n",
       ")"
      ]
     },
     "execution_count": 107,
     "metadata": {},
     "output_type": "execute_result"
    }
   ],
   "source": [
    "agg = nn.MeanAggregation()\n",
    "mol_atom_bond_mpnn = models.MolAtomBondMPNN(mp, agg, mol_ffn, atom_ffn, bond_ffn, batch_norm, metric_list)\n",
    "\n",
    "mol_atom_bond_mpnn"
   ]
  },
  {
   "cell_type": "markdown",
   "metadata": {},
   "source": [
    "# Set up trainer"
   ]
  },
  {
   "cell_type": "code",
   "execution_count": 108,
   "metadata": {},
   "outputs": [
    {
     "name": "stderr",
     "output_type": "stream",
     "text": [
      "GPU available: True (mps), used: False\n",
      "TPU available: False, using: 0 TPU cores\n",
      "HPU available: False, using: 0 HPUs\n",
      "/opt/anaconda3/envs/chemprop/lib/python3.11/site-packages/lightning/pytorch/trainer/setup.py:177: GPU available but not used. You can set it by doing `Trainer(accelerator='gpu')`.\n"
     ]
    }
   ],
   "source": [
    "# Configure model checkpointing\n",
    "checkpointing = ModelCheckpoint(\n",
    "    \"checkpoints\",  # Directory where model checkpoints will be saved\n",
    "    \"best-{epoch}-{val_loss:.2f}\",  # Filename format for checkpoints, including epoch and validation loss\n",
    "    \"val_loss\",  # Metric used to select the best checkpoint (based on validation loss)\n",
    "    mode=\"min\",  # Save the checkpoint with the lowest validation loss (minimization objective)\n",
    "    save_last=True,  # Always save the most recent checkpoint, even if it's not the best\n",
    ")\n",
    "\n",
    "trainer = pl.Trainer(\n",
    "    logger=False,\n",
    "    enable_checkpointing=True, # Use `True` if you want to save model checkpoints. The checkpoints will be saved in the `checkpoints` folder.\n",
    "    enable_progress_bar=True,\n",
    "    accelerator=\"cpu\",\n",
    "    devices=1,\n",
    "    max_epochs=20, # number of epochs to train for\n",
    "    callbacks=[checkpointing],\n",
    ")"
   ]
  },
  {
   "cell_type": "markdown",
   "metadata": {},
   "source": [
    "# Start training"
   ]
  },
  {
   "cell_type": "code",
   "execution_count": 109,
   "metadata": {},
   "outputs": [
    {
     "name": "stderr",
     "output_type": "stream",
     "text": [
      "/opt/anaconda3/envs/chemprop/lib/python3.11/site-packages/lightning/pytorch/callbacks/model_checkpoint.py:654: Checkpoint directory /Users/brianli/Documents/chemprop/examples/checkpoints exists and is not empty.\n",
      "Loading `train_dataloader` to estimate number of stepping batches.\n",
      "/opt/anaconda3/envs/chemprop/lib/python3.11/site-packages/lightning/pytorch/trainer/connectors/data_connector.py:424: The 'train_dataloader' does not have many workers which may be a bottleneck. Consider increasing the value of the `num_workers` argument` to `num_workers=7` in the `DataLoader` to improve performance.\n",
      "\n",
      "  | Name            | Type                    | Params | Mode \n",
      "--------------------------------------------------------------------\n",
      "0 | message_passing | MixedBondMessagePassing | 322 K  | train\n",
      "1 | agg             | MeanAggregation         | 0      | train\n",
      "2 | bn              | BatchNorm1d             | 600    | train\n",
      "3 | predictors      | ModuleList              | 361 K  | train\n",
      "4 | X_d_transform   | Identity                | 0      | train\n",
      "5 | metrics         | ModuleList              | 0      | train\n",
      "--------------------------------------------------------------------\n",
      "684 K     Trainable params\n",
      "0         Non-trainable params\n",
      "684 K     Total params\n",
      "2.738     Total estimated model params size (MB)\n",
      "53        Modules in train mode\n",
      "0         Modules in eval mode\n"
     ]
    },
    {
     "name": "stdout",
     "output_type": "stream",
     "text": [
      "                                                                                "
     ]
    },
    {
     "name": "stderr",
     "output_type": "stream",
     "text": [
      "/opt/anaconda3/envs/chemprop/lib/python3.11/site-packages/lightning/pytorch/trainer/connectors/data_connector.py:424: The 'val_dataloader' does not have many workers which may be a bottleneck. Consider increasing the value of the `num_workers` argument` to `num_workers=7` in the `DataLoader` to improve performance.\n"
     ]
    },
    {
     "name": "stdout",
     "output_type": "stream",
     "text": [
      "Epoch 0: 100%|███████████████████████████████████| 1/1 [00:00<00:00, 111.72it/s]\n",
      "Validation: |                                             | 0/? [00:00<?, ?it/s]\u001b[A\n",
      "Validation:   0%|                                         | 0/1 [00:00<?, ?it/s]\u001b[A\n",
      "Validation DataLoader 0:   0%|                            | 0/1 [00:00<?, ?it/s]\u001b[A\n",
      "Validation DataLoader 0: 100%|███████████████████| 1/1 [00:00<00:00, 140.16it/s]\u001b[A\n",
      "Epoch 1: 100%|███████████████████| 1/1 [00:00<00:00, 117.62it/s, val_loss=3.480]\u001b[A\n",
      "Validation: |                                             | 0/? [00:00<?, ?it/s]\u001b[A\n",
      "Validation:   0%|                                         | 0/1 [00:00<?, ?it/s]\u001b[A\n",
      "Validation DataLoader 0:   0%|                            | 0/1 [00:00<?, ?it/s]\u001b[A\n",
      "Validation DataLoader 0: 100%|███████████████████| 1/1 [00:00<00:00, 172.18it/s]\u001b[A\n",
      "Epoch 2: 100%|███████████████████| 1/1 [00:00<00:00, 121.70it/s, val_loss=3.390]\u001b[A\n",
      "Validation: |                                             | 0/? [00:00<?, ?it/s]\u001b[A\n",
      "Validation:   0%|                                         | 0/1 [00:00<?, ?it/s]\u001b[A\n",
      "Validation DataLoader 0:   0%|                            | 0/1 [00:00<?, ?it/s]\u001b[A\n",
      "Validation DataLoader 0: 100%|███████████████████| 1/1 [00:00<00:00, 134.96it/s]\u001b[A\n",
      "Epoch 3: 100%|███████████████████| 1/1 [00:00<00:00, 119.97it/s, val_loss=3.250]\u001b[A\n",
      "Validation: |                                             | 0/? [00:00<?, ?it/s]\u001b[A\n",
      "Validation:   0%|                                         | 0/1 [00:00<?, ?it/s]\u001b[A\n",
      "Validation DataLoader 0:   0%|                            | 0/1 [00:00<?, ?it/s]\u001b[A\n",
      "Validation DataLoader 0: 100%|███████████████████| 1/1 [00:00<00:00, 152.28it/s]\u001b[A\n",
      "Epoch 4: 100%|███████████████████| 1/1 [00:00<00:00, 113.51it/s, val_loss=3.170]\u001b[A\n",
      "Validation: |                                             | 0/? [00:00<?, ?it/s]\u001b[A\n",
      "Validation:   0%|                                         | 0/1 [00:00<?, ?it/s]\u001b[A\n",
      "Validation DataLoader 0:   0%|                            | 0/1 [00:00<?, ?it/s]\u001b[A\n",
      "Validation DataLoader 0: 100%|███████████████████| 1/1 [00:00<00:00, 139.37it/s]\u001b[A\n",
      "Epoch 5: 100%|████████████████████| 1/1 [00:00<00:00, 97.52it/s, val_loss=3.140]\u001b[A\n",
      "Validation: |                                             | 0/? [00:00<?, ?it/s]\u001b[A\n",
      "Validation:   0%|                                         | 0/1 [00:00<?, ?it/s]\u001b[A\n",
      "Validation DataLoader 0:   0%|                            | 0/1 [00:00<?, ?it/s]\u001b[A\n",
      "Validation DataLoader 0: 100%|███████████████████| 1/1 [00:00<00:00, 126.31it/s]\u001b[A\n",
      "Epoch 6: 100%|███████████████████| 1/1 [00:00<00:00, 105.92it/s, val_loss=3.120]\u001b[A\n",
      "Validation: |                                             | 0/? [00:00<?, ?it/s]\u001b[A\n",
      "Validation:   0%|                                         | 0/1 [00:00<?, ?it/s]\u001b[A\n",
      "Validation DataLoader 0:   0%|                            | 0/1 [00:00<?, ?it/s]\u001b[A\n",
      "Validation DataLoader 0: 100%|███████████████████| 1/1 [00:00<00:00, 122.40it/s]\u001b[A\n",
      "Epoch 7: 100%|████████████████████| 1/1 [00:00<00:00, 99.41it/s, val_loss=3.090]\u001b[A\n",
      "Validation: |                                             | 0/? [00:00<?, ?it/s]\u001b[A\n",
      "Validation:   0%|                                         | 0/1 [00:00<?, ?it/s]\u001b[A\n",
      "Validation DataLoader 0:   0%|                            | 0/1 [00:00<?, ?it/s]\u001b[A\n",
      "Validation DataLoader 0: 100%|███████████████████| 1/1 [00:00<00:00, 156.30it/s]\u001b[A\n",
      "Epoch 8: 100%|███████████████████| 1/1 [00:00<00:00, 105.61it/s, val_loss=3.050]\u001b[A\n",
      "Validation: |                                             | 0/? [00:00<?, ?it/s]\u001b[A\n",
      "Validation:   0%|                                         | 0/1 [00:00<?, ?it/s]\u001b[A\n",
      "Validation DataLoader 0:   0%|                            | 0/1 [00:00<?, ?it/s]\u001b[A\n",
      "Validation DataLoader 0: 100%|███████████████████| 1/1 [00:00<00:00, 144.37it/s]\u001b[A\n",
      "Epoch 9: 100%|███████████████████| 1/1 [00:00<00:00, 121.08it/s, val_loss=2.980]\u001b[A\n",
      "Validation: |                                             | 0/? [00:00<?, ?it/s]\u001b[A\n",
      "Validation:   0%|                                         | 0/1 [00:00<?, ?it/s]\u001b[A\n",
      "Validation DataLoader 0:   0%|                            | 0/1 [00:00<?, ?it/s]\u001b[A\n",
      "Validation DataLoader 0: 100%|███████████████████| 1/1 [00:00<00:00, 150.28it/s]\u001b[A\n",
      "Epoch 10: 100%|██████████████████| 1/1 [00:00<00:00, 120.02it/s, val_loss=2.900]\u001b[A\n",
      "Validation: |                                             | 0/? [00:00<?, ?it/s]\u001b[A\n",
      "Validation:   0%|                                         | 0/1 [00:00<?, ?it/s]\u001b[A\n",
      "Validation DataLoader 0:   0%|                            | 0/1 [00:00<?, ?it/s]\u001b[A\n",
      "Validation DataLoader 0: 100%|███████████████████| 1/1 [00:00<00:00, 162.55it/s]\u001b[A\n",
      "Epoch 11: 100%|██████████████████| 1/1 [00:00<00:00, 119.67it/s, val_loss=2.820]\u001b[A\n",
      "Validation: |                                             | 0/? [00:00<?, ?it/s]\u001b[A\n",
      "Validation:   0%|                                         | 0/1 [00:00<?, ?it/s]\u001b[A\n",
      "Validation DataLoader 0:   0%|                            | 0/1 [00:00<?, ?it/s]\u001b[A\n",
      "Validation DataLoader 0: 100%|███████████████████| 1/1 [00:00<00:00, 154.73it/s]\u001b[A\n",
      "Epoch 12: 100%|██████████████████| 1/1 [00:00<00:00, 118.67it/s, val_loss=2.740]\u001b[A\n",
      "Validation: |                                             | 0/? [00:00<?, ?it/s]\u001b[A\n",
      "Validation:   0%|                                         | 0/1 [00:00<?, ?it/s]\u001b[A\n",
      "Validation DataLoader 0:   0%|                            | 0/1 [00:00<?, ?it/s]\u001b[A\n",
      "Validation DataLoader 0: 100%|███████████████████| 1/1 [00:00<00:00, 164.01it/s]\u001b[A\n",
      "Epoch 13: 100%|██████████████████| 1/1 [00:00<00:00, 111.11it/s, val_loss=2.660]\u001b[A\n",
      "Validation: |                                             | 0/? [00:00<?, ?it/s]\u001b[A\n",
      "Validation:   0%|                                         | 0/1 [00:00<?, ?it/s]\u001b[A\n",
      "Validation DataLoader 0:   0%|                            | 0/1 [00:00<?, ?it/s]\u001b[A\n",
      "Validation DataLoader 0: 100%|███████████████████| 1/1 [00:00<00:00, 156.96it/s]\u001b[A\n",
      "Epoch 14: 100%|██████████████████| 1/1 [00:00<00:00, 114.45it/s, val_loss=2.580]\u001b[A\n",
      "Validation: |                                             | 0/? [00:00<?, ?it/s]\u001b[A\n",
      "Validation:   0%|                                         | 0/1 [00:00<?, ?it/s]\u001b[A\n",
      "Validation DataLoader 0:   0%|                            | 0/1 [00:00<?, ?it/s]\u001b[A\n",
      "Validation DataLoader 0: 100%|███████████████████| 1/1 [00:00<00:00, 141.00it/s]\u001b[A\n",
      "Epoch 15: 100%|██████████████████| 1/1 [00:00<00:00, 110.91it/s, val_loss=2.510]\u001b[A\n",
      "Validation: |                                             | 0/? [00:00<?, ?it/s]\u001b[A\n",
      "Validation:   0%|                                         | 0/1 [00:00<?, ?it/s]\u001b[A\n",
      "Validation DataLoader 0:   0%|                            | 0/1 [00:00<?, ?it/s]\u001b[A\n",
      "Validation DataLoader 0: 100%|███████████████████| 1/1 [00:00<00:00, 153.91it/s]\u001b[A\n",
      "Epoch 16: 100%|██████████████████| 1/1 [00:00<00:00, 102.27it/s, val_loss=2.450]\u001b[A\n",
      "Validation: |                                             | 0/? [00:00<?, ?it/s]\u001b[A\n",
      "Validation:   0%|                                         | 0/1 [00:00<?, ?it/s]\u001b[A\n",
      "Validation DataLoader 0:   0%|                            | 0/1 [00:00<?, ?it/s]\u001b[A\n",
      "Validation DataLoader 0: 100%|███████████████████| 1/1 [00:00<00:00, 158.33it/s]\u001b[A\n",
      "Epoch 17: 100%|██████████████████| 1/1 [00:00<00:00, 108.31it/s, val_loss=2.380]\u001b[A\n",
      "Validation: |                                             | 0/? [00:00<?, ?it/s]\u001b[A\n",
      "Validation:   0%|                                         | 0/1 [00:00<?, ?it/s]\u001b[A\n",
      "Validation DataLoader 0:   0%|                            | 0/1 [00:00<?, ?it/s]\u001b[A\n",
      "Validation DataLoader 0: 100%|███████████████████| 1/1 [00:00<00:00, 151.54it/s]\u001b[A\n",
      "Epoch 18: 100%|███████████████████| 1/1 [00:00<00:00, 89.01it/s, val_loss=2.320]\u001b[A\n",
      "Validation: |                                             | 0/? [00:00<?, ?it/s]\u001b[A\n",
      "Validation:   0%|                                         | 0/1 [00:00<?, ?it/s]\u001b[A\n",
      "Validation DataLoader 0:   0%|                            | 0/1 [00:00<?, ?it/s]\u001b[A\n",
      "Validation DataLoader 0: 100%|███████████████████| 1/1 [00:00<00:00, 120.83it/s]\u001b[A\n",
      "Epoch 19: 100%|███████████████████| 1/1 [00:00<00:00, 95.43it/s, val_loss=2.250]\u001b[A\n",
      "Validation: |                                             | 0/? [00:00<?, ?it/s]\u001b[A\n",
      "Validation:   0%|                                         | 0/1 [00:00<?, ?it/s]\u001b[A\n",
      "Validation DataLoader 0:   0%|                            | 0/1 [00:00<?, ?it/s]\u001b[A\n",
      "Validation DataLoader 0: 100%|███████████████████| 1/1 [00:00<00:00, 125.64it/s]\u001b[A\n",
      "Epoch 19: 100%|███████████████████| 1/1 [00:00<00:00, 38.42it/s, val_loss=2.180]\u001b[A"
     ]
    },
    {
     "name": "stderr",
     "output_type": "stream",
     "text": [
      "`Trainer.fit` stopped: `max_epochs=20` reached.\n"
     ]
    },
    {
     "name": "stdout",
     "output_type": "stream",
     "text": [
      "Epoch 19: 100%|███████████████████| 1/1 [00:00<00:00, 25.85it/s, val_loss=2.180]\n"
     ]
    }
   ],
   "source": [
    "trainer.fit(mol_atom_bond_mpnn, train_loader, val_loader)"
   ]
  },
  {
   "cell_type": "markdown",
   "metadata": {},
   "source": [
    "# Test results"
   ]
  },
  {
   "cell_type": "code",
   "execution_count": 110,
   "metadata": {},
   "outputs": [
    {
     "name": "stderr",
     "output_type": "stream",
     "text": [
      "/opt/anaconda3/envs/chemprop/lib/python3.11/site-packages/lightning/pytorch/trainer/connectors/data_connector.py:424: The 'test_dataloader' does not have many workers which may be a bottleneck. Consider increasing the value of the `num_workers` argument` to `num_workers=7` in the `DataLoader` to improve performance.\n"
     ]
    },
    {
     "name": "stdout",
     "output_type": "stream",
     "text": [
      "Testing DataLoader 0: 100%|██████████████████████| 1/1 [00:00<00:00, 170.27it/s]\n"
     ]
    },
    {
     "data": {
      "text/html": [
       "<pre style=\"white-space:pre;overflow-x:auto;line-height:normal;font-family:Menlo,'DejaVu Sans Mono',consolas,'Courier New',monospace\">┏━━━━━━━━━━━━━━━━━━━━━━━━━━━┳━━━━━━━━━━━━━━━━━━━━━━━━━━━┓\n",
       "┃<span style=\"font-weight: bold\">        Test metric        </span>┃<span style=\"font-weight: bold\">       DataLoader 0        </span>┃\n",
       "┡━━━━━━━━━━━━━━━━━━━━━━━━━━━╇━━━━━━━━━━━━━━━━━━━━━━━━━━━┩\n",
       "│<span style=\"color: #008080; text-decoration-color: #008080\">     atom_mol_test/mae     </span>│<span style=\"color: #800080; text-decoration-color: #800080\">     1.538080096244812     </span>│\n",
       "│<span style=\"color: #008080; text-decoration-color: #008080\">    atom_mol_test/rmse     </span>│<span style=\"color: #800080; text-decoration-color: #800080\">     2.031416177749634     </span>│\n",
       "│<span style=\"color: #008080; text-decoration-color: #008080\">       mol_test/mae        </span>│<span style=\"color: #800080; text-decoration-color: #800080\">     1.538080096244812     </span>│\n",
       "│<span style=\"color: #008080; text-decoration-color: #008080\">       mol_test/rmse       </span>│<span style=\"color: #800080; text-decoration-color: #800080\">     2.031416177749634     </span>│\n",
       "└───────────────────────────┴───────────────────────────┘\n",
       "</pre>\n"
      ],
      "text/plain": [
       "┏━━━━━━━━━━━━━━━━━━━━━━━━━━━┳━━━━━━━━━━━━━━━━━━━━━━━━━━━┓\n",
       "┃\u001b[1m \u001b[0m\u001b[1m       Test metric       \u001b[0m\u001b[1m \u001b[0m┃\u001b[1m \u001b[0m\u001b[1m      DataLoader 0       \u001b[0m\u001b[1m \u001b[0m┃\n",
       "┡━━━━━━━━━━━━━━━━━━━━━━━━━━━╇━━━━━━━━━━━━━━━━━━━━━━━━━━━┩\n",
       "│\u001b[36m \u001b[0m\u001b[36m    atom_mol_test/mae    \u001b[0m\u001b[36m \u001b[0m│\u001b[35m \u001b[0m\u001b[35m    1.538080096244812    \u001b[0m\u001b[35m \u001b[0m│\n",
       "│\u001b[36m \u001b[0m\u001b[36m   atom_mol_test/rmse    \u001b[0m\u001b[36m \u001b[0m│\u001b[35m \u001b[0m\u001b[35m    2.031416177749634    \u001b[0m\u001b[35m \u001b[0m│\n",
       "│\u001b[36m \u001b[0m\u001b[36m      mol_test/mae       \u001b[0m\u001b[36m \u001b[0m│\u001b[35m \u001b[0m\u001b[35m    1.538080096244812    \u001b[0m\u001b[35m \u001b[0m│\n",
       "│\u001b[36m \u001b[0m\u001b[36m      mol_test/rmse      \u001b[0m\u001b[36m \u001b[0m│\u001b[35m \u001b[0m\u001b[35m    2.031416177749634    \u001b[0m\u001b[35m \u001b[0m│\n",
       "└───────────────────────────┴───────────────────────────┘\n"
      ]
     },
     "metadata": {},
     "output_type": "display_data"
    }
   ],
   "source": [
    "results = trainer.test(mol_atom_bond_mpnn, test_loader)"
   ]
  },
  {
   "cell_type": "markdown",
   "metadata": {},
   "source": [
    "# Predictions"
   ]
  },
  {
   "cell_type": "code",
   "execution_count": 111,
   "metadata": {},
   "outputs": [
    {
     "name": "stderr",
     "output_type": "stream",
     "text": [
      "GPU available: True (mps), used: False\n",
      "TPU available: False, using: 0 TPU cores\n",
      "HPU available: False, using: 0 HPUs\n"
     ]
    }
   ],
   "source": [
    "mol_individual_preds, atom_individual_preds, bond_individual_preds = [], [], []\n",
    "model = load_mixed_model(checkpointing.best_model_path)\n",
    "\n",
    "trainer = pl.Trainer(\n",
    "    logger=False,\n",
    "    enable_progress_bar=True,\n",
    "    accelerator=\"cpu\",\n",
    "    devices=1,\n",
    ")"
   ]
  },
  {
   "cell_type": "code",
   "execution_count": 112,
   "metadata": {},
   "outputs": [
    {
     "name": "stderr",
     "output_type": "stream",
     "text": [
      "/opt/anaconda3/envs/chemprop/lib/python3.11/site-packages/lightning/pytorch/trainer/connectors/data_connector.py:424: The 'predict_dataloader' does not have many workers which may be a bottleneck. Consider increasing the value of the `num_workers` argument` to `num_workers=7` in the `DataLoader` to improve performance.\n"
     ]
    },
    {
     "name": "stdout",
     "output_type": "stream",
     "text": [
      "Predicting DataLoader 0: 100%|███████████████████| 1/1 [00:00<00:00, 309.13it/s]\n"
     ]
    }
   ],
   "source": [
    "predss = trainer.predict(model, all_loader)"
   ]
  },
  {
   "cell_type": "code",
   "execution_count": 113,
   "metadata": {},
   "outputs": [],
   "source": [
    "mol_individual_preds.append(torch.concat([predss[0][0]], 0))\n",
    "atom_individual_preds.append(torch.concat([predss[0][1]], 0))\n",
    "bond_individual_preds.append(torch.concat([predss[0][2]], 0))\n",
    "\n",
    "mol_average_preds = torch.mean(torch.stack(mol_individual_preds).float(), dim=0)\n",
    "atom_average_preds = torch.mean(torch.stack(atom_individual_preds).float(), dim=0)\n",
    "bond_average_preds = torch.mean(torch.stack(bond_individual_preds).float(), dim=0)"
   ]
  },
  {
   "cell_type": "code",
   "execution_count": 114,
   "metadata": {},
   "outputs": [],
   "source": [
    "test_path = chemprop_dir / \"tests\" / \"data\" / \"mixed_regression_input.csv\"\n",
    "df_test = pd.read_csv(test_path, header=\"infer\", index_col=False)"
   ]
  },
  {
   "cell_type": "markdown",
   "metadata": {},
   "source": [
    "## Loaded Model"
   ]
  },
  {
   "cell_type": "code",
   "execution_count": 115,
   "metadata": {},
   "outputs": [
    {
     "data": {
      "text/plain": [
       "MolAtomBondMPNN(\n",
       "  (message_passing): MixedBondMessagePassing(\n",
       "    (W_i): Linear(in_features=86, out_features=300, bias=False)\n",
       "    (W_h): Linear(in_features=300, out_features=300, bias=False)\n",
       "    (W_o): Linear(in_features=372, out_features=300, bias=True)\n",
       "    (W_o_b): Linear(in_features=314, out_features=300, bias=True)\n",
       "    (dropout): Dropout(p=0.0, inplace=False)\n",
       "    (tau): ReLU()\n",
       "    (V_d_transform): Identity()\n",
       "    (E_d_transform): Identity()\n",
       "    (graph_transform): Identity()\n",
       "  )\n",
       "  (agg): MeanAggregation()\n",
       "  (bn): BatchNorm1d(300, eps=1e-05, momentum=0.1, affine=True, track_running_stats=True)\n",
       "  (predictors): ModuleList(\n",
       "    (0-1): 2 x RegressionFFN(\n",
       "      (ffn): MLP(\n",
       "        (0): Sequential(\n",
       "          (0): Linear(in_features=300, out_features=300, bias=True)\n",
       "        )\n",
       "        (1): Sequential(\n",
       "          (0): ReLU()\n",
       "          (1): Dropout(p=0.0, inplace=False)\n",
       "          (2): Linear(in_features=300, out_features=1, bias=True)\n",
       "        )\n",
       "      )\n",
       "      (criterion): MSE(task_weights=[[1.0]])\n",
       "      (output_transform): UnscaleTransform()\n",
       "    )\n",
       "    (2): RegressionFFN(\n",
       "      (ffn): MLP(\n",
       "        (0): Sequential(\n",
       "          (0): Linear(in_features=600, out_features=300, bias=True)\n",
       "        )\n",
       "        (1): Sequential(\n",
       "          (0): ReLU()\n",
       "          (1): Dropout(p=0.0, inplace=False)\n",
       "          (2): Linear(in_features=300, out_features=1, bias=True)\n",
       "        )\n",
       "      )\n",
       "      (criterion): MSE(task_weights=[[1.0]])\n",
       "      (output_transform): UnscaleTransform()\n",
       "    )\n",
       "  )\n",
       "  (X_d_transform): Identity()\n",
       "  (metrics): ModuleList(\n",
       "    (0-2): 3 x ModuleList(\n",
       "      (0): RMSE(task_weights=[[1.0]])\n",
       "      (1): MAE(task_weights=[[1.0]])\n",
       "      (2): MSE(task_weights=[[1.0]])\n",
       "    )\n",
       "  )\n",
       ")"
      ]
     },
     "execution_count": 115,
     "metadata": {},
     "output_type": "execute_result"
    }
   ],
   "source": [
    "model"
   ]
  },
  {
   "cell_type": "markdown",
   "metadata": {},
   "source": [
    "# Output Predictions"
   ]
  },
  {
   "cell_type": "code",
   "execution_count": 116,
   "metadata": {},
   "outputs": [],
   "source": [
    "target_cols = df_test.columns.tolist()\n",
    "mol_cols, atom_cols, bond_cols = [], [], []\n",
    "for i in range(1, len(target_cols)):\n",
    "    index = 0\n",
    "    column_type = df_test.iloc[index][target_cols[i]]\n",
    "    if isinstance(column_type, float):\n",
    "        mol_cols.append(i)\n",
    "    else:\n",
    "        column_mol = make_mol(df_test.iloc[index][target_cols[0]], False, False)\n",
    "        column_type = ast.literal_eval(column_type)\n",
    "        while index < len(df_test) and column_mol.GetNumAtoms() == column_mol.GetNumBonds():\n",
    "            index += 1\n",
    "            column_mol = make_mol(df_test.iloc[index][target_cols[0]])\n",
    "        column_type = ast.literal_eval(df_test.iloc[index][target_cols[i]])\n",
    "        atom_cols.append(i) if len(column_type) == column_mol.GetNumAtoms() else bond_cols.append(i)"
   ]
  },
  {
   "cell_type": "code",
   "execution_count": 117,
   "metadata": {},
   "outputs": [],
   "source": [
    "df_test.iloc[:, mol_cols] = mol_average_preds.tolist()\n",
    "\n",
    "for i in range(len(df_test)):\n",
    "    if atom_slices is not None:\n",
    "        first_atom = atom_slices.index(i)\n",
    "        last_atom = first_atom + atom_slices.count(i)\n",
    "        atom_preds = atom_average_preds[first_atom:last_atom]\n",
    "        df_test.iloc[i, atom_cols] = [str(atom_preds[:,j].tolist()) for j in range(len(atom_cols))]\n",
    "\n",
    "    if bond_slices is not None:\n",
    "        first_bond = bond_slices.index(i)\n",
    "        last_bond = first_bond + bond_slices.count(i)\n",
    "        bond_preds = bond_average_preds[first_atom:last_atom]\n",
    "        df_test.iloc[i, bond_cols] = [str(bond_preds[:,j].tolist()) for j in range(len(bond_cols))]"
   ]
  },
  {
   "cell_type": "code",
   "execution_count": 118,
   "metadata": {},
   "outputs": [
    {
     "data": {
      "text/html": [
       "<div>\n",
       "<style scoped>\n",
       "    .dataframe tbody tr th:only-of-type {\n",
       "        vertical-align: middle;\n",
       "    }\n",
       "\n",
       "    .dataframe tbody tr th {\n",
       "        vertical-align: top;\n",
       "    }\n",
       "\n",
       "    .dataframe thead th {\n",
       "        text-align: right;\n",
       "    }\n",
       "</style>\n",
       "<table border=\"1\" class=\"dataframe\">\n",
       "  <thead>\n",
       "    <tr style=\"text-align: right;\">\n",
       "      <th></th>\n",
       "      <th>smiles</th>\n",
       "      <th>molecule</th>\n",
       "      <th>atom</th>\n",
       "    </tr>\n",
       "  </thead>\n",
       "  <tbody>\n",
       "    <tr>\n",
       "      <th>0</th>\n",
       "      <td>CC</td>\n",
       "      <td>5.342140</td>\n",
       "      <td>[2.569624900817871, 2.569624900817871]</td>\n",
       "    </tr>\n",
       "    <tr>\n",
       "      <th>1</th>\n",
       "      <td>CCC</td>\n",
       "      <td>5.233238</td>\n",
       "      <td>[2.4788389205932617, 2.5985231399536133, 2.478...</td>\n",
       "    </tr>\n",
       "    <tr>\n",
       "      <th>2</th>\n",
       "      <td>CCCO</td>\n",
       "      <td>6.901553</td>\n",
       "      <td>[2.4710915088653564, 2.505635976791382, 2.7169...</td>\n",
       "    </tr>\n",
       "    <tr>\n",
       "      <th>3</th>\n",
       "      <td>CCOO</td>\n",
       "      <td>6.782914</td>\n",
       "      <td>[2.4493448734283447, 2.6188316345214844, 3.430...</td>\n",
       "    </tr>\n",
       "    <tr>\n",
       "      <th>4</th>\n",
       "      <td>COO</td>\n",
       "      <td>6.481140</td>\n",
       "      <td>[2.5182647705078125, 3.493091344833374, 3.4651...</td>\n",
       "    </tr>\n",
       "    <tr>\n",
       "      <th>5</th>\n",
       "      <td>CCOOO</td>\n",
       "      <td>6.913412</td>\n",
       "      <td>[2.451606273651123, 2.626923084259033, 3.22619...</td>\n",
       "    </tr>\n",
       "    <tr>\n",
       "      <th>6</th>\n",
       "      <td>COOO</td>\n",
       "      <td>6.779137</td>\n",
       "      <td>[2.5419275760650635, 3.3292524814605713, 3.465...</td>\n",
       "    </tr>\n",
       "    <tr>\n",
       "      <th>7</th>\n",
       "      <td>CO</td>\n",
       "      <td>6.977914</td>\n",
       "      <td>[2.758082389831543, 3.42410945892334]</td>\n",
       "    </tr>\n",
       "    <tr>\n",
       "      <th>8</th>\n",
       "      <td>CCO</td>\n",
       "      <td>6.894196</td>\n",
       "      <td>[2.4541964530944824, 2.7911367416381836, 3.389...</td>\n",
       "    </tr>\n",
       "    <tr>\n",
       "      <th>9</th>\n",
       "      <td>OO</td>\n",
       "      <td>7.735260</td>\n",
       "      <td>[3.6392979621887207, 3.6392979621887207]</td>\n",
       "    </tr>\n",
       "  </tbody>\n",
       "</table>\n",
       "</div>"
      ],
      "text/plain": [
       "  smiles  molecule                                               atom\n",
       "0     CC  5.342140             [2.569624900817871, 2.569624900817871]\n",
       "1    CCC  5.233238  [2.4788389205932617, 2.5985231399536133, 2.478...\n",
       "2   CCCO  6.901553  [2.4710915088653564, 2.505635976791382, 2.7169...\n",
       "3   CCOO  6.782914  [2.4493448734283447, 2.6188316345214844, 3.430...\n",
       "4    COO  6.481140  [2.5182647705078125, 3.493091344833374, 3.4651...\n",
       "5  CCOOO  6.913412  [2.451606273651123, 2.626923084259033, 3.22619...\n",
       "6   COOO  6.779137  [2.5419275760650635, 3.3292524814605713, 3.465...\n",
       "7     CO  6.977914              [2.758082389831543, 3.42410945892334]\n",
       "8    CCO  6.894196  [2.4541964530944824, 2.7911367416381836, 3.389...\n",
       "9     OO  7.735260           [3.6392979621887207, 3.6392979621887207]"
      ]
     },
     "execution_count": 118,
     "metadata": {},
     "output_type": "execute_result"
    }
   ],
   "source": [
    "output_path = chemprop_dir / \"tests\" / \"data\" / \"mixed_regression_output.csv\"\n",
    "if output_path.suffix == \".pkl\":\n",
    "    df_test = df_test.reset_index(drop=True)\n",
    "    df_test.to_pickle(output_path)\n",
    "else:\n",
    "    df_test.to_csv(output_path, index=False)\n",
    "\n",
    "df_test"
   ]
  }
 ],
 "metadata": {
  "kernelspec": {
   "display_name": "Python 3 (ipykernel)",
   "language": "python",
   "name": "python3"
  },
  "language_info": {
   "codemirror_mode": {
    "name": "ipython",
    "version": 3
   },
   "file_extension": ".py",
   "mimetype": "text/x-python",
   "name": "python",
   "nbconvert_exporter": "python",
   "pygments_lexer": "ipython3",
   "version": "3.11.9"
  }
 },
 "nbformat": 4,
 "nbformat_minor": 4
}

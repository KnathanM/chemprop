{
 "cells": [
  {
   "cell_type": "markdown",
   "metadata": {},
   "source": [
    "# Training"
   ]
  },
  {
   "cell_type": "markdown",
   "metadata": {},
   "source": [
    "# Import packages"
   ]
  },
  {
   "cell_type": "code",
   "execution_count": 1,
   "metadata": {},
   "outputs": [],
   "source": [
    "import pandas as pd\n",
    "from pathlib import Path\n",
    "import numpy as np\n",
    "import ast\n",
    "\n",
    "from lightning import pytorch as pl\n",
    "from lightning.pytorch.callbacks import ModelCheckpoint\n",
    "\n",
    "from chemprop import data, featurizers, models, nn\n",
    "from chemprop.utils import make_mol"
   ]
  },
  {
   "cell_type": "markdown",
   "metadata": {},
   "source": [
    "# Change data inputs here"
   ]
  },
  {
   "cell_type": "code",
   "execution_count": 2,
   "metadata": {},
   "outputs": [],
   "source": [
    "chemprop_dir = Path.cwd().parent\n",
    "input_path = chemprop_dir / \"tests\" / \"data\" / \"atomic_regression_atom_mapped_input_copy.csv\" # path to your data .csv file\n",
    "num_workers = 0 # number of workers for dataloader. 0 means using main process for data loading\n",
    "smiles_column = 'smiles' # name of the column containing SMILES strings\n",
    "target_columns = ['charges', 'charges2'] # list of names of the columns containing targets"
   ]
  },
  {
   "cell_type": "markdown",
   "metadata": {},
   "source": [
    "## Load data"
   ]
  },
  {
   "cell_type": "code",
   "execution_count": 3,
   "metadata": {},
   "outputs": [
    {
     "data": {
      "text/html": [
       "<div>\n",
       "<style scoped>\n",
       "    .dataframe tbody tr th:only-of-type {\n",
       "        vertical-align: middle;\n",
       "    }\n",
       "\n",
       "    .dataframe tbody tr th {\n",
       "        vertical-align: top;\n",
       "    }\n",
       "\n",
       "    .dataframe thead th {\n",
       "        text-align: right;\n",
       "    }\n",
       "</style>\n",
       "<table border=\"1\" class=\"dataframe\">\n",
       "  <thead>\n",
       "    <tr style=\"text-align: right;\">\n",
       "      <th></th>\n",
       "      <th>smiles</th>\n",
       "      <th>charges</th>\n",
       "      <th>charges2</th>\n",
       "    </tr>\n",
       "  </thead>\n",
       "  <tbody>\n",
       "    <tr>\n",
       "      <th>0</th>\n",
       "      <td>[S:1]1[S:2][C:3]2([C:23]([H:41])([H:42])[H:43]...</td>\n",
       "      <td>[-0.093451, -0.121894, 0.159898, -0.198989, 0....</td>\n",
       "      <td>[-0.093451, -0.121894, 0.159898, -0.198989, 0....</td>\n",
       "    </tr>\n",
       "    <tr>\n",
       "      <th>1</th>\n",
       "      <td>[Cl:1][c:2]1[c:3]([C:9]([n:10]2[c:11](=[O:12])...</td>\n",
       "      <td>[-0.072057, 0.128813, -0.014234, -0.095166, -0...</td>\n",
       "      <td>[-0.072057, 0.128813, -0.014234, -0.095166, -0...</td>\n",
       "    </tr>\n",
       "    <tr>\n",
       "      <th>2</th>\n",
       "      <td>[C:1]([C:2](=[O:3])[N:4]1[C:5]([H:21])([H:22])...</td>\n",
       "      <td>[-0.47105, 0.575086, -0.557499, -0.171529, -0....</td>\n",
       "      <td>[-0.47105, 0.575086, -0.557499, -0.171529, -0....</td>\n",
       "    </tr>\n",
       "    <tr>\n",
       "      <th>3</th>\n",
       "      <td>[C:1]([N:2]([C:3]([H:21])([H:22])[H:23])[c:4]1...</td>\n",
       "      <td>[-0.220661, -0.131327, -0.220029, 0.338192, -0...</td>\n",
       "      <td>[-0.220661, -0.131327, -0.220029, 0.338192, -0...</td>\n",
       "    </tr>\n",
       "    <tr>\n",
       "      <th>4</th>\n",
       "      <td>[C:1]([N:2]([C:3]([C:4]([C:5]([H:30])([H:31])[...</td>\n",
       "      <td>[-0.206838, -0.184143, -0.07144, 0.180829, -0....</td>\n",
       "      <td>[-0.206838, -0.184143, -0.07144, 0.180829, -0....</td>\n",
       "    </tr>\n",
       "    <tr>\n",
       "      <th>...</th>\n",
       "      <td>...</td>\n",
       "      <td>...</td>\n",
       "      <td>...</td>\n",
       "    </tr>\n",
       "    <tr>\n",
       "      <th>495</th>\n",
       "      <td>[C:1]([c:2]1[n:3][c:4]([N:5]([C:6]([H:29])([H:...</td>\n",
       "      <td>[-0.399796, 0.334556, -0.490008, 0.462631, -0....</td>\n",
       "      <td>[-0.399796, 0.334556, -0.490008, 0.462631, -0....</td>\n",
       "    </tr>\n",
       "    <tr>\n",
       "      <th>496</th>\n",
       "      <td>[Cl:1][C:2]1([H:17])[C:3]([O:13][C:14]([C:15](...</td>\n",
       "      <td>[-0.194226, -0.004708, 0.142631, -0.170452, 0....</td>\n",
       "      <td>[-0.194226, -0.004708, 0.142631, -0.170452, 0....</td>\n",
       "    </tr>\n",
       "    <tr>\n",
       "      <th>497</th>\n",
       "      <td>[S:1]=[C:2]([N:3]1[C:4]([H:21])([H:22])[C:5]([...</td>\n",
       "      <td>[-0.519424, 0.238167, -0.04533, -0.064195, 0.0...</td>\n",
       "      <td>[-0.519424, 0.238167, -0.04533, -0.064195, 0.0...</td>\n",
       "    </tr>\n",
       "    <tr>\n",
       "      <th>498</th>\n",
       "      <td>[C:1]([C:2]([C:3]([H:24])([H:25])[H:26])([C:4]...</td>\n",
       "      <td>[-0.3687, 0.12996, -0.366706, -0.152338, -0.19...</td>\n",
       "      <td>[-0.3687, 0.12996, -0.366706, -0.152338, -0.19...</td>\n",
       "    </tr>\n",
       "    <tr>\n",
       "      <th>499</th>\n",
       "      <td>[C:1]([C:2]1([H:24])[C:3]([H:25])([H:26])[N:4]...</td>\n",
       "      <td>[-0.415473, 0.234191, -0.111594, -0.198827, 0....</td>\n",
       "      <td>[-0.415473, 0.234191, -0.111594, -0.198827, 0....</td>\n",
       "    </tr>\n",
       "  </tbody>\n",
       "</table>\n",
       "<p>500 rows × 3 columns</p>\n",
       "</div>"
      ],
      "text/plain": [
       "                                                smiles  \\\n",
       "0    [S:1]1[S:2][C:3]2([C:23]([H:41])([H:42])[H:43]...   \n",
       "1    [Cl:1][c:2]1[c:3]([C:9]([n:10]2[c:11](=[O:12])...   \n",
       "2    [C:1]([C:2](=[O:3])[N:4]1[C:5]([H:21])([H:22])...   \n",
       "3    [C:1]([N:2]([C:3]([H:21])([H:22])[H:23])[c:4]1...   \n",
       "4    [C:1]([N:2]([C:3]([C:4]([C:5]([H:30])([H:31])[...   \n",
       "..                                                 ...   \n",
       "495  [C:1]([c:2]1[n:3][c:4]([N:5]([C:6]([H:29])([H:...   \n",
       "496  [Cl:1][C:2]1([H:17])[C:3]([O:13][C:14]([C:15](...   \n",
       "497  [S:1]=[C:2]([N:3]1[C:4]([H:21])([H:22])[C:5]([...   \n",
       "498  [C:1]([C:2]([C:3]([H:24])([H:25])[H:26])([C:4]...   \n",
       "499  [C:1]([C:2]1([H:24])[C:3]([H:25])([H:26])[N:4]...   \n",
       "\n",
       "                                               charges  \\\n",
       "0    [-0.093451, -0.121894, 0.159898, -0.198989, 0....   \n",
       "1    [-0.072057, 0.128813, -0.014234, -0.095166, -0...   \n",
       "2    [-0.47105, 0.575086, -0.557499, -0.171529, -0....   \n",
       "3    [-0.220661, -0.131327, -0.220029, 0.338192, -0...   \n",
       "4    [-0.206838, -0.184143, -0.07144, 0.180829, -0....   \n",
       "..                                                 ...   \n",
       "495  [-0.399796, 0.334556, -0.490008, 0.462631, -0....   \n",
       "496  [-0.194226, -0.004708, 0.142631, -0.170452, 0....   \n",
       "497  [-0.519424, 0.238167, -0.04533, -0.064195, 0.0...   \n",
       "498  [-0.3687, 0.12996, -0.366706, -0.152338, -0.19...   \n",
       "499  [-0.415473, 0.234191, -0.111594, -0.198827, 0....   \n",
       "\n",
       "                                              charges2  \n",
       "0    [-0.093451, -0.121894, 0.159898, -0.198989, 0....  \n",
       "1    [-0.072057, 0.128813, -0.014234, -0.095166, -0...  \n",
       "2    [-0.47105, 0.575086, -0.557499, -0.171529, -0....  \n",
       "3    [-0.220661, -0.131327, -0.220029, 0.338192, -0...  \n",
       "4    [-0.206838, -0.184143, -0.07144, 0.180829, -0....  \n",
       "..                                                 ...  \n",
       "495  [-0.399796, 0.334556, -0.490008, 0.462631, -0....  \n",
       "496  [-0.194226, -0.004708, 0.142631, -0.170452, 0....  \n",
       "497  [-0.519424, 0.238167, -0.04533, -0.064195, 0.0...  \n",
       "498  [-0.3687, 0.12996, -0.366706, -0.152338, -0.19...  \n",
       "499  [-0.415473, 0.234191, -0.111594, -0.198827, 0....  \n",
       "\n",
       "[500 rows x 3 columns]"
      ]
     },
     "execution_count": 3,
     "metadata": {},
     "output_type": "execute_result"
    }
   ],
   "source": [
    "df_input = pd.read_csv(input_path)\n",
    "df_input"
   ]
  },
  {
   "cell_type": "markdown",
   "metadata": {},
   "source": [
    "## Get SMILES and targets"
   ]
  },
  {
   "cell_type": "code",
   "execution_count": 4,
   "metadata": {},
   "outputs": [],
   "source": [
    "smis = df_input.loc[:, smiles_column].values\n",
    "ys = df_input.loc[:, target_columns]"
   ]
  },
  {
   "cell_type": "code",
   "execution_count": 5,
   "metadata": {},
   "outputs": [
    {
     "data": {
      "text/plain": [
       "array(['[S:1]1[S:2][C:3]2([C:23]([H:41])([H:42])[H:43])[N:4]([C:20]([C:21]([C:22]([H:38])([H:39])[H:40])([H:36])[H:37])([H:34])[H:35])[C:5](=[O:6])[C:7]13[N:8]([c:9]1[c:10]([c:11]([H:24])[c:12]([H:25])[c:13]([H:26])[c:14]1[H:27])[C:15]3([C:16]([H:28])([H:29])[H:30])[C:17]([H:31])([H:32])[H:33])[C:18]2=[O:19]',\n",
       "       '[Cl:1][c:2]1[c:3]([C:9]([n:10]2[c:11](=[O:12])[c:13]([N+:14]([O-:15])=[O:16])[c:17]([H:25])[c:18]([H:26])[c:19]2[H:27])([H:23])[H:24])[c:4]([H:20])[c:5]([H:21])[c:6]([F:7])[c:8]1[H:22]'],\n",
       "      dtype=object)"
      ]
     },
     "execution_count": 5,
     "metadata": {},
     "output_type": "execute_result"
    }
   ],
   "source": [
    "smis[:2] # show first 2 SMILES strings"
   ]
  },
  {
   "cell_type": "code",
   "execution_count": 6,
   "metadata": {},
   "outputs": [
    {
     "data": {
      "text/html": [
       "<div>\n",
       "<style scoped>\n",
       "    .dataframe tbody tr th:only-of-type {\n",
       "        vertical-align: middle;\n",
       "    }\n",
       "\n",
       "    .dataframe tbody tr th {\n",
       "        vertical-align: top;\n",
       "    }\n",
       "\n",
       "    .dataframe thead th {\n",
       "        text-align: right;\n",
       "    }\n",
       "</style>\n",
       "<table border=\"1\" class=\"dataframe\">\n",
       "  <thead>\n",
       "    <tr style=\"text-align: right;\">\n",
       "      <th></th>\n",
       "      <th>charges</th>\n",
       "      <th>charges2</th>\n",
       "    </tr>\n",
       "  </thead>\n",
       "  <tbody>\n",
       "    <tr>\n",
       "      <th>0</th>\n",
       "      <td>[-0.093451, -0.121894, 0.159898, -0.198989, 0....</td>\n",
       "      <td>[-0.093451, -0.121894, 0.159898, -0.198989, 0....</td>\n",
       "    </tr>\n",
       "    <tr>\n",
       "      <th>1</th>\n",
       "      <td>[-0.072057, 0.128813, -0.014234, -0.095166, -0...</td>\n",
       "      <td>[-0.072057, 0.128813, -0.014234, -0.095166, -0...</td>\n",
       "    </tr>\n",
       "    <tr>\n",
       "      <th>2</th>\n",
       "      <td>[-0.47105, 0.575086, -0.557499, -0.171529, -0....</td>\n",
       "      <td>[-0.47105, 0.575086, -0.557499, -0.171529, -0....</td>\n",
       "    </tr>\n",
       "    <tr>\n",
       "      <th>3</th>\n",
       "      <td>[-0.220661, -0.131327, -0.220029, 0.338192, -0...</td>\n",
       "      <td>[-0.220661, -0.131327, -0.220029, 0.338192, -0...</td>\n",
       "    </tr>\n",
       "    <tr>\n",
       "      <th>4</th>\n",
       "      <td>[-0.206838, -0.184143, -0.07144, 0.180829, -0....</td>\n",
       "      <td>[-0.206838, -0.184143, -0.07144, 0.180829, -0....</td>\n",
       "    </tr>\n",
       "  </tbody>\n",
       "</table>\n",
       "</div>"
      ],
      "text/plain": [
       "                                             charges  \\\n",
       "0  [-0.093451, -0.121894, 0.159898, -0.198989, 0....   \n",
       "1  [-0.072057, 0.128813, -0.014234, -0.095166, -0...   \n",
       "2  [-0.47105, 0.575086, -0.557499, -0.171529, -0....   \n",
       "3  [-0.220661, -0.131327, -0.220029, 0.338192, -0...   \n",
       "4  [-0.206838, -0.184143, -0.07144, 0.180829, -0....   \n",
       "\n",
       "                                            charges2  \n",
       "0  [-0.093451, -0.121894, 0.159898, -0.198989, 0....  \n",
       "1  [-0.072057, 0.128813, -0.014234, -0.095166, -0...  \n",
       "2  [-0.47105, 0.575086, -0.557499, -0.171529, -0....  \n",
       "3  [-0.220661, -0.131327, -0.220029, 0.338192, -0...  \n",
       "4  [-0.206838, -0.184143, -0.07144, 0.180829, -0....  "
      ]
     },
     "execution_count": 6,
     "metadata": {},
     "output_type": "execute_result"
    }
   ],
   "source": [
    "ys[:5] # show first 5 molecule targets"
   ]
  },
  {
   "cell_type": "code",
   "execution_count": 7,
   "metadata": {},
   "outputs": [],
   "source": [
    "Y = []\n",
    "for molecule in range(len(ys)):\n",
    "    list_props = []\n",
    "    for prop in target_columns:\n",
    "        np_prop = np.array(ast.literal_eval(ys.iloc[molecule][prop]))\n",
    "        np_prop = np.expand_dims(np_prop, axis=1)\n",
    "        list_props.append(np_prop)\n",
    "    Y.append(np.hstack(list_props))"
   ]
  },
  {
   "cell_type": "markdown",
   "metadata": {},
   "source": [
    "## Get molecule datapoints"
   ]
  },
  {
   "cell_type": "code",
   "execution_count": 8,
   "metadata": {},
   "outputs": [],
   "source": [
    "all_data = [data.MoleculeDatapoint.from_smi(smi, y, keep_h = True) for smi, y in zip(smis, Y)]"
   ]
  },
  {
   "cell_type": "markdown",
   "metadata": {},
   "source": [
    "## Perform data splitting for training, validation, and testing"
   ]
  },
  {
   "cell_type": "code",
   "execution_count": 9,
   "metadata": {},
   "outputs": [
    {
     "data": {
      "text/plain": [
       "['SCAFFOLD_BALANCED',\n",
       " 'RANDOM_WITH_REPEATED_SMILES',\n",
       " 'RANDOM',\n",
       " 'KENNARD_STONE',\n",
       " 'KMEANS']"
      ]
     },
     "execution_count": 9,
     "metadata": {},
     "output_type": "execute_result"
    }
   ],
   "source": [
    "# available split types\n",
    "list(data.SplitType.keys())"
   ]
  },
  {
   "cell_type": "code",
   "execution_count": 10,
   "metadata": {},
   "outputs": [],
   "source": [
    "mols = [d.mol for d in all_data]  # RDkit Mol objects are use for structure based splits\n",
    "train_indices, val_indices, test_indices = data.make_split_indices(mols, \"random\", (0.8, 0.1, 0.1))\n",
    "train_data, val_data, test_data = data.split_data_by_indices(\n",
    "    all_data, train_indices, val_indices, test_indices\n",
    ")"
   ]
  },
  {
   "cell_type": "markdown",
   "metadata": {},
   "source": [
    "## Get AtomDataset"
   ]
  },
  {
   "cell_type": "code",
   "execution_count": 11,
   "metadata": {},
   "outputs": [],
   "source": [
    "featurizer = featurizers.SimpleMoleculeMolGraphFeaturizer()\n",
    "\n",
    "train_dset = data.AtomDataset(train_data[0], featurizer)\n",
    "scaler = train_dset.normalize_targets()\n",
    "\n",
    "val_dset = data.AtomDataset(val_data[0], featurizer)\n",
    "val_dset.normalize_targets(scaler)\n",
    "\n",
    "test_dset = data.AtomDataset(test_data[0], featurizer)\n",
    "\n",
    "all_dset = data.AtomDataset(all_data, featurizer)\n",
    "slices = all_dset._slices"
   ]
  },
  {
   "cell_type": "markdown",
   "metadata": {},
   "source": [
    "## Get DataLoader"
   ]
  },
  {
   "cell_type": "code",
   "execution_count": 12,
   "metadata": {},
   "outputs": [],
   "source": [
    "train_loader = data.build_dataloader(train_dset, num_workers=num_workers)\n",
    "val_loader = data.build_dataloader(val_dset, num_workers=num_workers, shuffle=False)\n",
    "test_loader = data.build_dataloader(test_dset, num_workers=num_workers, shuffle=False)\n",
    "all_loader = data.build_dataloader(all_dset, num_workers=num_workers, shuffle=False)"
   ]
  },
  {
   "cell_type": "markdown",
   "metadata": {},
   "source": [
    "# Change Message-Passing Neural Network (MPNN) inputs here"
   ]
  },
  {
   "cell_type": "markdown",
   "metadata": {},
   "source": [
    "## Message Passing\n",
    "A `Message passing` constructs molecular graphs using message passing to learn node-level hidden representations.\n",
    "\n",
    "Options are `mp = nn.BondMessagePassing()` or `mp = nn.AtomMessagePassing()`"
   ]
  },
  {
   "cell_type": "code",
   "execution_count": 13,
   "metadata": {},
   "outputs": [],
   "source": [
    "mp = nn.BondMessagePassing() #include why aggregation isn't used"
   ]
  },
  {
   "cell_type": "markdown",
   "metadata": {},
   "source": [
    "## Feed-Forward Network (FFN)\n",
    "\n",
    "A `FFN` takes the aggregated representations and make target predictions.\n",
    "\n",
    "Available options can be found in `nn.PredictorRegistry`.\n",
    "\n",
    "For regression:\n",
    "- `ffn = nn.RegressionFFN()`\n",
    "- `ffn = nn.MveFFN()`\n",
    "- `ffn = nn.EvidentialFFN()`\n",
    "\n",
    "For classification:\n",
    "- `ffn = nn.BinaryClassificationFFN()`\n",
    "- `ffn = nn.BinaryDirichletFFN()`\n",
    "- `ffn = nn.MulticlassClassificationFFN()`\n",
    "- `ffn = nn.MulticlassDirichletFFN()`\n",
    "\n",
    "For spectral:\n",
    "- `ffn = nn.SpectralFFN()` # will be available in future version"
   ]
  },
  {
   "cell_type": "code",
   "execution_count": 14,
   "metadata": {},
   "outputs": [
    {
     "name": "stdout",
     "output_type": "stream",
     "text": [
      "ClassRegistry {\n",
      "    'regression': <class 'chemprop.nn.predictors.RegressionFFN'>,\n",
      "    'regression-mve': <class 'chemprop.nn.predictors.MveFFN'>,\n",
      "    'regression-evidential': <class 'chemprop.nn.predictors.EvidentialFFN'>,\n",
      "    'regression-quantile': <class 'chemprop.nn.predictors.QuantileFFN'>,\n",
      "    'classification': <class 'chemprop.nn.predictors.BinaryClassificationFFN'>,\n",
      "    'classification-dirichlet': <class 'chemprop.nn.predictors.BinaryDirichletFFN'>,\n",
      "    'multiclass': <class 'chemprop.nn.predictors.MulticlassClassificationFFN'>,\n",
      "    'multiclass-dirichlet': <class 'chemprop.nn.predictors.MulticlassDirichletFFN'>,\n",
      "    'spectral': <class 'chemprop.nn.predictors.SpectralFFN'>\n",
      "}\n"
     ]
    }
   ],
   "source": [
    "print(nn.PredictorRegistry)"
   ]
  },
  {
   "cell_type": "code",
   "execution_count": 15,
   "metadata": {},
   "outputs": [],
   "source": [
    "output_transform = nn.UnscaleTransform.from_standard_scaler(scaler)"
   ]
  },
  {
   "cell_type": "code",
   "execution_count": 16,
   "metadata": {},
   "outputs": [],
   "source": [
    "ffn = nn.RegressionFFN(output_transform=output_transform, n_tasks=2)"
   ]
  },
  {
   "cell_type": "markdown",
   "metadata": {},
   "source": [
    "## Batch Norm\n",
    "A `Batch Norm` normalizes the outputs of the aggregation by re-centering and re-scaling.\n",
    "\n",
    "Whether to use batch norm"
   ]
  },
  {
   "cell_type": "code",
   "execution_count": 17,
   "metadata": {},
   "outputs": [],
   "source": [
    "batch_norm = True"
   ]
  },
  {
   "cell_type": "markdown",
   "metadata": {},
   "source": [
    "## Metrics\n",
    "`Metrics` are the ways to evaluate the performance of model predictions.\n",
    "\n",
    "Available options can be found in `metrics.MetricRegistry`, including"
   ]
  },
  {
   "cell_type": "code",
   "execution_count": 18,
   "metadata": {},
   "outputs": [
    {
     "name": "stdout",
     "output_type": "stream",
     "text": [
      "ClassRegistry {\n",
      "    'mse': <class 'chemprop.nn.metrics.MSE'>,\n",
      "    'mae': <class 'chemprop.nn.metrics.MAE'>,\n",
      "    'rmse': <class 'chemprop.nn.metrics.RMSE'>,\n",
      "    'bounded-mse': <class 'chemprop.nn.metrics.BoundedMSE'>,\n",
      "    'bounded-mae': <class 'chemprop.nn.metrics.BoundedMAE'>,\n",
      "    'bounded-rmse': <class 'chemprop.nn.metrics.BoundedRMSE'>,\n",
      "    'r2': <class 'chemprop.nn.metrics.R2Score'>,\n",
      "    'binary-mcc': <class 'chemprop.nn.metrics.BinaryMCCMetric'>,\n",
      "    'multiclass-mcc': <class 'chemprop.nn.metrics.MulticlassMCCMetric'>,\n",
      "    'roc': <class 'chemprop.nn.metrics.BinaryAUROC'>,\n",
      "    'prc': <class 'chemprop.nn.metrics.BinaryAUPRC'>,\n",
      "    'accuracy': <class 'chemprop.nn.metrics.BinaryAccuracy'>,\n",
      "    'f1': <class 'chemprop.nn.metrics.BinaryF1Score'>\n",
      "}\n"
     ]
    }
   ],
   "source": [
    "print(nn.metrics.MetricRegistry)"
   ]
  },
  {
   "cell_type": "code",
   "execution_count": 19,
   "metadata": {},
   "outputs": [],
   "source": [
    "metric_list = [nn.metrics.RMSE(), nn.metrics.MAE()] # Only the first metric is used for training and early stopping"
   ]
  },
  {
   "cell_type": "markdown",
   "metadata": {},
   "source": [
    "## Constructs MPNN"
   ]
  },
  {
   "cell_type": "code",
   "execution_count": 20,
   "metadata": {},
   "outputs": [
    {
     "data": {
      "text/plain": [
       "MPNN(\n",
       "  (message_passing): BondMessagePassing(\n",
       "    (W_i): Linear(in_features=86, out_features=300, bias=False)\n",
       "    (W_h): Linear(in_features=300, out_features=300, bias=False)\n",
       "    (W_o): Linear(in_features=372, out_features=300, bias=True)\n",
       "    (dropout): Dropout(p=0.0, inplace=False)\n",
       "    (tau): ReLU()\n",
       "    (V_d_transform): Identity()\n",
       "    (graph_transform): Identity()\n",
       "  )\n",
       "  (agg): NoAggregation()\n",
       "  (bn): BatchNorm1d(300, eps=1e-05, momentum=0.1, affine=True, track_running_stats=True)\n",
       "  (predictor): RegressionFFN(\n",
       "    (ffn): MLP(\n",
       "      (0): Sequential(\n",
       "        (0): Linear(in_features=300, out_features=300, bias=True)\n",
       "      )\n",
       "      (1): Sequential(\n",
       "        (0): ReLU()\n",
       "        (1): Dropout(p=0.0, inplace=False)\n",
       "        (2): Linear(in_features=300, out_features=2, bias=True)\n",
       "      )\n",
       "    )\n",
       "    (criterion): MSE(task_weights=[[1.0, 1.0]])\n",
       "    (output_transform): UnscaleTransform()\n",
       "  )\n",
       "  (X_d_transform): Identity()\n",
       "  (metrics): ModuleList(\n",
       "    (0): RMSE(task_weights=[[1.0]])\n",
       "    (1): MAE(task_weights=[[1.0]])\n",
       "    (2): MSE(task_weights=[[1.0, 1.0]])\n",
       "  )\n",
       ")"
      ]
     },
     "execution_count": 20,
     "metadata": {},
     "output_type": "execute_result"
    }
   ],
   "source": [
    "agg = nn.NoAggregation()\n",
    "atom_mpnn = models.MPNN(mp, agg, ffn, batch_norm, metric_list)\n",
    "\n",
    "atom_mpnn"
   ]
  },
  {
   "cell_type": "markdown",
   "metadata": {},
   "source": [
    "# Set up trainer"
   ]
  },
  {
   "cell_type": "code",
   "execution_count": 21,
   "metadata": {},
   "outputs": [
    {
     "name": "stderr",
     "output_type": "stream",
     "text": [
      "GPU available: True (mps), used: True\n",
      "TPU available: False, using: 0 TPU cores\n",
      "HPU available: False, using: 0 HPUs\n"
     ]
    }
   ],
   "source": [
    "# Configure model checkpointing\n",
    "checkpointing = ModelCheckpoint(\n",
    "    \"checkpoints\",  # Directory where model checkpoints will be saved\n",
    "    \"best-{epoch}-{val_loss:.2f}\",  # Filename format for checkpoints, including epoch and validation loss\n",
    "    \"val_loss\",  # Metric used to select the best checkpoint (based on validation loss)\n",
    "    mode=\"min\",  # Save the checkpoint with the lowest validation loss (minimization objective)\n",
    "    save_last=True,  # Always save the most recent checkpoint, even if it's not the best\n",
    ")\n",
    "\n",
    "trainer = pl.Trainer(\n",
    "    logger=False,\n",
    "    enable_checkpointing=True, # Use `True` if you want to save model checkpoints. The checkpoints will be saved in the `checkpoints` folder.\n",
    "    enable_progress_bar=True,\n",
    "    accelerator=\"auto\",\n",
    "    devices=1,\n",
    "    max_epochs=50, # number of epochs to train for\n",
    "    callbacks=[checkpointing],\n",
    ")"
   ]
  },
  {
   "cell_type": "markdown",
   "metadata": {},
   "source": [
    "# Start training"
   ]
  },
  {
   "cell_type": "code",
   "execution_count": 22,
   "metadata": {},
   "outputs": [
    {
     "name": "stderr",
     "output_type": "stream",
     "text": [
      "/opt/anaconda3/envs/chemprop/lib/python3.11/site-packages/lightning/pytorch/callbacks/model_checkpoint.py:654: Checkpoint directory /Users/brianli/Documents/chemprop/examples/checkpoints exists and is not empty.\n",
      "Loading `train_dataloader` to estimate number of stepping batches.\n",
      "/opt/anaconda3/envs/chemprop/lib/python3.11/site-packages/lightning/pytorch/trainer/connectors/data_connector.py:424: The 'train_dataloader' does not have many workers which may be a bottleneck. Consider increasing the value of the `num_workers` argument` to `num_workers=7` in the `DataLoader` to improve performance.\n",
      "\n",
      "  | Name            | Type               | Params | Mode \n",
      "---------------------------------------------------------------\n",
      "0 | message_passing | BondMessagePassing | 227 K  | train\n",
      "1 | agg             | NoAggregation      | 0      | train\n",
      "2 | bn              | BatchNorm1d        | 600    | train\n",
      "3 | predictor       | RegressionFFN      | 90.9 K | train\n",
      "4 | X_d_transform   | Identity           | 0      | train\n",
      "5 | metrics         | ModuleList         | 0      | train\n",
      "---------------------------------------------------------------\n",
      "319 K     Trainable params\n",
      "0         Non-trainable params\n",
      "319 K     Total params\n",
      "1.277     Total estimated model params size (MB)\n",
      "25        Modules in train mode\n",
      "0         Modules in eval mode\n"
     ]
    },
    {
     "name": "stdout",
     "output_type": "stream",
     "text": [
      "Sanity Checking DataLoader 0:   0%|                                                                                                              | 0/1 [00:00<?, ?it/s]"
     ]
    },
    {
     "name": "stderr",
     "output_type": "stream",
     "text": [
      "/opt/anaconda3/envs/chemprop/lib/python3.11/site-packages/lightning/pytorch/trainer/connectors/data_connector.py:424: The 'val_dataloader' does not have many workers which may be a bottleneck. Consider increasing the value of the `num_workers` argument` to `num_workers=7` in the `DataLoader` to improve performance.\n",
      "/Users/brianli/Documents/chemprop/chemprop/nn/message_passing/base.py:263: UserWarning: The operator 'aten::scatter_reduce.two_out' is not currently supported on the MPS backend and will fall back to run on the CPU. This may have performance implications. (Triggered internally at /Users/runner/work/pytorch/pytorch/pytorch/aten/src/ATen/mps/MPSFallback.mm:13.)\n",
      "  M_all = torch.zeros(len(bmg.V), H.shape[1], dtype=H.dtype, device=H.device).scatter_reduce_(\n"
     ]
    },
    {
     "name": "stdout",
     "output_type": "stream",
     "text": [
      "Epoch 0: 100%|████████████████████████████████████████████████████████████████████████████████████████████████████| 7/7 [00:01<00:00,  6.16it/s, train_loss_step=0.911]\n",
      "Validation: |                                                                                                                                    | 0/? [00:00<?, ?it/s]\u001b[A\n",
      "Validation:   0%|                                                                                                                                | 0/1 [00:00<?, ?it/s]\u001b[A\n",
      "Validation DataLoader 0:   0%|                                                                                                                   | 0/1 [00:00<?, ?it/s]\u001b[A\n",
      "Validation DataLoader 0: 100%|███████████████████████████████████████████████████████████████████████████████████████████████████████████| 1/1 [00:00<00:00, 17.84it/s]\u001b[A\n",
      "Epoch 1: 100%|████████████████████████████████████████████████████████████| 7/7 [00:01<00:00,  5.36it/s, train_loss_step=0.857, val_loss=1.080, train_loss_epoch=0.971]\u001b[A\n",
      "Validation: |                                                                                                                                    | 0/? [00:00<?, ?it/s]\u001b[A\n",
      "Validation:   0%|                                                                                                                                | 0/1 [00:00<?, ?it/s]\u001b[A\n",
      "Validation DataLoader 0:   0%|                                                                                                                   | 0/1 [00:00<?, ?it/s]\u001b[A\n",
      "Validation DataLoader 0: 100%|███████████████████████████████████████████████████████████████████████████████████████████████████████████| 1/1 [00:00<00:00, 20.27it/s]\u001b[A\n",
      "Epoch 2: 100%|████████████████████████████████████████████████████████████| 7/7 [00:01<00:00,  5.05it/s, train_loss_step=0.921, val_loss=1.060, train_loss_epoch=0.912]\u001b[A\n",
      "Validation: |                                                                                                                                    | 0/? [00:00<?, ?it/s]\u001b[A\n",
      "Validation:   0%|                                                                                                                                | 0/1 [00:00<?, ?it/s]\u001b[A\n",
      "Validation DataLoader 0:   0%|                                                                                                                   | 0/1 [00:00<?, ?it/s]\u001b[A\n",
      "Validation DataLoader 0: 100%|███████████████████████████████████████████████████████████████████████████████████████████████████████████| 1/1 [00:00<00:00, 15.00it/s]\u001b[A\n",
      "Epoch 3: 100%|████████████████████████████████████████████████████████████| 7/7 [00:01<00:00,  4.49it/s, train_loss_step=0.911, val_loss=1.050, train_loss_epoch=0.900]\u001b[A\n",
      "Validation: |                                                                                                                                    | 0/? [00:00<?, ?it/s]\u001b[A\n",
      "Validation:   0%|                                                                                                                                | 0/1 [00:00<?, ?it/s]\u001b[A\n",
      "Validation DataLoader 0:   0%|                                                                                                                   | 0/1 [00:00<?, ?it/s]\u001b[A\n",
      "Validation DataLoader 0: 100%|███████████████████████████████████████████████████████████████████████████████████████████████████████████| 1/1 [00:00<00:00, 16.90it/s]\u001b[A\n",
      "Epoch 4: 100%|████████████████████████████████████████████████████████████| 7/7 [00:01<00:00,  5.22it/s, train_loss_step=0.906, val_loss=1.030, train_loss_epoch=0.897]\u001b[A\n",
      "Validation: |                                                                                                                                    | 0/? [00:00<?, ?it/s]\u001b[A\n",
      "Validation:   0%|                                                                                                                                | 0/1 [00:00<?, ?it/s]\u001b[A\n",
      "Validation DataLoader 0:   0%|                                                                                                                   | 0/1 [00:00<?, ?it/s]\u001b[A\n",
      "Validation DataLoader 0: 100%|███████████████████████████████████████████████████████████████████████████████████████████████████████████| 1/1 [00:00<00:00, 18.62it/s]\u001b[A\n",
      "Epoch 5: 100%|████████████████████████████████████████████████████████████| 7/7 [00:01<00:00,  6.02it/s, train_loss_step=0.798, val_loss=1.020, train_loss_epoch=0.890]\u001b[A\n",
      "Validation: |                                                                                                                                    | 0/? [00:00<?, ?it/s]\u001b[A\n",
      "Validation:   0%|                                                                                                                                | 0/1 [00:00<?, ?it/s]\u001b[A\n",
      "Validation DataLoader 0:   0%|                                                                                                                   | 0/1 [00:00<?, ?it/s]\u001b[A\n",
      "Validation DataLoader 0: 100%|███████████████████████████████████████████████████████████████████████████████████████████████████████████| 1/1 [00:00<00:00, 15.29it/s]\u001b[A\n",
      "Epoch 6: 100%|████████████████████████████████████████████████████████████| 7/7 [00:01<00:00,  3.90it/s, train_loss_step=0.782, val_loss=0.997, train_loss_epoch=0.895]\u001b[A\n",
      "Validation: |                                                                                                                                    | 0/? [00:00<?, ?it/s]\u001b[A\n",
      "Validation:   0%|                                                                                                                                | 0/1 [00:00<?, ?it/s]\u001b[A\n",
      "Validation DataLoader 0:   0%|                                                                                                                   | 0/1 [00:00<?, ?it/s]\u001b[A\n",
      "Validation DataLoader 0: 100%|███████████████████████████████████████████████████████████████████████████████████████████████████████████| 1/1 [00:00<00:00, 16.31it/s]\u001b[A\n",
      "Epoch 7: 100%|████████████████████████████████████████████████████████████| 7/7 [00:01<00:00,  6.07it/s, train_loss_step=0.658, val_loss=0.998, train_loss_epoch=0.886]\u001b[A\n",
      "Validation: |                                                                                                                                    | 0/? [00:00<?, ?it/s]\u001b[A\n",
      "Validation:   0%|                                                                                                                                | 0/1 [00:00<?, ?it/s]\u001b[A\n",
      "Validation DataLoader 0:   0%|                                                                                                                   | 0/1 [00:00<?, ?it/s]\u001b[A\n",
      "Validation DataLoader 0: 100%|███████████████████████████████████████████████████████████████████████████████████████████████████████████| 1/1 [00:00<00:00, 14.52it/s]\u001b[A\n",
      "Epoch 8: 100%|████████████████████████████████████████████████████████████| 7/7 [00:01<00:00,  4.15it/s, train_loss_step=0.978, val_loss=0.981, train_loss_epoch=0.881]\u001b[A\n",
      "Validation: |                                                                                                                                    | 0/? [00:00<?, ?it/s]\u001b[A\n",
      "Validation:   0%|                                                                                                                                | 0/1 [00:00<?, ?it/s]\u001b[A\n",
      "Validation DataLoader 0:   0%|                                                                                                                   | 0/1 [00:00<?, ?it/s]\u001b[A\n",
      "Validation DataLoader 0: 100%|███████████████████████████████████████████████████████████████████████████████████████████████████████████| 1/1 [00:00<00:00, 16.47it/s]\u001b[A\n",
      "Epoch 9: 100%|████████████████████████████████████████████████████████████| 7/7 [00:01<00:00,  3.75it/s, train_loss_step=0.871, val_loss=0.972, train_loss_epoch=0.879]\u001b[A\n",
      "Validation: |                                                                                                                                    | 0/? [00:00<?, ?it/s]\u001b[A\n",
      "Validation:   0%|                                                                                                                                | 0/1 [00:00<?, ?it/s]\u001b[A\n",
      "Validation DataLoader 0:   0%|                                                                                                                   | 0/1 [00:00<?, ?it/s]\u001b[A\n",
      "Validation DataLoader 0: 100%|███████████████████████████████████████████████████████████████████████████████████████████████████████████| 1/1 [00:00<00:00, 12.83it/s]\u001b[A\n",
      "Epoch 10: 100%|███████████████████████████████████████████████████████████| 7/7 [00:01<00:00,  4.09it/s, train_loss_step=0.785, val_loss=0.970, train_loss_epoch=0.879]\u001b[A\n",
      "Validation: |                                                                                                                                    | 0/? [00:00<?, ?it/s]\u001b[A\n",
      "Validation:   0%|                                                                                                                                | 0/1 [00:00<?, ?it/s]\u001b[A\n",
      "Validation DataLoader 0:   0%|                                                                                                                   | 0/1 [00:00<?, ?it/s]\u001b[A\n",
      "Validation DataLoader 0: 100%|███████████████████████████████████████████████████████████████████████████████████████████████████████████| 1/1 [00:00<00:00, 15.17it/s]\u001b[A\n",
      "Epoch 11: 100%|███████████████████████████████████████████████████████████| 7/7 [00:01<00:00,  3.63it/s, train_loss_step=0.776, val_loss=0.982, train_loss_epoch=0.877]\u001b[A\n",
      "Validation: |                                                                                                                                    | 0/? [00:00<?, ?it/s]\u001b[A\n",
      "Validation:   0%|                                                                                                                                | 0/1 [00:00<?, ?it/s]\u001b[A\n",
      "Validation DataLoader 0:   0%|                                                                                                                   | 0/1 [00:00<?, ?it/s]\u001b[A\n",
      "Validation DataLoader 0: 100%|███████████████████████████████████████████████████████████████████████████████████████████████████████████| 1/1 [00:00<00:00, 15.80it/s]\u001b[A\n",
      "Epoch 12: 100%|███████████████████████████████████████████████████████████| 7/7 [00:02<00:00,  3.34it/s, train_loss_step=0.856, val_loss=0.996, train_loss_epoch=0.877]\u001b[A\n",
      "Validation: |                                                                                                                                    | 0/? [00:00<?, ?it/s]\u001b[A\n",
      "Validation:   0%|                                                                                                                                | 0/1 [00:00<?, ?it/s]\u001b[A\n",
      "Validation DataLoader 0:   0%|                                                                                                                   | 0/1 [00:00<?, ?it/s]\u001b[A\n",
      "Validation DataLoader 0: 100%|███████████████████████████████████████████████████████████████████████████████████████████████████████████| 1/1 [00:00<00:00, 18.34it/s]\u001b[A\n",
      "Epoch 13: 100%|███████████████████████████████████████████████████████████| 7/7 [00:01<00:00,  3.83it/s, train_loss_step=0.965, val_loss=0.977, train_loss_epoch=0.872]\u001b[A\n",
      "Validation: |                                                                                                                                    | 0/? [00:00<?, ?it/s]\u001b[A\n",
      "Validation:   0%|                                                                                                                                | 0/1 [00:00<?, ?it/s]\u001b[A\n",
      "Validation DataLoader 0:   0%|                                                                                                                   | 0/1 [00:00<?, ?it/s]\u001b[A\n",
      "Validation DataLoader 0: 100%|███████████████████████████████████████████████████████████████████████████████████████████████████████████| 1/1 [00:00<00:00, 14.29it/s]\u001b[A\n",
      "Epoch 14: 100%|███████████████████████████████████████████████████████████| 7/7 [00:01<00:00,  3.73it/s, train_loss_step=1.010, val_loss=0.974, train_loss_epoch=0.869]\u001b[A\n",
      "Validation: |                                                                                                                                    | 0/? [00:00<?, ?it/s]\u001b[A\n",
      "Validation:   0%|                                                                                                                                | 0/1 [00:00<?, ?it/s]\u001b[A\n",
      "Validation DataLoader 0:   0%|                                                                                                                   | 0/1 [00:00<?, ?it/s]\u001b[A\n",
      "Validation DataLoader 0: 100%|███████████████████████████████████████████████████████████████████████████████████████████████████████████| 1/1 [00:00<00:00, 15.12it/s]\u001b[A\n",
      "Epoch 15: 100%|███████████████████████████████████████████████████████████| 7/7 [00:02<00:00,  3.31it/s, train_loss_step=1.030, val_loss=0.984, train_loss_epoch=0.866]\u001b[A\n",
      "Validation: |                                                                                                                                    | 0/? [00:00<?, ?it/s]\u001b[A\n",
      "Validation:   0%|                                                                                                                                | 0/1 [00:00<?, ?it/s]\u001b[A\n",
      "Validation DataLoader 0:   0%|                                                                                                                   | 0/1 [00:00<?, ?it/s]\u001b[A\n",
      "Validation DataLoader 0: 100%|███████████████████████████████████████████████████████████████████████████████████████████████████████████| 1/1 [00:00<00:00, 15.64it/s]\u001b[A\n",
      "Epoch 16: 100%|███████████████████████████████████████████████████████████| 7/7 [00:01<00:00,  3.91it/s, train_loss_step=0.843, val_loss=0.965, train_loss_epoch=0.865]\u001b[A\n",
      "Validation: |                                                                                                                                    | 0/? [00:00<?, ?it/s]\u001b[A\n",
      "Validation:   0%|                                                                                                                                | 0/1 [00:00<?, ?it/s]\u001b[A\n",
      "Validation DataLoader 0:   0%|                                                                                                                   | 0/1 [00:00<?, ?it/s]\u001b[A\n",
      "Validation DataLoader 0: 100%|███████████████████████████████████████████████████████████████████████████████████████████████████████████| 1/1 [00:00<00:00, 18.54it/s]\u001b[A\n",
      "Epoch 17: 100%|███████████████████████████████████████████████████████████| 7/7 [00:01<00:00,  3.73it/s, train_loss_step=0.854, val_loss=0.970, train_loss_epoch=0.859]\u001b[A\n",
      "Validation: |                                                                                                                                    | 0/? [00:00<?, ?it/s]\u001b[A\n",
      "Validation:   0%|                                                                                                                                | 0/1 [00:00<?, ?it/s]\u001b[A\n",
      "Validation DataLoader 0:   0%|                                                                                                                   | 0/1 [00:00<?, ?it/s]\u001b[A\n",
      "Validation DataLoader 0: 100%|███████████████████████████████████████████████████████████████████████████████████████████████████████████| 1/1 [00:00<00:00, 14.47it/s]\u001b[A\n",
      "Epoch 18: 100%|███████████████████████████████████████████████████████████| 7/7 [00:01<00:00,  3.86it/s, train_loss_step=0.778, val_loss=0.968, train_loss_epoch=0.854]\u001b[A\n",
      "Validation: |                                                                                                                                    | 0/? [00:00<?, ?it/s]\u001b[A\n",
      "Validation:   0%|                                                                                                                                | 0/1 [00:00<?, ?it/s]\u001b[A\n",
      "Validation DataLoader 0:   0%|                                                                                                                   | 0/1 [00:00<?, ?it/s]\u001b[A\n",
      "Validation DataLoader 0: 100%|███████████████████████████████████████████████████████████████████████████████████████████████████████████| 1/1 [00:00<00:00, 14.74it/s]\u001b[A\n",
      "Epoch 19: 100%|███████████████████████████████████████████████████████████| 7/7 [00:02<00:00,  3.35it/s, train_loss_step=0.692, val_loss=0.979, train_loss_epoch=0.849]\u001b[A\n",
      "Validation: |                                                                                                                                    | 0/? [00:00<?, ?it/s]\u001b[A\n",
      "Validation:   0%|                                                                                                                                | 0/1 [00:00<?, ?it/s]\u001b[A\n",
      "Validation DataLoader 0:   0%|                                                                                                                   | 0/1 [00:00<?, ?it/s]\u001b[A\n",
      "Validation DataLoader 0: 100%|███████████████████████████████████████████████████████████████████████████████████████████████████████████| 1/1 [00:00<00:00, 15.20it/s]\u001b[A\n",
      "Epoch 20: 100%|███████████████████████████████████████████████████████████| 7/7 [00:02<00:00,  3.10it/s, train_loss_step=1.030, val_loss=0.975, train_loss_epoch=0.846]\u001b[A\n",
      "Validation: |                                                                                                                                    | 0/? [00:00<?, ?it/s]\u001b[A\n",
      "Validation:   0%|                                                                                                                                | 0/1 [00:00<?, ?it/s]\u001b[A\n",
      "Validation DataLoader 0:   0%|                                                                                                                   | 0/1 [00:00<?, ?it/s]\u001b[A\n",
      "Validation DataLoader 0: 100%|███████████████████████████████████████████████████████████████████████████████████████████████████████████| 1/1 [00:00<00:00, 19.44it/s]\u001b[A\n",
      "Epoch 21: 100%|███████████████████████████████████████████████████████████| 7/7 [00:02<00:00,  3.09it/s, train_loss_step=0.795, val_loss=0.977, train_loss_epoch=0.842]\u001b[A\n",
      "Validation: |                                                                                                                                    | 0/? [00:00<?, ?it/s]\u001b[A\n",
      "Validation:   0%|                                                                                                                                | 0/1 [00:00<?, ?it/s]\u001b[A\n",
      "Validation DataLoader 0:   0%|                                                                                                                   | 0/1 [00:00<?, ?it/s]\u001b[A\n",
      "Validation DataLoader 0: 100%|███████████████████████████████████████████████████████████████████████████████████████████████████████████| 1/1 [00:00<00:00, 14.66it/s]\u001b[A\n",
      "Epoch 22: 100%|███████████████████████████████████████████████████████████| 7/7 [00:01<00:00,  3.57it/s, train_loss_step=0.859, val_loss=0.983, train_loss_epoch=0.843]\u001b[A\n",
      "Validation: |                                                                                                                                    | 0/? [00:00<?, ?it/s]\u001b[A\n",
      "Validation:   0%|                                                                                                                                | 0/1 [00:00<?, ?it/s]\u001b[A\n",
      "Validation DataLoader 0:   0%|                                                                                                                   | 0/1 [00:00<?, ?it/s]\u001b[A\n",
      "Validation DataLoader 0: 100%|███████████████████████████████████████████████████████████████████████████████████████████████████████████| 1/1 [00:00<00:00, 18.59it/s]\u001b[A\n",
      "Epoch 23: 100%|███████████████████████████████████████████████████████████| 7/7 [00:01<00:00,  3.66it/s, train_loss_step=0.909, val_loss=0.984, train_loss_epoch=0.836]\u001b[A\n",
      "Validation: |                                                                                                                                    | 0/? [00:00<?, ?it/s]\u001b[A\n",
      "Validation:   0%|                                                                                                                                | 0/1 [00:00<?, ?it/s]\u001b[A\n",
      "Validation DataLoader 0:   0%|                                                                                                                   | 0/1 [00:00<?, ?it/s]\u001b[A\n",
      "Validation DataLoader 0: 100%|███████████████████████████████████████████████████████████████████████████████████████████████████████████| 1/1 [00:00<00:00, 11.90it/s]\u001b[A\n",
      "Epoch 24: 100%|███████████████████████████████████████████████████████████| 7/7 [00:02<00:00,  3.05it/s, train_loss_step=0.896, val_loss=0.978, train_loss_epoch=0.832]\u001b[A\n",
      "Validation: |                                                                                                                                    | 0/? [00:00<?, ?it/s]\u001b[A\n",
      "Validation:   0%|                                                                                                                                | 0/1 [00:00<?, ?it/s]\u001b[A\n",
      "Validation DataLoader 0:   0%|                                                                                                                   | 0/1 [00:00<?, ?it/s]\u001b[A\n",
      "Validation DataLoader 0: 100%|███████████████████████████████████████████████████████████████████████████████████████████████████████████| 1/1 [00:00<00:00, 15.61it/s]\u001b[A\n",
      "Epoch 25: 100%|███████████████████████████████████████████████████████████| 7/7 [00:01<00:00,  4.53it/s, train_loss_step=0.986, val_loss=0.978, train_loss_epoch=0.828]\u001b[A\n",
      "Validation: |                                                                                                                                    | 0/? [00:00<?, ?it/s]\u001b[A\n",
      "Validation:   0%|                                                                                                                                | 0/1 [00:00<?, ?it/s]\u001b[A\n",
      "Validation DataLoader 0:   0%|                                                                                                                   | 0/1 [00:00<?, ?it/s]\u001b[A\n",
      "Validation DataLoader 0: 100%|███████████████████████████████████████████████████████████████████████████████████████████████████████████| 1/1 [00:00<00:00, 17.05it/s]\u001b[A\n",
      "Epoch 26: 100%|███████████████████████████████████████████████████████████| 7/7 [00:01<00:00,  4.15it/s, train_loss_step=0.782, val_loss=0.994, train_loss_epoch=0.830]\u001b[A\n",
      "Validation: |                                                                                                                                    | 0/? [00:00<?, ?it/s]\u001b[A\n",
      "Validation:   0%|                                                                                                                                | 0/1 [00:00<?, ?it/s]\u001b[A\n",
      "Validation DataLoader 0:   0%|                                                                                                                   | 0/1 [00:00<?, ?it/s]\u001b[A\n",
      "Validation DataLoader 0: 100%|███████████████████████████████████████████████████████████████████████████████████████████████████████████| 1/1 [00:00<00:00, 12.24it/s]\u001b[A\n",
      "Epoch 27: 100%|███████████████████████████████████████████████████████████| 7/7 [00:01<00:00,  3.69it/s, train_loss_step=0.965, val_loss=0.977, train_loss_epoch=0.826]\u001b[A\n",
      "Validation: |                                                                                                                                    | 0/? [00:00<?, ?it/s]\u001b[A\n",
      "Validation:   0%|                                                                                                                                | 0/1 [00:00<?, ?it/s]\u001b[A\n",
      "Validation DataLoader 0:   0%|                                                                                                                   | 0/1 [00:00<?, ?it/s]\u001b[A\n",
      "Validation DataLoader 0: 100%|███████████████████████████████████████████████████████████████████████████████████████████████████████████| 1/1 [00:00<00:00, 14.43it/s]\u001b[A\n",
      "Epoch 28: 100%|███████████████████████████████████████████████████████████| 7/7 [00:01<00:00,  4.36it/s, train_loss_step=0.900, val_loss=0.983, train_loss_epoch=0.821]\u001b[A\n",
      "Validation: |                                                                                                                                    | 0/? [00:00<?, ?it/s]\u001b[A\n",
      "Validation:   0%|                                                                                                                                | 0/1 [00:00<?, ?it/s]\u001b[A\n",
      "Validation DataLoader 0:   0%|                                                                                                                   | 0/1 [00:00<?, ?it/s]\u001b[A\n",
      "Validation DataLoader 0: 100%|███████████████████████████████████████████████████████████████████████████████████████████████████████████| 1/1 [00:00<00:00, 14.49it/s]\u001b[A\n",
      "Epoch 29: 100%|███████████████████████████████████████████████████████████| 7/7 [00:01<00:00,  3.94it/s, train_loss_step=0.759, val_loss=0.997, train_loss_epoch=0.815]\u001b[A\n",
      "Validation: |                                                                                                                                    | 0/? [00:00<?, ?it/s]\u001b[A\n",
      "Validation:   0%|                                                                                                                                | 0/1 [00:00<?, ?it/s]\u001b[A\n",
      "Validation DataLoader 0:   0%|                                                                                                                   | 0/1 [00:00<?, ?it/s]\u001b[A\n",
      "Validation DataLoader 0: 100%|███████████████████████████████████████████████████████████████████████████████████████████████████████████| 1/1 [00:00<00:00, 12.31it/s]\u001b[A\n",
      "Epoch 30: 100%|███████████████████████████████████████████████████████████| 7/7 [00:02<00:00,  3.13it/s, train_loss_step=1.020, val_loss=0.980, train_loss_epoch=0.809]\u001b[A\n",
      "Validation: |                                                                                                                                    | 0/? [00:00<?, ?it/s]\u001b[A\n",
      "Validation:   0%|                                                                                                                                | 0/1 [00:00<?, ?it/s]\u001b[A\n",
      "Validation DataLoader 0:   0%|                                                                                                                   | 0/1 [00:00<?, ?it/s]\u001b[A\n",
      "Validation DataLoader 0: 100%|███████████████████████████████████████████████████████████████████████████████████████████████████████████| 1/1 [00:00<00:00, 17.56it/s]\u001b[A\n",
      "Epoch 31: 100%|███████████████████████████████████████████████████████████| 7/7 [00:02<00:00,  3.28it/s, train_loss_step=0.688, val_loss=0.980, train_loss_epoch=0.806]\u001b[A\n",
      "Validation: |                                                                                                                                    | 0/? [00:00<?, ?it/s]\u001b[A\n",
      "Validation:   0%|                                                                                                                                | 0/1 [00:00<?, ?it/s]\u001b[A\n",
      "Validation DataLoader 0:   0%|                                                                                                                   | 0/1 [00:00<?, ?it/s]\u001b[A\n",
      "Validation DataLoader 0: 100%|███████████████████████████████████████████████████████████████████████████████████████████████████████████| 1/1 [00:00<00:00, 12.65it/s]\u001b[A\n",
      "Epoch 32: 100%|███████████████████████████████████████████████████████████| 7/7 [00:02<00:00,  2.90it/s, train_loss_step=0.765, val_loss=0.975, train_loss_epoch=0.800]\u001b[A\n",
      "Validation: |                                                                                                                                    | 0/? [00:00<?, ?it/s]\u001b[A\n",
      "Validation:   0%|                                                                                                                                | 0/1 [00:00<?, ?it/s]\u001b[A\n",
      "Validation DataLoader 0:   0%|                                                                                                                   | 0/1 [00:00<?, ?it/s]\u001b[A\n",
      "Validation DataLoader 0: 100%|███████████████████████████████████████████████████████████████████████████████████████████████████████████| 1/1 [00:00<00:00, 14.56it/s]\u001b[A\n",
      "Epoch 33: 100%|███████████████████████████████████████████████████████████| 7/7 [00:01<00:00,  4.10it/s, train_loss_step=0.908, val_loss=0.995, train_loss_epoch=0.795]\u001b[A\n",
      "Validation: |                                                                                                                                    | 0/? [00:00<?, ?it/s]\u001b[A\n",
      "Validation:   0%|                                                                                                                                | 0/1 [00:00<?, ?it/s]\u001b[A\n",
      "Validation DataLoader 0:   0%|                                                                                                                   | 0/1 [00:00<?, ?it/s]\u001b[A\n",
      "Validation DataLoader 0: 100%|███████████████████████████████████████████████████████████████████████████████████████████████████████████| 1/1 [00:00<00:00, 17.51it/s]\u001b[A\n",
      "Epoch 34: 100%|███████████████████████████████████████████████████████████| 7/7 [00:02<00:00,  3.03it/s, train_loss_step=0.902, val_loss=0.984, train_loss_epoch=0.791]\u001b[A\n",
      "Validation: |                                                                                                                                    | 0/? [00:00<?, ?it/s]\u001b[A\n",
      "Validation:   0%|                                                                                                                                | 0/1 [00:00<?, ?it/s]\u001b[A\n",
      "Validation DataLoader 0:   0%|                                                                                                                   | 0/1 [00:00<?, ?it/s]\u001b[A\n",
      "Validation DataLoader 0: 100%|███████████████████████████████████████████████████████████████████████████████████████████████████████████| 1/1 [00:00<00:00, 12.22it/s]\u001b[A\n",
      "Epoch 35: 100%|███████████████████████████████████████████████████████████| 7/7 [00:02<00:00,  3.44it/s, train_loss_step=1.100, val_loss=1.030, train_loss_epoch=0.793]\u001b[A\n",
      "Validation: |                                                                                                                                    | 0/? [00:00<?, ?it/s]\u001b[A\n",
      "Validation:   0%|                                                                                                                                | 0/1 [00:00<?, ?it/s]\u001b[A\n",
      "Validation DataLoader 0:   0%|                                                                                                                   | 0/1 [00:00<?, ?it/s]\u001b[A\n",
      "Validation DataLoader 0: 100%|███████████████████████████████████████████████████████████████████████████████████████████████████████████| 1/1 [00:00<00:00, 14.90it/s]\u001b[A\n",
      "Epoch 36: 100%|███████████████████████████████████████████████████████████| 7/7 [00:01<00:00,  4.43it/s, train_loss_step=0.757, val_loss=1.030, train_loss_epoch=0.790]\u001b[A\n",
      "Validation: |                                                                                                                                    | 0/? [00:00<?, ?it/s]\u001b[A\n",
      "Validation:   0%|                                                                                                                                | 0/1 [00:00<?, ?it/s]\u001b[A\n",
      "Validation DataLoader 0:   0%|                                                                                                                   | 0/1 [00:00<?, ?it/s]\u001b[A\n",
      "Validation DataLoader 0: 100%|███████████████████████████████████████████████████████████████████████████████████████████████████████████| 1/1 [00:00<00:00, 15.31it/s]\u001b[A\n",
      "Epoch 37: 100%|███████████████████████████████████████████████████████████| 7/7 [00:01<00:00,  3.83it/s, train_loss_step=0.760, val_loss=0.985, train_loss_epoch=0.783]\u001b[A\n",
      "Validation: |                                                                                                                                    | 0/? [00:00<?, ?it/s]\u001b[A\n",
      "Validation:   0%|                                                                                                                                | 0/1 [00:00<?, ?it/s]\u001b[A\n",
      "Validation DataLoader 0:   0%|                                                                                                                   | 0/1 [00:00<?, ?it/s]\u001b[A\n",
      "Validation DataLoader 0: 100%|███████████████████████████████████████████████████████████████████████████████████████████████████████████| 1/1 [00:00<00:00, 14.24it/s]\u001b[A\n",
      "Epoch 38: 100%|███████████████████████████████████████████████████████████| 7/7 [00:01<00:00,  4.25it/s, train_loss_step=0.712, val_loss=0.990, train_loss_epoch=0.780]\u001b[A\n",
      "Validation: |                                                                                                                                    | 0/? [00:00<?, ?it/s]\u001b[A\n",
      "Validation:   0%|                                                                                                                                | 0/1 [00:00<?, ?it/s]\u001b[A\n",
      "Validation DataLoader 0:   0%|                                                                                                                   | 0/1 [00:00<?, ?it/s]\u001b[A\n",
      "Validation DataLoader 0: 100%|███████████████████████████████████████████████████████████████████████████████████████████████████████████| 1/1 [00:00<00:00, 13.93it/s]\u001b[A\n",
      "Epoch 39: 100%|███████████████████████████████████████████████████████████| 7/7 [00:02<00:00,  3.50it/s, train_loss_step=0.801, val_loss=0.998, train_loss_epoch=0.772]\u001b[A\n",
      "Validation: |                                                                                                                                    | 0/? [00:00<?, ?it/s]\u001b[A\n",
      "Validation:   0%|                                                                                                                                | 0/1 [00:00<?, ?it/s]\u001b[A\n",
      "Validation DataLoader 0:   0%|                                                                                                                   | 0/1 [00:00<?, ?it/s]\u001b[A\n",
      "Validation DataLoader 0: 100%|███████████████████████████████████████████████████████████████████████████████████████████████████████████| 1/1 [00:00<00:00, 11.36it/s]\u001b[A\n",
      "Epoch 40: 100%|███████████████████████████████████████████████████████████| 7/7 [00:01<00:00,  3.92it/s, train_loss_step=0.791, val_loss=0.993, train_loss_epoch=0.768]\u001b[A\n",
      "Validation: |                                                                                                                                    | 0/? [00:00<?, ?it/s]\u001b[A\n",
      "Validation:   0%|                                                                                                                                | 0/1 [00:00<?, ?it/s]\u001b[A\n",
      "Validation DataLoader 0:   0%|                                                                                                                   | 0/1 [00:00<?, ?it/s]\u001b[A\n",
      "Validation DataLoader 0: 100%|███████████████████████████████████████████████████████████████████████████████████████████████████████████| 1/1 [00:00<00:00, 14.32it/s]\u001b[A\n",
      "Epoch 41: 100%|███████████████████████████████████████████████████████████| 7/7 [00:01<00:00,  4.53it/s, train_loss_step=0.676, val_loss=0.989, train_loss_epoch=0.764]\u001b[A\n",
      "Validation: |                                                                                                                                    | 0/? [00:00<?, ?it/s]\u001b[A\n",
      "Validation:   0%|                                                                                                                                | 0/1 [00:00<?, ?it/s]\u001b[A\n",
      "Validation DataLoader 0:   0%|                                                                                                                   | 0/1 [00:00<?, ?it/s]\u001b[A\n",
      "Validation DataLoader 0: 100%|███████████████████████████████████████████████████████████████████████████████████████████████████████████| 1/1 [00:00<00:00, 12.04it/s]\u001b[A\n",
      "Epoch 42: 100%|███████████████████████████████████████████████████████████| 7/7 [00:02<00:00,  3.24it/s, train_loss_step=0.715, val_loss=1.010, train_loss_epoch=0.759]\u001b[A\n",
      "Validation: |                                                                                                                                    | 0/? [00:00<?, ?it/s]\u001b[A\n",
      "Validation:   0%|                                                                                                                                | 0/1 [00:00<?, ?it/s]\u001b[A\n",
      "Validation DataLoader 0:   0%|                                                                                                                   | 0/1 [00:00<?, ?it/s]\u001b[A\n",
      "Validation DataLoader 0: 100%|███████████████████████████████████████████████████████████████████████████████████████████████████████████| 1/1 [00:00<00:00, 12.03it/s]\u001b[A\n",
      "Epoch 43: 100%|███████████████████████████████████████████████████████████| 7/7 [00:01<00:00,  4.12it/s, train_loss_step=0.816, val_loss=0.986, train_loss_epoch=0.756]\u001b[A\n",
      "Validation: |                                                                                                                                    | 0/? [00:00<?, ?it/s]\u001b[A\n",
      "Validation:   0%|                                                                                                                                | 0/1 [00:00<?, ?it/s]\u001b[A\n",
      "Validation DataLoader 0:   0%|                                                                                                                   | 0/1 [00:00<?, ?it/s]\u001b[A\n",
      "Validation DataLoader 0: 100%|███████████████████████████████████████████████████████████████████████████████████████████████████████████| 1/1 [00:00<00:00, 11.60it/s]\u001b[A\n",
      "Epoch 44: 100%|███████████████████████████████████████████████████████████| 7/7 [00:02<00:00,  3.34it/s, train_loss_step=0.745, val_loss=1.010, train_loss_epoch=0.754]\u001b[A\n",
      "Validation: |                                                                                                                                    | 0/? [00:00<?, ?it/s]\u001b[A\n",
      "Validation:   0%|                                                                                                                                | 0/1 [00:00<?, ?it/s]\u001b[A\n",
      "Validation DataLoader 0:   0%|                                                                                                                   | 0/1 [00:00<?, ?it/s]\u001b[A\n",
      "Validation DataLoader 0: 100%|███████████████████████████████████████████████████████████████████████████████████████████████████████████| 1/1 [00:00<00:00, 13.14it/s]\u001b[A\n",
      "Epoch 45: 100%|███████████████████████████████████████████████████████████| 7/7 [00:01<00:00,  4.07it/s, train_loss_step=0.587, val_loss=1.010, train_loss_epoch=0.752]\u001b[A\n",
      "Validation: |                                                                                                                                    | 0/? [00:00<?, ?it/s]\u001b[A\n",
      "Validation:   0%|                                                                                                                                | 0/1 [00:00<?, ?it/s]\u001b[A\n",
      "Validation DataLoader 0:   0%|                                                                                                                   | 0/1 [00:00<?, ?it/s]\u001b[A\n",
      "Validation DataLoader 0: 100%|███████████████████████████████████████████████████████████████████████████████████████████████████████████| 1/1 [00:00<00:00, 12.89it/s]\u001b[A\n",
      "Epoch 46: 100%|███████████████████████████████████████████████████████████| 7/7 [00:02<00:00,  3.17it/s, train_loss_step=0.710, val_loss=1.010, train_loss_epoch=0.751]\u001b[A\n",
      "Validation: |                                                                                                                                    | 0/? [00:00<?, ?it/s]\u001b[A\n",
      "Validation:   0%|                                                                                                                                | 0/1 [00:00<?, ?it/s]\u001b[A\n",
      "Validation DataLoader 0:   0%|                                                                                                                   | 0/1 [00:00<?, ?it/s]\u001b[A\n",
      "Validation DataLoader 0: 100%|███████████████████████████████████████████████████████████████████████████████████████████████████████████| 1/1 [00:00<00:00, 12.64it/s]\u001b[A\n",
      "Epoch 47: 100%|███████████████████████████████████████████████████████████| 7/7 [00:01<00:00,  4.83it/s, train_loss_step=0.680, val_loss=1.020, train_loss_epoch=0.746]\u001b[A\n",
      "Validation: |                                                                                                                                    | 0/? [00:00<?, ?it/s]\u001b[A\n",
      "Validation:   0%|                                                                                                                                | 0/1 [00:00<?, ?it/s]\u001b[A\n",
      "Validation DataLoader 0:   0%|                                                                                                                   | 0/1 [00:00<?, ?it/s]\u001b[A\n",
      "Validation DataLoader 0: 100%|███████████████████████████████████████████████████████████████████████████████████████████████████████████| 1/1 [00:00<00:00, 12.98it/s]\u001b[A\n",
      "Epoch 48: 100%|███████████████████████████████████████████████████████████| 7/7 [00:01<00:00,  4.43it/s, train_loss_step=0.671, val_loss=1.010, train_loss_epoch=0.744]\u001b[A\n",
      "Validation: |                                                                                                                                    | 0/? [00:00<?, ?it/s]\u001b[A\n",
      "Validation:   0%|                                                                                                                                | 0/1 [00:00<?, ?it/s]\u001b[A\n",
      "Validation DataLoader 0:   0%|                                                                                                                   | 0/1 [00:00<?, ?it/s]\u001b[A\n",
      "Validation DataLoader 0: 100%|███████████████████████████████████████████████████████████████████████████████████████████████████████████| 1/1 [00:00<00:00, 10.82it/s]\u001b[A\n",
      "Epoch 49: 100%|███████████████████████████████████████████████████████████| 7/7 [00:01<00:00,  4.06it/s, train_loss_step=0.822, val_loss=1.000, train_loss_epoch=0.739]\u001b[A\n",
      "Validation: |                                                                                                                                    | 0/? [00:00<?, ?it/s]\u001b[A\n",
      "Validation:   0%|                                                                                                                                | 0/1 [00:00<?, ?it/s]\u001b[A\n",
      "Validation DataLoader 0:   0%|                                                                                                                   | 0/1 [00:00<?, ?it/s]\u001b[A\n",
      "Validation DataLoader 0: 100%|███████████████████████████████████████████████████████████████████████████████████████████████████████████| 1/1 [00:00<00:00, 10.93it/s]\u001b[A\n",
      "Epoch 49: 100%|███████████████████████████████████████████████████████████| 7/7 [00:01<00:00,  3.80it/s, train_loss_step=0.822, val_loss=1.010, train_loss_epoch=0.738]\u001b[A"
     ]
    },
    {
     "name": "stderr",
     "output_type": "stream",
     "text": [
      "`Trainer.fit` stopped: `max_epochs=50` reached.\n"
     ]
    },
    {
     "name": "stdout",
     "output_type": "stream",
     "text": [
      "Epoch 49: 100%|███████████████████████████████████████████████████████████| 7/7 [00:01<00:00,  3.77it/s, train_loss_step=0.822, val_loss=1.010, train_loss_epoch=0.738]\n"
     ]
    }
   ],
   "source": [
    "trainer.fit(atom_mpnn, train_loader, val_loader)"
   ]
  },
  {
   "cell_type": "markdown",
   "metadata": {},
   "source": [
    "# Test results"
   ]
  },
  {
   "cell_type": "code",
   "execution_count": 23,
   "metadata": {},
   "outputs": [
    {
     "name": "stderr",
     "output_type": "stream",
     "text": [
      "/opt/anaconda3/envs/chemprop/lib/python3.11/site-packages/lightning/pytorch/trainer/connectors/data_connector.py:424: The 'test_dataloader' does not have many workers which may be a bottleneck. Consider increasing the value of the `num_workers` argument` to `num_workers=7` in the `DataLoader` to improve performance.\n"
     ]
    },
    {
     "name": "stdout",
     "output_type": "stream",
     "text": [
      "Testing DataLoader 0: 100%|██████████████████████████████████████████████████████████████████████████████████████████████████████████████| 1/1 [00:00<00:00,  2.18it/s]\n"
     ]
    },
    {
     "data": {
      "text/html": [
       "<pre style=\"white-space:pre;overflow-x:auto;line-height:normal;font-family:Menlo,'DejaVu Sans Mono',consolas,'Courier New',monospace\">┏━━━━━━━━━━━━━━━━━━━━━━━━━━━┳━━━━━━━━━━━━━━━━━━━━━━━━━━━┓\n",
       "┃<span style=\"font-weight: bold\">        Test metric        </span>┃<span style=\"font-weight: bold\">       DataLoader 0        </span>┃\n",
       "┡━━━━━━━━━━━━━━━━━━━━━━━━━━━╇━━━━━━━━━━━━━━━━━━━━━━━━━━━┩\n",
       "│<span style=\"color: #008080; text-decoration-color: #008080\">         test/mae          </span>│<span style=\"color: #800080; text-decoration-color: #800080\">     0.184614896774292     </span>│\n",
       "│<span style=\"color: #008080; text-decoration-color: #008080\">         test/rmse         </span>│<span style=\"color: #800080; text-decoration-color: #800080\">    0.2524975836277008     </span>│\n",
       "└───────────────────────────┴───────────────────────────┘\n",
       "</pre>\n"
      ],
      "text/plain": [
       "┏━━━━━━━━━━━━━━━━━━━━━━━━━━━┳━━━━━━━━━━━━━━━━━━━━━━━━━━━┓\n",
       "┃\u001b[1m \u001b[0m\u001b[1m       Test metric       \u001b[0m\u001b[1m \u001b[0m┃\u001b[1m \u001b[0m\u001b[1m      DataLoader 0       \u001b[0m\u001b[1m \u001b[0m┃\n",
       "┡━━━━━━━━━━━━━━━━━━━━━━━━━━━╇━━━━━━━━━━━━━━━━━━━━━━━━━━━┩\n",
       "│\u001b[36m \u001b[0m\u001b[36m        test/mae         \u001b[0m\u001b[36m \u001b[0m│\u001b[35m \u001b[0m\u001b[35m    0.184614896774292    \u001b[0m\u001b[35m \u001b[0m│\n",
       "│\u001b[36m \u001b[0m\u001b[36m        test/rmse        \u001b[0m\u001b[36m \u001b[0m│\u001b[35m \u001b[0m\u001b[35m   0.2524975836277008    \u001b[0m\u001b[35m \u001b[0m│\n",
       "└───────────────────────────┴───────────────────────────┘\n"
      ]
     },
     "metadata": {},
     "output_type": "display_data"
    }
   ],
   "source": [
    "results = trainer.test(atom_mpnn, test_loader)"
   ]
  },
  {
   "cell_type": "markdown",
   "metadata": {},
   "source": [
    "# Predictions"
   ]
  },
  {
   "cell_type": "code",
   "execution_count": 24,
   "metadata": {},
   "outputs": [
    {
     "name": "stderr",
     "output_type": "stream",
     "text": [
      "/Users/brianli/Documents/chemprop/chemprop/models/model.py:242: FutureWarning: You are using `torch.load` with `weights_only=False` (the current default value), which uses the default pickle module implicitly. It is possible to construct malicious pickle data which will execute arbitrary code during unpickling (See https://github.com/pytorch/pytorch/blob/main/SECURITY.md#untrusted-models for more details). In a future release, the default value for `weights_only` will be flipped to `True`. This limits the functions that could be executed during unpickling. Arbitrary objects will no longer be allowed to be loaded via this mode unless they are explicitly allowlisted by the user via `torch.serialization.add_safe_globals`. We recommend you start setting `weights_only=True` for any use case where you don't have full control of the loaded file. Please open an issue on GitHub for any issues related to this experimental feature.\n",
      "  d = torch.load(path, map_location)\n",
      "GPU available: True (mps), used: True\n",
      "TPU available: False, using: 0 TPU cores\n",
      "HPU available: False, using: 0 HPUs\n",
      "/opt/anaconda3/envs/chemprop/lib/python3.11/site-packages/lightning/pytorch/trainer/connectors/data_connector.py:424: The 'predict_dataloader' does not have many workers which may be a bottleneck. Consider increasing the value of the `num_workers` argument` to `num_workers=7` in the `DataLoader` to improve performance.\n"
     ]
    },
    {
     "name": "stdout",
     "output_type": "stream",
     "text": [
      "Predicting DataLoader 0: 100%|███████████████████████████████████████████████████████████████████████████████████████████████████████████| 8/8 [00:01<00:00,  5.44it/s]\n"
     ]
    }
   ],
   "source": [
    "from chemprop.models import load_model\n",
    "import torch\n",
    "\n",
    "individual_preds = []\n",
    "model = load_model(checkpointing.best_model_path, False)\n",
    "trainer = pl.Trainer(\n",
    "    logger=False,\n",
    "    enable_progress_bar=True,\n",
    "    accelerator=\"auto\",\n",
    "    devices=1,\n",
    ")\n",
    "\n",
    "predss = trainer.predict(model, all_loader)\n",
    "individual_preds.append(torch.concat(predss, 0))\n",
    "\n",
    "average_preds = torch.mean(torch.stack(individual_preds).float(), dim=0)\n",
    "test_path = chemprop_dir / \"tests\" / \"data\" / \"atomic_regression_atom_mapped_input_copy.csv\"\n",
    "df_test = pd.read_csv(test_path, header=\"infer\", index_col=False)"
   ]
  },
  {
   "cell_type": "markdown",
   "metadata": {},
   "source": [
    "## Loaded Model"
   ]
  },
  {
   "cell_type": "code",
   "execution_count": 25,
   "metadata": {},
   "outputs": [
    {
     "data": {
      "text/plain": [
       "MPNN(\n",
       "  (message_passing): BondMessagePassing(\n",
       "    (W_i): Linear(in_features=86, out_features=300, bias=False)\n",
       "    (W_h): Linear(in_features=300, out_features=300, bias=False)\n",
       "    (W_o): Linear(in_features=372, out_features=300, bias=True)\n",
       "    (dropout): Dropout(p=0.0, inplace=False)\n",
       "    (tau): ReLU()\n",
       "    (V_d_transform): Identity()\n",
       "    (graph_transform): Identity()\n",
       "  )\n",
       "  (agg): NoAggregation()\n",
       "  (bn): BatchNorm1d(300, eps=1e-05, momentum=0.1, affine=True, track_running_stats=True)\n",
       "  (predictor): RegressionFFN(\n",
       "    (ffn): MLP(\n",
       "      (0): Sequential(\n",
       "        (0): Linear(in_features=300, out_features=300, bias=True)\n",
       "      )\n",
       "      (1): Sequential(\n",
       "        (0): ReLU()\n",
       "        (1): Dropout(p=0.0, inplace=False)\n",
       "        (2): Linear(in_features=300, out_features=2, bias=True)\n",
       "      )\n",
       "    )\n",
       "    (criterion): MSE(task_weights=[[1.0, 1.0]])\n",
       "    (output_transform): UnscaleTransform()\n",
       "  )\n",
       "  (X_d_transform): Identity()\n",
       "  (metrics): ModuleList(\n",
       "    (0): RMSE(task_weights=[[1.0]])\n",
       "    (1): MAE(task_weights=[[1.0]])\n",
       "    (2): MSE(task_weights=[[1.0, 1.0]])\n",
       "  )\n",
       ")"
      ]
     },
     "execution_count": 25,
     "metadata": {},
     "output_type": "execute_result"
    }
   ],
   "source": [
    "model"
   ]
  },
  {
   "cell_type": "code",
   "execution_count": 26,
   "metadata": {},
   "outputs": [
    {
     "data": {
      "text/html": [
       "<div>\n",
       "<style scoped>\n",
       "    .dataframe tbody tr th:only-of-type {\n",
       "        vertical-align: middle;\n",
       "    }\n",
       "\n",
       "    .dataframe tbody tr th {\n",
       "        vertical-align: top;\n",
       "    }\n",
       "\n",
       "    .dataframe thead th {\n",
       "        text-align: right;\n",
       "    }\n",
       "</style>\n",
       "<table border=\"1\" class=\"dataframe\">\n",
       "  <thead>\n",
       "    <tr style=\"text-align: right;\">\n",
       "      <th></th>\n",
       "      <th>smiles</th>\n",
       "      <th>charges</th>\n",
       "      <th>charges2</th>\n",
       "    </tr>\n",
       "  </thead>\n",
       "  <tbody>\n",
       "    <tr>\n",
       "      <th>0</th>\n",
       "      <td>[S:1]1[S:2][C:3]2([C:23]([H:41])([H:42])[H:43]...</td>\n",
       "      <td>[-0.09152235090732574, -0.10447606444358826, 0...</td>\n",
       "      <td>[-0.11580198258161545, -0.11142681539058685, 0...</td>\n",
       "    </tr>\n",
       "    <tr>\n",
       "      <th>1</th>\n",
       "      <td>[Cl:1][c:2]1[c:3]([C:9]([n:10]2[c:11](=[O:12])...</td>\n",
       "      <td>[-0.013743836432695389, 0.010362708009779453, ...</td>\n",
       "      <td>[-0.02371637150645256, -0.00389700080268085, -...</td>\n",
       "    </tr>\n",
       "    <tr>\n",
       "      <th>2</th>\n",
       "      <td>[C:1]([C:2](=[O:3])[N:4]1[C:5]([H:21])([H:22])...</td>\n",
       "      <td>[-0.23113900423049927, 0.25317031145095825, -0...</td>\n",
       "      <td>[-0.2422112375497818, 0.260274738073349, -0.18...</td>\n",
       "    </tr>\n",
       "    <tr>\n",
       "      <th>3</th>\n",
       "      <td>[C:1]([N:2]([C:3]([H:21])([H:22])[H:23])[c:4]1...</td>\n",
       "      <td>[-0.06081259623169899, -0.029927359893918037, ...</td>\n",
       "      <td>[-0.06609725952148438, -0.008858907036483288, ...</td>\n",
       "    </tr>\n",
       "    <tr>\n",
       "      <th>4</th>\n",
       "      <td>[C:1]([N:2]([C:3]([C:4]([C:5]([H:30])([H:31])[...</td>\n",
       "      <td>[-0.04096883907914162, -0.09204297512769699, 0...</td>\n",
       "      <td>[-0.039959415793418884, -0.07520220428705215, ...</td>\n",
       "    </tr>\n",
       "    <tr>\n",
       "      <th>...</th>\n",
       "      <td>...</td>\n",
       "      <td>...</td>\n",
       "      <td>...</td>\n",
       "    </tr>\n",
       "    <tr>\n",
       "      <th>495</th>\n",
       "      <td>[C:1]([c:2]1[n:3][c:4]([N:5]([C:6]([H:29])([H:...</td>\n",
       "      <td>[-0.24671706557273865, 0.1731046736240387, -0....</td>\n",
       "      <td>[-0.2535727620124817, 0.1788986772298813, -0.1...</td>\n",
       "    </tr>\n",
       "    <tr>\n",
       "      <th>496</th>\n",
       "      <td>[Cl:1][C:2]1([H:17])[C:3]([O:13][C:14]([C:15](...</td>\n",
       "      <td>[-0.08715737611055374, 0.1996276080608368, 0.0...</td>\n",
       "      <td>[-0.07638553529977798, 0.18689776957035065, 0....</td>\n",
       "    </tr>\n",
       "    <tr>\n",
       "      <th>497</th>\n",
       "      <td>[S:1]=[C:2]([N:3]1[C:4]([H:21])([H:22])[C:5]([...</td>\n",
       "      <td>[-0.18200545012950897, 0.02097875438630581, 0....</td>\n",
       "      <td>[-0.18575777113437653, 0.004051568917930126, 0...</td>\n",
       "    </tr>\n",
       "    <tr>\n",
       "      <th>498</th>\n",
       "      <td>[C:1]([C:2]([C:3]([H:24])([H:25])[H:26])([C:4]...</td>\n",
       "      <td>[-0.12469485402107239, 0.03164020553231239, -0...</td>\n",
       "      <td>[-0.13340750336647034, 0.04042607918381691, -0...</td>\n",
       "    </tr>\n",
       "    <tr>\n",
       "      <th>499</th>\n",
       "      <td>[C:1]([C:2]1([H:24])[C:3]([H:25])([H:26])[N:4]...</td>\n",
       "      <td>[-0.09774874895811081, 0.1809627115726471, -0....</td>\n",
       "      <td>[-0.09615445882081985, 0.16561532020568848, 0....</td>\n",
       "    </tr>\n",
       "  </tbody>\n",
       "</table>\n",
       "<p>500 rows × 3 columns</p>\n",
       "</div>"
      ],
      "text/plain": [
       "                                                smiles  \\\n",
       "0    [S:1]1[S:2][C:3]2([C:23]([H:41])([H:42])[H:43]...   \n",
       "1    [Cl:1][c:2]1[c:3]([C:9]([n:10]2[c:11](=[O:12])...   \n",
       "2    [C:1]([C:2](=[O:3])[N:4]1[C:5]([H:21])([H:22])...   \n",
       "3    [C:1]([N:2]([C:3]([H:21])([H:22])[H:23])[c:4]1...   \n",
       "4    [C:1]([N:2]([C:3]([C:4]([C:5]([H:30])([H:31])[...   \n",
       "..                                                 ...   \n",
       "495  [C:1]([c:2]1[n:3][c:4]([N:5]([C:6]([H:29])([H:...   \n",
       "496  [Cl:1][C:2]1([H:17])[C:3]([O:13][C:14]([C:15](...   \n",
       "497  [S:1]=[C:2]([N:3]1[C:4]([H:21])([H:22])[C:5]([...   \n",
       "498  [C:1]([C:2]([C:3]([H:24])([H:25])[H:26])([C:4]...   \n",
       "499  [C:1]([C:2]1([H:24])[C:3]([H:25])([H:26])[N:4]...   \n",
       "\n",
       "                                               charges  \\\n",
       "0    [-0.09152235090732574, -0.10447606444358826, 0...   \n",
       "1    [-0.013743836432695389, 0.010362708009779453, ...   \n",
       "2    [-0.23113900423049927, 0.25317031145095825, -0...   \n",
       "3    [-0.06081259623169899, -0.029927359893918037, ...   \n",
       "4    [-0.04096883907914162, -0.09204297512769699, 0...   \n",
       "..                                                 ...   \n",
       "495  [-0.24671706557273865, 0.1731046736240387, -0....   \n",
       "496  [-0.08715737611055374, 0.1996276080608368, 0.0...   \n",
       "497  [-0.18200545012950897, 0.02097875438630581, 0....   \n",
       "498  [-0.12469485402107239, 0.03164020553231239, -0...   \n",
       "499  [-0.09774874895811081, 0.1809627115726471, -0....   \n",
       "\n",
       "                                              charges2  \n",
       "0    [-0.11580198258161545, -0.11142681539058685, 0...  \n",
       "1    [-0.02371637150645256, -0.00389700080268085, -...  \n",
       "2    [-0.2422112375497818, 0.260274738073349, -0.18...  \n",
       "3    [-0.06609725952148438, -0.008858907036483288, ...  \n",
       "4    [-0.039959415793418884, -0.07520220428705215, ...  \n",
       "..                                                 ...  \n",
       "495  [-0.2535727620124817, 0.1788986772298813, -0.1...  \n",
       "496  [-0.07638553529977798, 0.18689776957035065, 0....  \n",
       "497  [-0.18575777113437653, 0.004051568917930126, 0...  \n",
       "498  [-0.13340750336647034, 0.04042607918381691, -0...  \n",
       "499  [-0.09615445882081985, 0.16561532020568848, 0....  \n",
       "\n",
       "[500 rows x 3 columns]"
      ]
     },
     "execution_count": 26,
     "metadata": {},
     "output_type": "execute_result"
    }
   ],
   "source": [
    "for i in range(len(df_test)):\n",
    "    first_atom = slices.index(i)\n",
    "    last_atom = first_atom + slices.count(i)\n",
    "    mol_avg_preds = average_preds[first_atom:last_atom]\n",
    "    df_test.loc[i, target_columns] = [str(mol_avg_preds[:,j].tolist()) for j in range(len(target_columns))]\n",
    "\n",
    "#torch.split(average_preds, split_size_or_sections=torch.bincount(torch.tensor(slices)).tolist(), dim=0)\n",
    "\n",
    "output_path = chemprop_dir / \"tests\" / \"data\" / \"atomic_regression_atom_mapped_output.csv\"\n",
    "if output_path.suffix == \".pkl\":\n",
    "    df_test = df_test.reset_index(drop=True)\n",
    "    df_test.to_pickle(output_path)\n",
    "else:\n",
    "    df_test.to_csv(output_path, index=False)\n",
    "\n",
    "df_test"
   ]
  }
 ],
 "metadata": {
  "kernelspec": {
   "display_name": "Python 3 (ipykernel)",
   "language": "python",
   "name": "python3"
  },
  "language_info": {
   "codemirror_mode": {
    "name": "ipython",
    "version": 3
   },
   "file_extension": ".py",
   "mimetype": "text/x-python",
   "name": "python",
   "nbconvert_exporter": "python",
   "pygments_lexer": "ipython3",
   "version": "3.11.9"
  }
 },
 "nbformat": 4,
 "nbformat_minor": 4
}
